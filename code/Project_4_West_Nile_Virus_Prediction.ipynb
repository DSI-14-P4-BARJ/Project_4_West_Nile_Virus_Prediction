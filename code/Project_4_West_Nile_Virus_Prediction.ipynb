{
 "cells": [
  {
   "cell_type": "markdown",
   "metadata": {
    "colab_type": "text",
    "id": "hGAJ6EZTN2yO"
   },
   "source": [
    "# Project 4 "
   ]
  },
  {
   "cell_type": "markdown",
   "metadata": {},
   "source": [
    "## Problem Statement"
   ]
  },
  {
   "cell_type": "markdown",
   "metadata": {},
   "source": [
    "## Executive Summary"
   ]
  },
  {
   "cell_type": "markdown",
   "metadata": {},
   "source": [
    "### Import libraries"
   ]
  },
  {
   "cell_type": "code",
   "execution_count": 1,
   "metadata": {
    "colab": {},
    "colab_type": "code",
    "id": "6jXqaTwHKQlp"
   },
   "outputs": [],
   "source": [
    "import pandas as pd\n",
    "import numpy as np\n",
    "import matplotlib.pyplot as plt\n",
    "import pyreadr\n",
    "import seaborn as sns\n",
    "\n",
    "import myfunctions as f\n",
    "\n",
    "import io\n",
    "\n",
    "%matplotlib inline"
   ]
  },
  {
   "cell_type": "markdown",
   "metadata": {
    "colab_type": "text",
    "id": "Fp8NgMyLL57s"
   },
   "source": [
    "### Data Import"
   ]
  },
  {
   "cell_type": "code",
   "execution_count": 2,
   "metadata": {},
   "outputs": [],
   "source": [
    "\n",
    "df_train = pd.read_csv('../datasets/train.csv')\n",
    "df_test = pd.read_csv('../datasets/test.csv')\n",
    "df_spray = pd.read_csv('../datasets/spray.csv')\n",
    "df_weather = pd.read_csv('../datasets/weather.csv')"
   ]
  },
  {
   "cell_type": "markdown",
   "metadata": {},
   "source": [
    "## EDA"
   ]
  },
  {
   "cell_type": "code",
   "execution_count": 3,
   "metadata": {},
   "outputs": [
    {
     "data": {
      "text/html": [
       "<div>\n",
       "<style scoped>\n",
       "    .dataframe tbody tr th:only-of-type {\n",
       "        vertical-align: middle;\n",
       "    }\n",
       "\n",
       "    .dataframe tbody tr th {\n",
       "        vertical-align: top;\n",
       "    }\n",
       "\n",
       "    .dataframe thead th {\n",
       "        text-align: right;\n",
       "    }\n",
       "</style>\n",
       "<table border=\"1\" class=\"dataframe\">\n",
       "  <thead>\n",
       "    <tr style=\"text-align: right;\">\n",
       "      <th></th>\n",
       "      <th>Station</th>\n",
       "      <th>Date</th>\n",
       "      <th>Tmax</th>\n",
       "      <th>Tmin</th>\n",
       "      <th>Tavg</th>\n",
       "      <th>Depart</th>\n",
       "      <th>DewPoint</th>\n",
       "      <th>WetBulb</th>\n",
       "      <th>Heat</th>\n",
       "      <th>Cool</th>\n",
       "      <th>...</th>\n",
       "      <th>CodeSum</th>\n",
       "      <th>Depth</th>\n",
       "      <th>Water1</th>\n",
       "      <th>SnowFall</th>\n",
       "      <th>PrecipTotal</th>\n",
       "      <th>StnPressure</th>\n",
       "      <th>SeaLevel</th>\n",
       "      <th>ResultSpeed</th>\n",
       "      <th>ResultDir</th>\n",
       "      <th>AvgSpeed</th>\n",
       "    </tr>\n",
       "  </thead>\n",
       "  <tbody>\n",
       "    <tr>\n",
       "      <td>0</td>\n",
       "      <td>1</td>\n",
       "      <td>2007-05-01</td>\n",
       "      <td>83</td>\n",
       "      <td>50</td>\n",
       "      <td>67</td>\n",
       "      <td>14</td>\n",
       "      <td>51</td>\n",
       "      <td>56</td>\n",
       "      <td>0</td>\n",
       "      <td>2</td>\n",
       "      <td>...</td>\n",
       "      <td></td>\n",
       "      <td>0</td>\n",
       "      <td>M</td>\n",
       "      <td>0.0</td>\n",
       "      <td>0.00</td>\n",
       "      <td>29.10</td>\n",
       "      <td>29.82</td>\n",
       "      <td>1.7</td>\n",
       "      <td>27</td>\n",
       "      <td>9.2</td>\n",
       "    </tr>\n",
       "    <tr>\n",
       "      <td>1</td>\n",
       "      <td>2</td>\n",
       "      <td>2007-05-01</td>\n",
       "      <td>84</td>\n",
       "      <td>52</td>\n",
       "      <td>68</td>\n",
       "      <td>M</td>\n",
       "      <td>51</td>\n",
       "      <td>57</td>\n",
       "      <td>0</td>\n",
       "      <td>3</td>\n",
       "      <td>...</td>\n",
       "      <td></td>\n",
       "      <td>M</td>\n",
       "      <td>M</td>\n",
       "      <td>M</td>\n",
       "      <td>0.00</td>\n",
       "      <td>29.18</td>\n",
       "      <td>29.82</td>\n",
       "      <td>2.7</td>\n",
       "      <td>25</td>\n",
       "      <td>9.6</td>\n",
       "    </tr>\n",
       "    <tr>\n",
       "      <td>2</td>\n",
       "      <td>1</td>\n",
       "      <td>2007-05-02</td>\n",
       "      <td>59</td>\n",
       "      <td>42</td>\n",
       "      <td>51</td>\n",
       "      <td>-3</td>\n",
       "      <td>42</td>\n",
       "      <td>47</td>\n",
       "      <td>14</td>\n",
       "      <td>0</td>\n",
       "      <td>...</td>\n",
       "      <td>BR</td>\n",
       "      <td>0</td>\n",
       "      <td>M</td>\n",
       "      <td>0.0</td>\n",
       "      <td>0.00</td>\n",
       "      <td>29.38</td>\n",
       "      <td>30.09</td>\n",
       "      <td>13.0</td>\n",
       "      <td>4</td>\n",
       "      <td>13.4</td>\n",
       "    </tr>\n",
       "    <tr>\n",
       "      <td>3</td>\n",
       "      <td>2</td>\n",
       "      <td>2007-05-02</td>\n",
       "      <td>60</td>\n",
       "      <td>43</td>\n",
       "      <td>52</td>\n",
       "      <td>M</td>\n",
       "      <td>42</td>\n",
       "      <td>47</td>\n",
       "      <td>13</td>\n",
       "      <td>0</td>\n",
       "      <td>...</td>\n",
       "      <td>BR HZ</td>\n",
       "      <td>M</td>\n",
       "      <td>M</td>\n",
       "      <td>M</td>\n",
       "      <td>0.00</td>\n",
       "      <td>29.44</td>\n",
       "      <td>30.08</td>\n",
       "      <td>13.3</td>\n",
       "      <td>2</td>\n",
       "      <td>13.4</td>\n",
       "    </tr>\n",
       "    <tr>\n",
       "      <td>4</td>\n",
       "      <td>1</td>\n",
       "      <td>2007-05-03</td>\n",
       "      <td>66</td>\n",
       "      <td>46</td>\n",
       "      <td>56</td>\n",
       "      <td>2</td>\n",
       "      <td>40</td>\n",
       "      <td>48</td>\n",
       "      <td>9</td>\n",
       "      <td>0</td>\n",
       "      <td>...</td>\n",
       "      <td></td>\n",
       "      <td>0</td>\n",
       "      <td>M</td>\n",
       "      <td>0.0</td>\n",
       "      <td>0.00</td>\n",
       "      <td>29.39</td>\n",
       "      <td>30.12</td>\n",
       "      <td>11.7</td>\n",
       "      <td>7</td>\n",
       "      <td>11.9</td>\n",
       "    </tr>\n",
       "  </tbody>\n",
       "</table>\n",
       "<p>5 rows × 22 columns</p>\n",
       "</div>"
      ],
      "text/plain": [
       "   Station        Date  Tmax  Tmin Tavg Depart  DewPoint WetBulb Heat Cool  \\\n",
       "0        1  2007-05-01    83    50   67     14        51      56    0    2   \n",
       "1        2  2007-05-01    84    52   68      M        51      57    0    3   \n",
       "2        1  2007-05-02    59    42   51     -3        42      47   14    0   \n",
       "3        2  2007-05-02    60    43   52      M        42      47   13    0   \n",
       "4        1  2007-05-03    66    46   56      2        40      48    9    0   \n",
       "\n",
       "   ... CodeSum Depth Water1 SnowFall PrecipTotal StnPressure SeaLevel  \\\n",
       "0  ...             0      M      0.0        0.00       29.10    29.82   \n",
       "1  ...             M      M        M        0.00       29.18    29.82   \n",
       "2  ...      BR     0      M      0.0        0.00       29.38    30.09   \n",
       "3  ...   BR HZ     M      M        M        0.00       29.44    30.08   \n",
       "4  ...             0      M      0.0        0.00       29.39    30.12   \n",
       "\n",
       "  ResultSpeed ResultDir  AvgSpeed  \n",
       "0         1.7        27       9.2  \n",
       "1         2.7        25       9.6  \n",
       "2        13.0         4      13.4  \n",
       "3        13.3         2      13.4  \n",
       "4        11.7         7      11.9  \n",
       "\n",
       "[5 rows x 22 columns]"
      ]
     },
     "execution_count": 3,
     "metadata": {},
     "output_type": "execute_result"
    }
   ],
   "source": [
    "df_weather.head()"
   ]
  },
  {
   "cell_type": "code",
   "execution_count": 4,
   "metadata": {},
   "outputs": [
    {
     "data": {
      "text/plain": [
       "Station          int64\n",
       "Date            object\n",
       "Tmax             int64\n",
       "Tmin             int64\n",
       "Tavg            object\n",
       "Depart          object\n",
       "DewPoint         int64\n",
       "WetBulb         object\n",
       "Heat            object\n",
       "Cool            object\n",
       "Sunrise         object\n",
       "Sunset          object\n",
       "CodeSum         object\n",
       "Depth           object\n",
       "Water1          object\n",
       "SnowFall        object\n",
       "PrecipTotal     object\n",
       "StnPressure     object\n",
       "SeaLevel        object\n",
       "ResultSpeed    float64\n",
       "ResultDir        int64\n",
       "AvgSpeed        object\n",
       "dtype: object"
      ]
     },
     "execution_count": 4,
     "metadata": {},
     "output_type": "execute_result"
    }
   ],
   "source": [
    "df_weather.dtypes"
   ]
  },
  {
   "cell_type": "code",
   "execution_count": 5,
   "metadata": {},
   "outputs": [],
   "source": [
    "df_train.columns = df_train.columns.str.lower()"
   ]
  },
  {
   "cell_type": "code",
   "execution_count": 6,
   "metadata": {},
   "outputs": [],
   "source": [
    "df_spray = df_spray.loc[df_spray['Longitude'] > -88]"
   ]
  },
  {
   "cell_type": "code",
   "execution_count": 7,
   "metadata": {},
   "outputs": [],
   "source": [
    "#df_spray['Date'] = pd.to_datetime(df_spray['Date'])"
   ]
  },
  {
   "cell_type": "code",
   "execution_count": 8,
   "metadata": {
    "scrolled": true
   },
   "outputs": [],
   "source": [
    "#test = df_train.loc[df_train['date'].str.contains('2013')]\n",
    "#spraytest = df_spray.loc[df_spray['date'].str.contains('2013')]\n",
    "#test"
   ]
  },
  {
   "cell_type": "code",
   "execution_count": 9,
   "metadata": {},
   "outputs": [],
   "source": [
    "#date2013 = [row for row in test['Date']]\n",
    "#date2013.extend([row for row in spraytest['Date']])\n",
    "#date2013 = list(dict.fromkeys(date2013))\n",
    "from datetime import datetime    \n",
    "#date2013.sort(key=lambda date: datetime.strptime(date, \"%Y-%m-%d\"))\n",
    "\n",
    "\n",
    "#date2013"
   ]
  },
  {
   "cell_type": "code",
   "execution_count": 10,
   "metadata": {},
   "outputs": [],
   "source": [
    "#date2013 = ['2013-06-07','2013-09-26']"
   ]
  },
  {
   "cell_type": "code",
   "execution_count": 11,
   "metadata": {},
   "outputs": [
    {
     "data": {
      "text/plain": [
       "CULEX PIPIENS/RESTUANS    4752\n",
       "CULEX RESTUANS            2740\n",
       "CULEX PIPIENS             2699\n",
       "CULEX TERRITANS            222\n",
       "CULEX SALINARIUS            86\n",
       "CULEX TARSALIS               6\n",
       "CULEX ERRATICUS              1\n",
       "Name: species, dtype: int64"
      ]
     },
     "execution_count": 11,
     "metadata": {},
     "output_type": "execute_result"
    }
   ],
   "source": [
    "df_train['species'].value_counts()"
   ]
  },
  {
   "cell_type": "code",
   "execution_count": 12,
   "metadata": {},
   "outputs": [
    {
     "data": {
      "text/html": [
       "<div>\n",
       "<style scoped>\n",
       "    .dataframe tbody tr th:only-of-type {\n",
       "        vertical-align: middle;\n",
       "    }\n",
       "\n",
       "    .dataframe tbody tr th {\n",
       "        vertical-align: top;\n",
       "    }\n",
       "\n",
       "    .dataframe thead th {\n",
       "        text-align: right;\n",
       "    }\n",
       "</style>\n",
       "<table border=\"1\" class=\"dataframe\">\n",
       "  <thead>\n",
       "    <tr style=\"text-align: right;\">\n",
       "      <th></th>\n",
       "      <th>wnvpresent</th>\n",
       "    </tr>\n",
       "    <tr>\n",
       "      <th>species</th>\n",
       "      <th></th>\n",
       "    </tr>\n",
       "  </thead>\n",
       "  <tbody>\n",
       "    <tr>\n",
       "      <td>CULEX ERRATICUS</td>\n",
       "      <td>0.000000</td>\n",
       "    </tr>\n",
       "    <tr>\n",
       "      <td>CULEX PIPIENS</td>\n",
       "      <td>0.088922</td>\n",
       "    </tr>\n",
       "    <tr>\n",
       "      <td>CULEX PIPIENS/RESTUANS</td>\n",
       "      <td>0.055135</td>\n",
       "    </tr>\n",
       "    <tr>\n",
       "      <td>CULEX RESTUANS</td>\n",
       "      <td>0.017883</td>\n",
       "    </tr>\n",
       "    <tr>\n",
       "      <td>CULEX SALINARIUS</td>\n",
       "      <td>0.000000</td>\n",
       "    </tr>\n",
       "    <tr>\n",
       "      <td>CULEX TARSALIS</td>\n",
       "      <td>0.000000</td>\n",
       "    </tr>\n",
       "    <tr>\n",
       "      <td>CULEX TERRITANS</td>\n",
       "      <td>0.000000</td>\n",
       "    </tr>\n",
       "  </tbody>\n",
       "</table>\n",
       "</div>"
      ],
      "text/plain": [
       "                        wnvpresent\n",
       "species                           \n",
       "CULEX ERRATICUS           0.000000\n",
       "CULEX PIPIENS             0.088922\n",
       "CULEX PIPIENS/RESTUANS    0.055135\n",
       "CULEX RESTUANS            0.017883\n",
       "CULEX SALINARIUS          0.000000\n",
       "CULEX TARSALIS            0.000000\n",
       "CULEX TERRITANS           0.000000"
      ]
     },
     "execution_count": 12,
     "metadata": {},
     "output_type": "execute_result"
    }
   ],
   "source": [
    "pd.pivot_table(df_train, index='species', values='wnvpresent')"
   ]
  },
  {
   "cell_type": "code",
   "execution_count": 13,
   "metadata": {},
   "outputs": [
    {
     "data": {
      "text/html": [
       "<div>\n",
       "<style scoped>\n",
       "    .dataframe tbody tr th:only-of-type {\n",
       "        vertical-align: middle;\n",
       "    }\n",
       "\n",
       "    .dataframe tbody tr th {\n",
       "        vertical-align: top;\n",
       "    }\n",
       "\n",
       "    .dataframe thead th {\n",
       "        text-align: right;\n",
       "    }\n",
       "</style>\n",
       "<table border=\"1\" class=\"dataframe\">\n",
       "  <thead>\n",
       "    <tr style=\"text-align: right;\">\n",
       "      <th></th>\n",
       "      <th>wnvpresent</th>\n",
       "      <th>nummosquitos</th>\n",
       "    </tr>\n",
       "    <tr>\n",
       "      <th>trap</th>\n",
       "      <th></th>\n",
       "      <th></th>\n",
       "    </tr>\n",
       "  </thead>\n",
       "  <tbody>\n",
       "    <tr>\n",
       "      <td>T143</td>\n",
       "      <td>0.193548</td>\n",
       "      <td>7.419355</td>\n",
       "    </tr>\n",
       "    <tr>\n",
       "      <td>T006</td>\n",
       "      <td>0.166667</td>\n",
       "      <td>4.458333</td>\n",
       "    </tr>\n",
       "    <tr>\n",
       "      <td>T005</td>\n",
       "      <td>0.142857</td>\n",
       "      <td>3.571429</td>\n",
       "    </tr>\n",
       "    <tr>\n",
       "      <td>T233</td>\n",
       "      <td>0.140000</td>\n",
       "      <td>15.160000</td>\n",
       "    </tr>\n",
       "    <tr>\n",
       "      <td>T014</td>\n",
       "      <td>0.133333</td>\n",
       "      <td>12.133333</td>\n",
       "    </tr>\n",
       "    <tr>\n",
       "      <td>T096</td>\n",
       "      <td>0.120000</td>\n",
       "      <td>11.560000</td>\n",
       "    </tr>\n",
       "    <tr>\n",
       "      <td>T003</td>\n",
       "      <td>0.114754</td>\n",
       "      <td>11.032787</td>\n",
       "    </tr>\n",
       "    <tr>\n",
       "      <td>T015</td>\n",
       "      <td>0.114286</td>\n",
       "      <td>4.828571</td>\n",
       "    </tr>\n",
       "    <tr>\n",
       "      <td>T235</td>\n",
       "      <td>0.112903</td>\n",
       "      <td>8.983871</td>\n",
       "    </tr>\n",
       "    <tr>\n",
       "      <td>T054C</td>\n",
       "      <td>0.111111</td>\n",
       "      <td>16.111111</td>\n",
       "    </tr>\n",
       "  </tbody>\n",
       "</table>\n",
       "</div>"
      ],
      "text/plain": [
       "       wnvpresent  nummosquitos\n",
       "trap                           \n",
       "T143     0.193548      7.419355\n",
       "T006     0.166667      4.458333\n",
       "T005     0.142857      3.571429\n",
       "T233     0.140000     15.160000\n",
       "T014     0.133333     12.133333\n",
       "T096     0.120000     11.560000\n",
       "T003     0.114754     11.032787\n",
       "T015     0.114286      4.828571\n",
       "T235     0.112903      8.983871\n",
       "T054C    0.111111     16.111111"
      ]
     },
     "execution_count": 13,
     "metadata": {},
     "output_type": "execute_result"
    }
   ],
   "source": [
    "top10 = df_train.groupby('trap')['wnvpresent','nummosquitos'].mean().sort_values(by='wnvpresent',ascending=False)\n",
    "top10.head(10)"
   ]
  },
  {
   "cell_type": "code",
   "execution_count": 14,
   "metadata": {},
   "outputs": [
    {
     "data": {
      "text/plain": [
       "(array([5585., 1411.,  697.,  492.,  317.,  259.,  196.,  220.,  159.,\n",
       "        1170.]),\n",
       " array([ 1. ,  5.9, 10.8, 15.7, 20.6, 25.5, 30.4, 35.3, 40.2, 45.1, 50. ]),\n",
       " <a list of 10 Patch objects>)"
      ]
     },
     "execution_count": 14,
     "metadata": {},
     "output_type": "execute_result"
    },
    {
     "data": {
      "image/png": "[encoded data removed]",
      "text/plain": [
       "<Figure size 432x288 with 1 Axes>"
      ]
     },
     "metadata": {
      "needs_background": "light"
     },
     "output_type": "display_data"
    }
   ],
   "source": [
    "plt.hist(data=df_train,x='nummosquitos')"
   ]
  },
  {
   "cell_type": "code",
   "execution_count": 15,
   "metadata": {},
   "outputs": [],
   "source": [
    "#spray2013.groupby(['Date']).mean()"
   ]
  },
  {
   "cell_type": "code",
   "execution_count": 16,
   "metadata": {},
   "outputs": [],
   "source": [
    "#for i in date2013:\n",
    "#    nownv2013 = df_train.loc[(df_train['Date'] == i) & (df_train['WnvPresent'] == 0)]\n",
    "#    wnv2013 = df_train.loc[(df_train['Date'] == i) & (df_train['WnvPresent'] == 1)]\n",
    "#    if i == '2013-06-07':\n",
    "#        spraying = spray2013.loc[spray2013['Date'] == i]\n",
    "#    else:\n",
    "#        spraying = spraying.append(spray2013.loc[spray2013['Date'] == i])\n",
    "#    f.gen_map()\n",
    "#    locations = nownv2013[['Longitude', 'Latitude']].drop_duplicates().values\n",
    "#    locations1 = wnv2013[['Longitude', 'Latitude']].drop_duplicates().values\n",
    "#    locations2 = spraying[['Longitude', 'Latitude']].drop_duplicates().values\n",
    "#    plt.scatter(locations2[:,0], locations2[:,1], marker='o', c='g')\n",
    "#    plt.scatter(locations[:,0], locations[:,1], marker='x', c='b')\n",
    "#    plt.scatter(locations1[:,0], locations1[:,1], marker='x', c='r')\n",
    "#    plt.title(i)\n",
    "#    plt.pause(0.05)\n",
    "\n",
    "#plt.show()"
   ]
  },
  {
   "cell_type": "code",
   "execution_count": 17,
   "metadata": {},
   "outputs": [
    {
     "data": {
      "text/plain": [
       "Index(['Date', 'Time', 'Latitude', 'Longitude'], dtype='object')"
      ]
     },
     "execution_count": 17,
     "metadata": {},
     "output_type": "execute_result"
    }
   ],
   "source": [
    "df_spray.columns"
   ]
  },
  {
   "cell_type": "code",
   "execution_count": 18,
   "metadata": {},
   "outputs": [],
   "source": [
    "df_train['date'] = pd.to_datetime(df_train['date'])"
   ]
  },
  {
   "cell_type": "code",
   "execution_count": 19,
   "metadata": {},
   "outputs": [
    {
     "data": {
      "text/plain": [
       "date                      datetime64[ns]\n",
       "address                           object\n",
       "species                           object\n",
       "block                              int64\n",
       "street                            object\n",
       "trap                              object\n",
       "addressnumberandstreet            object\n",
       "latitude                         float64\n",
       "longitude                        float64\n",
       "addressaccuracy                    int64\n",
       "nummosquitos                       int64\n",
       "wnvpresent                         int64\n",
       "dtype: object"
      ]
     },
     "execution_count": 19,
     "metadata": {},
     "output_type": "execute_result"
    }
   ],
   "source": [
    "df_train.dtypes"
   ]
  },
  {
   "cell_type": "code",
   "execution_count": 20,
   "metadata": {},
   "outputs": [
    {
     "data": {
      "text/plain": [
       "Index(['Station', 'Date', 'Tmax', 'Tmin', 'Tavg', 'Depart', 'DewPoint',\n",
       "       'WetBulb', 'Heat', 'Cool', 'Sunrise', 'Sunset', 'CodeSum', 'Depth',\n",
       "       'Water1', 'SnowFall', 'PrecipTotal', 'StnPressure', 'SeaLevel',\n",
       "       'ResultSpeed', 'ResultDir', 'AvgSpeed'],\n",
       "      dtype='object')"
      ]
     },
     "execution_count": 20,
     "metadata": {},
     "output_type": "execute_result"
    }
   ],
   "source": [
    "df_weather.columns"
   ]
  },
  {
   "cell_type": "code",
   "execution_count": 21,
   "metadata": {},
   "outputs": [],
   "source": [
    "# Roshan's weather cleaning\n",
    "def update_cols(data):\n",
    "    data = data.replace('M', np.nan)\n",
    "    data = data.replace('-', np.nan)\n",
    "    data = data.replace(' ', np.nan)\n",
    "    data = data.replace('  T', '0.05')\n",
    "    return data\n",
    "\n",
    "df_weather.columns = df_weather.columns.str.lower()\n",
    "df_weather = update_cols(df_weather)\n",
    "\n",
    "def mirror_columns(columns):\n",
    "    df_weather[columns] = df_weather.apply(lambda x: df_weather.iloc[::2][columns].values.repeat(2))\n",
    "    \n",
    "# Fill in the missing data from station 2 by mirroring station 1\n",
    "mirror_columns('depart')\n",
    "mirror_columns('sunrise')\n",
    "mirror_columns('sunset')\n",
    "mirror_columns('depth')\n",
    "mirror_columns('snowfall')\n",
    "\n",
    "# Drop water1 column as its missing all the data\n",
    "df_weather.drop(['water1'], axis = 1, inplace= True)\n",
    "# Fiil up blank cells in codesum with 'MODERATE'\n",
    "df_weather['codesum'] = df_weather['codesum'].replace(np.nan, 'MODERATE')\n",
    "# Fill null values with column median\n",
    "def fill_null(columns):\n",
    "    df_weather[columns] = df_weather[columns].fillna(df_weather[columns].median())\n",
    "    \n",
    "fill_null('preciptotal')\n",
    "fill_null('avgspeed')\n",
    "fill_null('wetbulb')\n",
    "fill_null('stnpressure')\n",
    "fill_null('sealevel')\n",
    "fill_null('heat')\n",
    "fill_null('cool')\n",
    "\n",
    "# Fill null values of Tavg column with the average of Tmax and Tmin columns (Tmax + Tmin)/2\n",
    "df_weather['tavg'] = df_weather.apply(lambda row: (row['tmax'] + row['tmin']) * 0.5\n",
    "                                      if pd.isnull(row['tavg']) else row['tavg'], axis=1)\n",
    "\n",
    "def change_dtype_flt(columns):\n",
    "    df_weather[columns] = df_weather[columns].astype(float)\n",
    "    \n",
    "# Amend the column data type to float\n",
    "change_dtype_flt('preciptotal')\n",
    "change_dtype_flt('stnpressure')\n",
    "change_dtype_flt('sealevel')\n",
    "change_dtype_flt('avgspeed')\n",
    "change_dtype_flt('preciptotal')\n",
    "change_dtype_flt('tavg')\n",
    "change_dtype_flt('snowfall')\n",
    "\n",
    "def change_dtype_int(columns):\n",
    "    df_weather[columns] = df_weather[columns].astype(int)\n",
    "\n",
    "# Amend the column data type to string\n",
    "change_dtype_int('depart')\n",
    "change_dtype_int('wetbulb')\n",
    "change_dtype_int('heat')\n",
    "change_dtype_int('cool')\n",
    "change_dtype_int('sunrise')\n",
    "change_dtype_int('sunset')\n",
    "change_dtype_int('depth')\n",
    "\n",
    "# Convert object to datetime and create individual columns for year, month and day\n",
    "df_weather['date'] = pd.to_datetime(df_weather['date'])\n",
    "df_weather['year'] = df_weather['date'].dt.year\n",
    "df_weather['month'] = df_weather['date'].dt.month\n",
    "df_weather['day'] = df_weather['date'].dt.day\n",
    "\n",
    "# Allows to identify days with volatile weather\n",
    "df_weather['trange'] = df_weather['tmax'] - df_weather['tmin']"
   ]
  },
  {
   "cell_type": "code",
   "execution_count": 22,
   "metadata": {},
   "outputs": [
    {
     "data": {
      "text/plain": [
       "trange         0\n",
       "sunset         0\n",
       "date           0\n",
       "tmax           0\n",
       "tmin           0\n",
       "tavg           0\n",
       "depart         0\n",
       "dewpoint       0\n",
       "wetbulb        0\n",
       "heat           0\n",
       "cool           0\n",
       "sunrise        0\n",
       "codesum        0\n",
       "day            0\n",
       "depth          0\n",
       "snowfall       0\n",
       "preciptotal    0\n",
       "stnpressure    0\n",
       "sealevel       0\n",
       "resultspeed    0\n",
       "resultdir      0\n",
       "avgspeed       0\n",
       "year           0\n",
       "month          0\n",
       "station        0\n",
       "dtype: int64"
      ]
     },
     "execution_count": 22,
     "metadata": {},
     "output_type": "execute_result"
    }
   ],
   "source": [
    "df_weather.isnull().sum().sort_values(ascending=False)"
   ]
  },
  {
   "cell_type": "code",
   "execution_count": 23,
   "metadata": {},
   "outputs": [
    {
     "data": {
      "text/plain": [
       "station                 int64\n",
       "date           datetime64[ns]\n",
       "tmax                    int64\n",
       "tmin                    int64\n",
       "tavg                  float64\n",
       "depart                  int32\n",
       "dewpoint                int64\n",
       "wetbulb                 int32\n",
       "heat                    int32\n",
       "cool                    int32\n",
       "sunrise                 int32\n",
       "sunset                  int32\n",
       "codesum                object\n",
       "depth                   int32\n",
       "snowfall              float64\n",
       "preciptotal           float64\n",
       "stnpressure           float64\n",
       "sealevel              float64\n",
       "resultspeed           float64\n",
       "resultdir               int64\n",
       "avgspeed              float64\n",
       "year                    int64\n",
       "month                   int64\n",
       "day                     int64\n",
       "trange                  int64\n",
       "dtype: object"
      ]
     },
     "execution_count": 23,
     "metadata": {},
     "output_type": "execute_result"
    }
   ],
   "source": [
    "df_weather.dtypes"
   ]
  },
  {
   "cell_type": "code",
   "execution_count": 24,
   "metadata": {},
   "outputs": [
    {
     "data": {
      "text/plain": [
       "tavg    0\n",
       "dtype: int64"
      ]
     },
     "execution_count": 24,
     "metadata": {},
     "output_type": "execute_result"
    }
   ],
   "source": [
    "df_weather[['tavg']].isnull().sum()"
   ]
  },
  {
   "cell_type": "code",
   "execution_count": 25,
   "metadata": {},
   "outputs": [],
   "source": [
    "df = pd.merge(df_train, df_weather, on=\"date\")"
   ]
  },
  {
   "cell_type": "code",
   "execution_count": 26,
   "metadata": {},
   "outputs": [
    {
     "data": {
      "text/plain": [
       "date            0\n",
       "nummosquitos    0\n",
       "species         0\n",
       "tavg            0\n",
       "wnvpresent      0\n",
       "sealevel        0\n",
       "dewpoint        0\n",
       "wetbulb         0\n",
       "preciptotal     0\n",
       "stnpressure     0\n",
       "dtype: int64"
      ]
     },
     "execution_count": 26,
     "metadata": {},
     "output_type": "execute_result"
    }
   ],
   "source": [
    "df[['date', 'nummosquitos', 'species', 'tavg', 'wnvpresent', 'sealevel', 'dewpoint', 'wetbulb', 'preciptotal', 'stnpressure']].isnull().sum()"
   ]
  },
  {
   "cell_type": "code",
   "execution_count": 27,
   "metadata": {},
   "outputs": [],
   "source": [
    "df = df[['date', 'nummosquitos', 'species', 'tavg', 'wnvpresent', 'sealevel', 'dewpoint', 'wetbulb', 'preciptotal', 'stnpressure']]"
   ]
  },
  {
   "cell_type": "code",
   "execution_count": 28,
   "metadata": {},
   "outputs": [
    {
     "data": {
      "text/plain": [
       "date            datetime64[ns]\n",
       "nummosquitos             int64\n",
       "species                 object\n",
       "tavg                   float64\n",
       "wnvpresent               int64\n",
       "sealevel               float64\n",
       "dewpoint                 int64\n",
       "wetbulb                  int32\n",
       "preciptotal            float64\n",
       "stnpressure            float64\n",
       "dtype: object"
      ]
     },
     "execution_count": 28,
     "metadata": {},
     "output_type": "execute_result"
    }
   ],
   "source": [
    "df.dtypes"
   ]
  },
  {
   "cell_type": "code",
   "execution_count": 29,
   "metadata": {},
   "outputs": [],
   "source": [
    "df_mean = df.groupby(['date']).mean()"
   ]
  },
  {
   "cell_type": "code",
   "execution_count": 30,
   "metadata": {},
   "outputs": [
    {
     "data": {
      "text/html": [
       "<div>\n",
       "<style scoped>\n",
       "    .dataframe tbody tr th:only-of-type {\n",
       "        vertical-align: middle;\n",
       "    }\n",
       "\n",
       "    .dataframe tbody tr th {\n",
       "        vertical-align: top;\n",
       "    }\n",
       "\n",
       "    .dataframe thead th {\n",
       "        text-align: right;\n",
       "    }\n",
       "</style>\n",
       "<table border=\"1\" class=\"dataframe\">\n",
       "  <thead>\n",
       "    <tr style=\"text-align: right;\">\n",
       "      <th></th>\n",
       "      <th>nummosquitos</th>\n",
       "      <th>tavg</th>\n",
       "      <th>wnvpresent</th>\n",
       "      <th>sealevel</th>\n",
       "      <th>dewpoint</th>\n",
       "      <th>wetbulb</th>\n",
       "      <th>preciptotal</th>\n",
       "      <th>stnpressure</th>\n",
       "    </tr>\n",
       "    <tr>\n",
       "      <th>date</th>\n",
       "      <th></th>\n",
       "      <th></th>\n",
       "      <th></th>\n",
       "      <th></th>\n",
       "      <th></th>\n",
       "      <th></th>\n",
       "      <th></th>\n",
       "      <th></th>\n",
       "    </tr>\n",
       "  </thead>\n",
       "  <tbody>\n",
       "    <tr>\n",
       "      <td>2013-08-29</td>\n",
       "      <td>18.496503</td>\n",
       "      <td>78.0</td>\n",
       "      <td>0.265734</td>\n",
       "      <td>30.005</td>\n",
       "      <td>64.5</td>\n",
       "      <td>69.0</td>\n",
       "      <td>0.000</td>\n",
       "      <td>29.325</td>\n",
       "    </tr>\n",
       "    <tr>\n",
       "      <td>2013-09-06</td>\n",
       "      <td>17.552448</td>\n",
       "      <td>73.0</td>\n",
       "      <td>0.223776</td>\n",
       "      <td>30.110</td>\n",
       "      <td>56.5</td>\n",
       "      <td>63.5</td>\n",
       "      <td>0.000</td>\n",
       "      <td>29.410</td>\n",
       "    </tr>\n",
       "    <tr>\n",
       "      <td>2013-09-12</td>\n",
       "      <td>15.899281</td>\n",
       "      <td>72.5</td>\n",
       "      <td>0.165468</td>\n",
       "      <td>29.975</td>\n",
       "      <td>58.5</td>\n",
       "      <td>64.0</td>\n",
       "      <td>0.055</td>\n",
       "      <td>29.310</td>\n",
       "    </tr>\n",
       "    <tr>\n",
       "      <td>2013-09-19</td>\n",
       "      <td>9.196429</td>\n",
       "      <td>77.0</td>\n",
       "      <td>0.098214</td>\n",
       "      <td>29.870</td>\n",
       "      <td>67.0</td>\n",
       "      <td>69.5</td>\n",
       "      <td>0.445</td>\n",
       "      <td>29.175</td>\n",
       "    </tr>\n",
       "    <tr>\n",
       "      <td>2013-09-26</td>\n",
       "      <td>5.489130</td>\n",
       "      <td>64.0</td>\n",
       "      <td>0.043478</td>\n",
       "      <td>30.040</td>\n",
       "      <td>52.0</td>\n",
       "      <td>58.0</td>\n",
       "      <td>0.000</td>\n",
       "      <td>29.370</td>\n",
       "    </tr>\n",
       "  </tbody>\n",
       "</table>\n",
       "</div>"
      ],
      "text/plain": [
       "            nummosquitos  tavg  wnvpresent  sealevel  dewpoint  wetbulb  \\\n",
       "date                                                                      \n",
       "2013-08-29     18.496503  78.0    0.265734    30.005      64.5     69.0   \n",
       "2013-09-06     17.552448  73.0    0.223776    30.110      56.5     63.5   \n",
       "2013-09-12     15.899281  72.5    0.165468    29.975      58.5     64.0   \n",
       "2013-09-19      9.196429  77.0    0.098214    29.870      67.0     69.5   \n",
       "2013-09-26      5.489130  64.0    0.043478    30.040      52.0     58.0   \n",
       "\n",
       "            preciptotal  stnpressure  \n",
       "date                                  \n",
       "2013-08-29        0.000       29.325  \n",
       "2013-09-06        0.000       29.410  \n",
       "2013-09-12        0.055       29.310  \n",
       "2013-09-19        0.445       29.175  \n",
       "2013-09-26        0.000       29.370  "
      ]
     },
     "execution_count": 30,
     "metadata": {},
     "output_type": "execute_result"
    }
   ],
   "source": [
    "df_mean.tail()"
   ]
  },
  {
   "cell_type": "code",
   "execution_count": 31,
   "metadata": {
    "scrolled": true
   },
   "outputs": [
    {
     "data": {
      "image/png": "[encoded data removed]",
      "text/plain": [
       "<Figure size 432x288 with 1 Axes>"
      ]
     },
     "metadata": {
      "needs_background": "light"
     },
     "output_type": "display_data"
    }
   ],
   "source": [
    "df_train.groupby('wnvpresent')['nummosquitos'].mean().sort_values(ascending=False).plot.bar();"
   ]
  },
  {
   "cell_type": "code",
   "execution_count": 32,
   "metadata": {
    "scrolled": true
   },
   "outputs": [
    {
     "data": {
      "image/png": "[encoded data removed]",
      "text/plain": [
       "<Figure size 432x288 with 2 Axes>"
      ]
     },
     "metadata": {
      "needs_background": "light"
     },
     "output_type": "display_data"
    }
   ],
   "source": [
    "ax = df_mean.plot.scatter(x='tavg', y='nummosquitos', c='wnvpresent', colormap='Reds');\n",
    "# Higher temperature = More mosquitoes = potentially more WNV"
   ]
  },
  {
   "cell_type": "code",
   "execution_count": 33,
   "metadata": {},
   "outputs": [
    {
     "data": {
      "image/png": "[encoded data removed]",
      "text/plain": [
       "<Figure size 432x288 with 1 Axes>"
      ]
     },
     "metadata": {
      "needs_background": "light"
     },
     "output_type": "display_data"
    }
   ],
   "source": [
    "df_train.groupby('species')['wnvpresent'].mean().sort_values(ascending=False).plot.bar();"
   ]
  },
  {
   "cell_type": "code",
   "execution_count": 34,
   "metadata": {},
   "outputs": [
    {
     "data": {
      "text/plain": [
       "1    0.709214\n",
       "0    0.290786\n",
       "Name: wnvspecies, dtype: float64"
      ]
     },
     "execution_count": 34,
     "metadata": {},
     "output_type": "execute_result"
    }
   ],
   "source": [
    "df['wnvspecies'] = [1 if ('PIPIENS' or 'RESTUANS') in row else 0 for row in df['species']]\n",
    "df['wnvspecies'].value_counts(normalize=True)\n"
   ]
  },
  {
   "cell_type": "code",
   "execution_count": 35,
   "metadata": {},
   "outputs": [],
   "source": [
    "df['3cat'] = df['wnvspecies'] + df['wnvpresent']"
   ]
  },
  {
   "cell_type": "code",
   "execution_count": 36,
   "metadata": {},
   "outputs": [
    {
     "data": {
      "text/plain": [
       "wnvspecies\n",
       "1    73.354986\n",
       "0    72.211457\n",
       "Name: tavg, dtype: float64"
      ]
     },
     "execution_count": 36,
     "metadata": {},
     "output_type": "execute_result"
    }
   ],
   "source": [
    "df.groupby('wnvspecies')['tavg'].mean().sort_values(ascending=False)"
   ]
  },
  {
   "cell_type": "code",
   "execution_count": 37,
   "metadata": {},
   "outputs": [
    {
     "data": {
      "text/plain": [
       "1    0.666096\n",
       "0    0.286122\n",
       "2    0.047782\n",
       "Name: 3cat, dtype: float64"
      ]
     },
     "execution_count": 37,
     "metadata": {},
     "output_type": "execute_result"
    }
   ],
   "source": [
    "df['3cat'].value_counts(normalize=True)"
   ]
  },
  {
   "cell_type": "code",
   "execution_count": 38,
   "metadata": {},
   "outputs": [
    {
     "data": {
      "text/plain": [
       "Index(['Id', 'Date', 'Address', 'Species', 'Block', 'Street', 'Trap',\n",
       "       'AddressNumberAndStreet', 'Latitude', 'Longitude', 'AddressAccuracy'],\n",
       "      dtype='object')"
      ]
     },
     "execution_count": 38,
     "metadata": {},
     "output_type": "execute_result"
    }
   ],
   "source": [
    "df_test.columns"
   ]
  },
  {
   "cell_type": "code",
   "execution_count": 39,
   "metadata": {},
   "outputs": [
    {
     "data": {
      "image/png": "[encoded data removed]",
      "text/plain": [
       "<Figure size 1080x1080 with 6 Axes>"
      ]
     },
     "metadata": {
      "needs_background": "light"
     },
     "output_type": "display_data"
    }
   ],
   "source": [
    "fig, axes = plt.subplots(nrows=3, ncols=2,figsize=(15,15)) \n",
    "\n",
    "df.boxplot(column='tavg', by='3cat', ax=axes[0,0]) \n",
    "df.boxplot(column='nummosquitos', by='3cat', ax=axes[0,1]) \n",
    "df.boxplot(column='stnpressure', by='3cat', ax=axes[1,0]) \n",
    "df.boxplot(column='dewpoint', by='3cat', ax=axes[1,1]) \n",
    "df.boxplot(column='wetbulb', by='3cat', ax=axes[2,0]) \n",
    "df.boxplot(column='preciptotal', by='3cat', ax=axes[2,1]) \n",
    "\n",
    "# etc.\n",
    "\n",
    "plt.show()\n",
    "# Need to check other weather data such as Wetbulb, after string imputation is complete\n",
    "# More mosquitoes (Cullex Pipiens) potentially due to stagnant water areas which results in more breeding\n",
    "# https://www.isglobal.org/en/healthisglobal/-/custom-blog-portlet/el-mosquito-comun-un-companero-indeseable-en-nuestras-vidas/5083982/8301"
   ]
  },
  {
   "cell_type": "code",
   "execution_count": 40,
   "metadata": {},
   "outputs": [
    {
     "data": {
      "text/html": [
       "<div>\n",
       "<style scoped>\n",
       "    .dataframe tbody tr th:only-of-type {\n",
       "        vertical-align: middle;\n",
       "    }\n",
       "\n",
       "    .dataframe tbody tr th {\n",
       "        vertical-align: top;\n",
       "    }\n",
       "\n",
       "    .dataframe thead th {\n",
       "        text-align: right;\n",
       "    }\n",
       "</style>\n",
       "<table border=\"1\" class=\"dataframe\">\n",
       "  <thead>\n",
       "    <tr style=\"text-align: right;\">\n",
       "      <th></th>\n",
       "      <th>date</th>\n",
       "      <th>nummosquitos</th>\n",
       "      <th>species</th>\n",
       "      <th>tavg</th>\n",
       "      <th>wnvpresent</th>\n",
       "      <th>sealevel</th>\n",
       "      <th>dewpoint</th>\n",
       "      <th>wetbulb</th>\n",
       "      <th>preciptotal</th>\n",
       "      <th>stnpressure</th>\n",
       "      <th>wnvspecies</th>\n",
       "      <th>3cat</th>\n",
       "    </tr>\n",
       "  </thead>\n",
       "  <tbody>\n",
       "    <tr>\n",
       "      <td>0</td>\n",
       "      <td>2007-05-29</td>\n",
       "      <td>1</td>\n",
       "      <td>CULEX PIPIENS/RESTUANS</td>\n",
       "      <td>74.0</td>\n",
       "      <td>0</td>\n",
       "      <td>30.11</td>\n",
       "      <td>58</td>\n",
       "      <td>65</td>\n",
       "      <td>0.0</td>\n",
       "      <td>29.39</td>\n",
       "      <td>1</td>\n",
       "      <td>1</td>\n",
       "    </tr>\n",
       "    <tr>\n",
       "      <td>1</td>\n",
       "      <td>2007-05-29</td>\n",
       "      <td>1</td>\n",
       "      <td>CULEX PIPIENS/RESTUANS</td>\n",
       "      <td>77.0</td>\n",
       "      <td>0</td>\n",
       "      <td>30.09</td>\n",
       "      <td>59</td>\n",
       "      <td>66</td>\n",
       "      <td>0.0</td>\n",
       "      <td>29.44</td>\n",
       "      <td>1</td>\n",
       "      <td>1</td>\n",
       "    </tr>\n",
       "    <tr>\n",
       "      <td>2</td>\n",
       "      <td>2007-05-29</td>\n",
       "      <td>1</td>\n",
       "      <td>CULEX RESTUANS</td>\n",
       "      <td>74.0</td>\n",
       "      <td>0</td>\n",
       "      <td>30.11</td>\n",
       "      <td>58</td>\n",
       "      <td>65</td>\n",
       "      <td>0.0</td>\n",
       "      <td>29.39</td>\n",
       "      <td>0</td>\n",
       "      <td>0</td>\n",
       "    </tr>\n",
       "    <tr>\n",
       "      <td>3</td>\n",
       "      <td>2007-05-29</td>\n",
       "      <td>1</td>\n",
       "      <td>CULEX RESTUANS</td>\n",
       "      <td>77.0</td>\n",
       "      <td>0</td>\n",
       "      <td>30.09</td>\n",
       "      <td>59</td>\n",
       "      <td>66</td>\n",
       "      <td>0.0</td>\n",
       "      <td>29.44</td>\n",
       "      <td>0</td>\n",
       "      <td>0</td>\n",
       "    </tr>\n",
       "    <tr>\n",
       "      <td>4</td>\n",
       "      <td>2007-05-29</td>\n",
       "      <td>1</td>\n",
       "      <td>CULEX RESTUANS</td>\n",
       "      <td>74.0</td>\n",
       "      <td>0</td>\n",
       "      <td>30.11</td>\n",
       "      <td>58</td>\n",
       "      <td>65</td>\n",
       "      <td>0.0</td>\n",
       "      <td>29.39</td>\n",
       "      <td>0</td>\n",
       "      <td>0</td>\n",
       "    </tr>\n",
       "  </tbody>\n",
       "</table>\n",
       "</div>"
      ],
      "text/plain": [
       "        date  nummosquitos                 species  tavg  wnvpresent  \\\n",
       "0 2007-05-29             1  CULEX PIPIENS/RESTUANS  74.0           0   \n",
       "1 2007-05-29             1  CULEX PIPIENS/RESTUANS  77.0           0   \n",
       "2 2007-05-29             1          CULEX RESTUANS  74.0           0   \n",
       "3 2007-05-29             1          CULEX RESTUANS  77.0           0   \n",
       "4 2007-05-29             1          CULEX RESTUANS  74.0           0   \n",
       "\n",
       "   sealevel  dewpoint  wetbulb  preciptotal  stnpressure  wnvspecies  3cat  \n",
       "0     30.11        58       65          0.0        29.39           1     1  \n",
       "1     30.09        59       66          0.0        29.44           1     1  \n",
       "2     30.11        58       65          0.0        29.39           0     0  \n",
       "3     30.09        59       66          0.0        29.44           0     0  \n",
       "4     30.11        58       65          0.0        29.39           0     0  "
      ]
     },
     "execution_count": 40,
     "metadata": {},
     "output_type": "execute_result"
    }
   ],
   "source": [
    "df.head()"
   ]
  },
  {
   "cell_type": "code",
   "execution_count": 41,
   "metadata": {},
   "outputs": [
    {
     "data": {
      "text/html": [
       "<div>\n",
       "<style scoped>\n",
       "    .dataframe tbody tr th:only-of-type {\n",
       "        vertical-align: middle;\n",
       "    }\n",
       "\n",
       "    .dataframe tbody tr th {\n",
       "        vertical-align: top;\n",
       "    }\n",
       "\n",
       "    .dataframe thead th {\n",
       "        text-align: right;\n",
       "    }\n",
       "</style>\n",
       "<table border=\"1\" class=\"dataframe\">\n",
       "  <thead>\n",
       "    <tr style=\"text-align: right;\">\n",
       "      <th></th>\n",
       "      <th>nummosquitos</th>\n",
       "      <th>wnvpresent</th>\n",
       "      <th>tavg</th>\n",
       "      <th>wetbulb</th>\n",
       "    </tr>\n",
       "    <tr>\n",
       "      <th>date</th>\n",
       "      <th></th>\n",
       "      <th></th>\n",
       "      <th></th>\n",
       "      <th></th>\n",
       "    </tr>\n",
       "  </thead>\n",
       "  <tbody>\n",
       "    <tr>\n",
       "      <td>2007-05-29</td>\n",
       "      <td>80</td>\n",
       "      <td>0</td>\n",
       "      <td>75.5</td>\n",
       "      <td>65.5</td>\n",
       "    </tr>\n",
       "    <tr>\n",
       "      <td>2007-06-05</td>\n",
       "      <td>254</td>\n",
       "      <td>0</td>\n",
       "      <td>56.5</td>\n",
       "      <td>51.5</td>\n",
       "    </tr>\n",
       "    <tr>\n",
       "      <td>2007-06-26</td>\n",
       "      <td>432</td>\n",
       "      <td>0</td>\n",
       "      <td>81.5</td>\n",
       "      <td>72.0</td>\n",
       "    </tr>\n",
       "    <tr>\n",
       "      <td>2007-06-29</td>\n",
       "      <td>170</td>\n",
       "      <td>0</td>\n",
       "      <td>63.5</td>\n",
       "      <td>59.5</td>\n",
       "    </tr>\n",
       "    <tr>\n",
       "      <td>2007-07-02</td>\n",
       "      <td>480</td>\n",
       "      <td>0</td>\n",
       "      <td>67.0</td>\n",
       "      <td>58.5</td>\n",
       "    </tr>\n",
       "  </tbody>\n",
       "</table>\n",
       "</div>"
      ],
      "text/plain": [
       "            nummosquitos  wnvpresent  tavg  wetbulb\n",
       "date                                               \n",
       "2007-05-29            80           0  75.5     65.5\n",
       "2007-06-05           254           0  56.5     51.5\n",
       "2007-06-26           432           0  81.5     72.0\n",
       "2007-06-29           170           0  63.5     59.5\n",
       "2007-07-02           480           0  67.0     58.5"
      ]
     },
     "execution_count": 41,
     "metadata": {},
     "output_type": "execute_result"
    }
   ],
   "source": [
    "df_date = df.groupby('date')['nummosquitos','wnvpresent'].sum()\n",
    "df_temp = df.groupby('date')['tavg','wetbulb'].mean()\n",
    "df_date['tavg'] = df_temp['tavg']\n",
    "df_date['wetbulb'] = df_temp['wetbulb']\n",
    "df_date.head()"
   ]
  },
  {
   "cell_type": "code",
   "execution_count": 42,
   "metadata": {},
   "outputs": [],
   "source": [
    "df_date_month = df_date.groupby(by=[df_date.index.month])['nummosquitos','wnvpresent'].sum()\n",
    "df_temp_month = df_date.groupby(by=[df_date.index.month])['tavg','wetbulb'].mean()\n",
    "df_date_month['tavg'] = df_temp_month['tavg']\n",
    "df_date_month['wetbulb'] = df_temp_month['wetbulb']"
   ]
  },
  {
   "cell_type": "code",
   "execution_count": 43,
   "metadata": {},
   "outputs": [
    {
     "data": {
      "text/html": [
       "<div>\n",
       "<style scoped>\n",
       "    .dataframe tbody tr th:only-of-type {\n",
       "        vertical-align: middle;\n",
       "    }\n",
       "\n",
       "    .dataframe tbody tr th {\n",
       "        vertical-align: top;\n",
       "    }\n",
       "\n",
       "    .dataframe thead th {\n",
       "        text-align: right;\n",
       "    }\n",
       "</style>\n",
       "<table border=\"1\" class=\"dataframe\">\n",
       "  <thead>\n",
       "    <tr style=\"text-align: right;\">\n",
       "      <th></th>\n",
       "      <th>nummosquitos</th>\n",
       "      <th>wnvpresent</th>\n",
       "      <th>tavg</th>\n",
       "      <th>wetbulb</th>\n",
       "    </tr>\n",
       "    <tr>\n",
       "      <th>date</th>\n",
       "      <th></th>\n",
       "      <th></th>\n",
       "      <th></th>\n",
       "      <th></th>\n",
       "    </tr>\n",
       "  </thead>\n",
       "  <tbody>\n",
       "    <tr>\n",
       "      <td>5</td>\n",
       "      <td>460</td>\n",
       "      <td>0</td>\n",
       "      <td>67.250000</td>\n",
       "      <td>59.750000</td>\n",
       "    </tr>\n",
       "    <tr>\n",
       "      <td>6</td>\n",
       "      <td>33156</td>\n",
       "      <td>2</td>\n",
       "      <td>68.452381</td>\n",
       "      <td>60.595238</td>\n",
       "    </tr>\n",
       "    <tr>\n",
       "      <td>7</td>\n",
       "      <td>74496</td>\n",
       "      <td>92</td>\n",
       "      <td>74.595238</td>\n",
       "      <td>65.761905</td>\n",
       "    </tr>\n",
       "    <tr>\n",
       "      <td>8</td>\n",
       "      <td>116072</td>\n",
       "      <td>754</td>\n",
       "      <td>75.134615</td>\n",
       "      <td>67.403846</td>\n",
       "    </tr>\n",
       "    <tr>\n",
       "      <td>9</td>\n",
       "      <td>42058</td>\n",
       "      <td>250</td>\n",
       "      <td>70.636364</td>\n",
       "      <td>62.409091</td>\n",
       "    </tr>\n",
       "    <tr>\n",
       "      <td>10</td>\n",
       "      <td>3836</td>\n",
       "      <td>4</td>\n",
       "      <td>61.000000</td>\n",
       "      <td>54.500000</td>\n",
       "    </tr>\n",
       "  </tbody>\n",
       "</table>\n",
       "</div>"
      ],
      "text/plain": [
       "      nummosquitos  wnvpresent       tavg    wetbulb\n",
       "date                                                \n",
       "5              460           0  67.250000  59.750000\n",
       "6            33156           2  68.452381  60.595238\n",
       "7            74496          92  74.595238  65.761905\n",
       "8           116072         754  75.134615  67.403846\n",
       "9            42058         250  70.636364  62.409091\n",
       "10            3836           4  61.000000  54.500000"
      ]
     },
     "execution_count": 43,
     "metadata": {},
     "output_type": "execute_result"
    }
   ],
   "source": [
    "df_date_month"
   ]
  },
  {
   "cell_type": "code",
   "execution_count": 44,
   "metadata": {},
   "outputs": [
    {
     "data": {
      "image/png": "[encoded data removed]",
      "text/plain": [
       "<Figure size 1080x432 with 4 Axes>"
      ]
     },
     "metadata": {
      "needs_background": "light"
     },
     "output_type": "display_data"
    }
   ],
   "source": [
    "fig, axes = plt.subplots(nrows=1, ncols=2,figsize=(15,6))\n",
    "\n",
    "fig.suptitle(\"Monthly trend for 2007, 2009, 2011 and 2013\", fontsize=16)\n",
    "df_date_month.tavg.plot(label=\"Temp Avg\", legend=True, ax=axes[0])\n",
    "df_date_month.wetbulb.plot(secondary_y=True, label=\"Wet Bulbs\", legend=True, ax=axes[0])\n",
    "axes[0].set_title('Weather')\n",
    "\n",
    "df_date_month.nummosquitos.plot(label='Total Mosquitos', legend=True,  ax=axes[1]) \n",
    "df_date_month.wnvpresent.plot(label='Total WNV', legend=True, ax=axes[1], secondary_y=True)\n",
    "axes[1].set_title('Moquitos vs. Virus')\n",
    "\n",
    "plt.show()"
   ]
  },
  {
   "cell_type": "code",
   "execution_count": 45,
   "metadata": {
    "scrolled": true
   },
   "outputs": [
    {
     "data": {
      "text/html": [
       "<div>\n",
       "<style scoped>\n",
       "    .dataframe tbody tr th:only-of-type {\n",
       "        vertical-align: middle;\n",
       "    }\n",
       "\n",
       "    .dataframe tbody tr th {\n",
       "        vertical-align: top;\n",
       "    }\n",
       "\n",
       "    .dataframe thead th {\n",
       "        text-align: right;\n",
       "    }\n",
       "</style>\n",
       "<table border=\"1\" class=\"dataframe\">\n",
       "  <thead>\n",
       "    <tr style=\"text-align: right;\">\n",
       "      <th></th>\n",
       "      <th>tavg</th>\n",
       "      <th>wetbulb</th>\n",
       "      <th>preciptotal</th>\n",
       "      <th>stnpressure</th>\n",
       "    </tr>\n",
       "    <tr>\n",
       "      <th>date</th>\n",
       "      <th></th>\n",
       "      <th></th>\n",
       "      <th></th>\n",
       "      <th></th>\n",
       "    </tr>\n",
       "  </thead>\n",
       "  <tbody>\n",
       "    <tr>\n",
       "      <td>2007</td>\n",
       "      <td>69.177989</td>\n",
       "      <td>60.584239</td>\n",
       "      <td>0.113179</td>\n",
       "      <td>29.317962</td>\n",
       "    </tr>\n",
       "    <tr>\n",
       "      <td>2008</td>\n",
       "      <td>66.024457</td>\n",
       "      <td>58.546196</td>\n",
       "      <td>0.159755</td>\n",
       "      <td>29.296712</td>\n",
       "    </tr>\n",
       "    <tr>\n",
       "      <td>2009</td>\n",
       "      <td>64.364130</td>\n",
       "      <td>57.301630</td>\n",
       "      <td>0.135245</td>\n",
       "      <td>29.282500</td>\n",
       "    </tr>\n",
       "    <tr>\n",
       "      <td>2010</td>\n",
       "      <td>68.687500</td>\n",
       "      <td>60.573370</td>\n",
       "      <td>0.158832</td>\n",
       "      <td>29.270761</td>\n",
       "    </tr>\n",
       "    <tr>\n",
       "      <td>2011</td>\n",
       "      <td>67.023098</td>\n",
       "      <td>59.663043</td>\n",
       "      <td>0.149022</td>\n",
       "      <td>29.252065</td>\n",
       "    </tr>\n",
       "    <tr>\n",
       "      <td>2012</td>\n",
       "      <td>69.092391</td>\n",
       "      <td>59.559783</td>\n",
       "      <td>0.095625</td>\n",
       "      <td>29.271984</td>\n",
       "    </tr>\n",
       "    <tr>\n",
       "      <td>2013</td>\n",
       "      <td>66.974185</td>\n",
       "      <td>59.423913</td>\n",
       "      <td>0.115299</td>\n",
       "      <td>29.297717</td>\n",
       "    </tr>\n",
       "    <tr>\n",
       "      <td>2014</td>\n",
       "      <td>66.570652</td>\n",
       "      <td>58.853261</td>\n",
       "      <td>0.166168</td>\n",
       "      <td>29.285679</td>\n",
       "    </tr>\n",
       "  </tbody>\n",
       "</table>\n",
       "</div>"
      ],
      "text/plain": [
       "           tavg    wetbulb  preciptotal  stnpressure\n",
       "date                                                \n",
       "2007  69.177989  60.584239     0.113179    29.317962\n",
       "2008  66.024457  58.546196     0.159755    29.296712\n",
       "2009  64.364130  57.301630     0.135245    29.282500\n",
       "2010  68.687500  60.573370     0.158832    29.270761\n",
       "2011  67.023098  59.663043     0.149022    29.252065\n",
       "2012  69.092391  59.559783     0.095625    29.271984\n",
       "2013  66.974185  59.423913     0.115299    29.297717\n",
       "2014  66.570652  58.853261     0.166168    29.285679"
      ]
     },
     "execution_count": 45,
     "metadata": {},
     "output_type": "execute_result"
    }
   ],
   "source": [
    "df_weather_date = df_weather.groupby('date')['tavg','wetbulb', 'preciptotal', 'stnpressure'].mean()\n",
    "df_weather_year = df_weather_date.groupby(by=[df_weather_date.index.year])['tavg','wetbulb', 'preciptotal', 'stnpressure'].mean()\n",
    "df_weather_year"
   ]
  },
  {
   "cell_type": "code",
   "execution_count": 46,
   "metadata": {},
   "outputs": [
    {
     "data": {
      "image/png": "[encoded data removed]",
      "text/plain": [
       "<Figure size 1080x432 with 4 Axes>"
      ]
     },
     "metadata": {
      "needs_background": "light"
     },
     "output_type": "display_data"
    }
   ],
   "source": [
    "fig, axes = plt.subplots(nrows=1, ncols=2,figsize=(15,6))\n",
    "\n",
    "fig.suptitle(\"Yearly weather trend from 2007 - 2014\", fontsize=16)\n",
    "df_weather_year.tavg.plot(label=\"Temp Avg\", legend=True, ax=axes[0])\n",
    "df_weather_year.wetbulb.plot(secondary_y=True, label=\"Wet Bulbs\", legend=True, ax=axes[0])\n",
    "\n",
    "df_weather_year.preciptotal.plot(label=\"Precipitation\", legend=True, ax=axes[1])\n",
    "df_weather_year.stnpressure.plot(secondary_y=True, label=\"Pressure\", legend=True, ax=axes[1])\n",
    "plt.show()"
   ]
  },
  {
   "cell_type": "markdown",
   "metadata": {},
   "source": [
    "### Weather Data\n",
    "---"
   ]
  },
  {
   "cell_type": "code",
   "execution_count": 47,
   "metadata": {},
   "outputs": [],
   "source": [
    "import datetime as dt"
   ]
  },
  {
   "cell_type": "code",
   "execution_count": 48,
   "metadata": {},
   "outputs": [],
   "source": [
    "df_weather.columns = df_weather.columns.str.lower()"
   ]
  },
  {
   "cell_type": "code",
   "execution_count": 49,
   "metadata": {},
   "outputs": [
    {
     "data": {
      "text/html": [
       "<div>\n",
       "<style scoped>\n",
       "    .dataframe tbody tr th:only-of-type {\n",
       "        vertical-align: middle;\n",
       "    }\n",
       "\n",
       "    .dataframe tbody tr th {\n",
       "        vertical-align: top;\n",
       "    }\n",
       "\n",
       "    .dataframe thead th {\n",
       "        text-align: right;\n",
       "    }\n",
       "</style>\n",
       "<table border=\"1\" class=\"dataframe\">\n",
       "  <thead>\n",
       "    <tr style=\"text-align: right;\">\n",
       "      <th></th>\n",
       "      <th>station</th>\n",
       "      <th>date</th>\n",
       "      <th>tmax</th>\n",
       "      <th>tmin</th>\n",
       "      <th>tavg</th>\n",
       "      <th>depart</th>\n",
       "      <th>dewpoint</th>\n",
       "      <th>wetbulb</th>\n",
       "      <th>heat</th>\n",
       "      <th>cool</th>\n",
       "      <th>...</th>\n",
       "      <th>preciptotal</th>\n",
       "      <th>stnpressure</th>\n",
       "      <th>sealevel</th>\n",
       "      <th>resultspeed</th>\n",
       "      <th>resultdir</th>\n",
       "      <th>avgspeed</th>\n",
       "      <th>year</th>\n",
       "      <th>month</th>\n",
       "      <th>day</th>\n",
       "      <th>trange</th>\n",
       "    </tr>\n",
       "  </thead>\n",
       "  <tbody>\n",
       "    <tr>\n",
       "      <td>0</td>\n",
       "      <td>1</td>\n",
       "      <td>2007-05-01</td>\n",
       "      <td>83</td>\n",
       "      <td>50</td>\n",
       "      <td>67.0</td>\n",
       "      <td>14</td>\n",
       "      <td>51</td>\n",
       "      <td>56</td>\n",
       "      <td>0</td>\n",
       "      <td>2</td>\n",
       "      <td>...</td>\n",
       "      <td>0.0</td>\n",
       "      <td>29.10</td>\n",
       "      <td>29.82</td>\n",
       "      <td>1.7</td>\n",
       "      <td>27</td>\n",
       "      <td>9.2</td>\n",
       "      <td>2007</td>\n",
       "      <td>5</td>\n",
       "      <td>1</td>\n",
       "      <td>33</td>\n",
       "    </tr>\n",
       "    <tr>\n",
       "      <td>1</td>\n",
       "      <td>2</td>\n",
       "      <td>2007-05-01</td>\n",
       "      <td>84</td>\n",
       "      <td>52</td>\n",
       "      <td>68.0</td>\n",
       "      <td>14</td>\n",
       "      <td>51</td>\n",
       "      <td>57</td>\n",
       "      <td>0</td>\n",
       "      <td>3</td>\n",
       "      <td>...</td>\n",
       "      <td>0.0</td>\n",
       "      <td>29.18</td>\n",
       "      <td>29.82</td>\n",
       "      <td>2.7</td>\n",
       "      <td>25</td>\n",
       "      <td>9.6</td>\n",
       "      <td>2007</td>\n",
       "      <td>5</td>\n",
       "      <td>1</td>\n",
       "      <td>32</td>\n",
       "    </tr>\n",
       "    <tr>\n",
       "      <td>2</td>\n",
       "      <td>1</td>\n",
       "      <td>2007-05-02</td>\n",
       "      <td>59</td>\n",
       "      <td>42</td>\n",
       "      <td>51.0</td>\n",
       "      <td>-3</td>\n",
       "      <td>42</td>\n",
       "      <td>47</td>\n",
       "      <td>14</td>\n",
       "      <td>0</td>\n",
       "      <td>...</td>\n",
       "      <td>0.0</td>\n",
       "      <td>29.38</td>\n",
       "      <td>30.09</td>\n",
       "      <td>13.0</td>\n",
       "      <td>4</td>\n",
       "      <td>13.4</td>\n",
       "      <td>2007</td>\n",
       "      <td>5</td>\n",
       "      <td>2</td>\n",
       "      <td>17</td>\n",
       "    </tr>\n",
       "    <tr>\n",
       "      <td>3</td>\n",
       "      <td>2</td>\n",
       "      <td>2007-05-02</td>\n",
       "      <td>60</td>\n",
       "      <td>43</td>\n",
       "      <td>52.0</td>\n",
       "      <td>-3</td>\n",
       "      <td>42</td>\n",
       "      <td>47</td>\n",
       "      <td>13</td>\n",
       "      <td>0</td>\n",
       "      <td>...</td>\n",
       "      <td>0.0</td>\n",
       "      <td>29.44</td>\n",
       "      <td>30.08</td>\n",
       "      <td>13.3</td>\n",
       "      <td>2</td>\n",
       "      <td>13.4</td>\n",
       "      <td>2007</td>\n",
       "      <td>5</td>\n",
       "      <td>2</td>\n",
       "      <td>17</td>\n",
       "    </tr>\n",
       "    <tr>\n",
       "      <td>4</td>\n",
       "      <td>1</td>\n",
       "      <td>2007-05-03</td>\n",
       "      <td>66</td>\n",
       "      <td>46</td>\n",
       "      <td>56.0</td>\n",
       "      <td>2</td>\n",
       "      <td>40</td>\n",
       "      <td>48</td>\n",
       "      <td>9</td>\n",
       "      <td>0</td>\n",
       "      <td>...</td>\n",
       "      <td>0.0</td>\n",
       "      <td>29.39</td>\n",
       "      <td>30.12</td>\n",
       "      <td>11.7</td>\n",
       "      <td>7</td>\n",
       "      <td>11.9</td>\n",
       "      <td>2007</td>\n",
       "      <td>5</td>\n",
       "      <td>3</td>\n",
       "      <td>20</td>\n",
       "    </tr>\n",
       "  </tbody>\n",
       "</table>\n",
       "<p>5 rows × 25 columns</p>\n",
       "</div>"
      ],
      "text/plain": [
       "   station       date  tmax  tmin  tavg  depart  dewpoint  wetbulb  heat  \\\n",
       "0        1 2007-05-01    83    50  67.0      14        51       56     0   \n",
       "1        2 2007-05-01    84    52  68.0      14        51       57     0   \n",
       "2        1 2007-05-02    59    42  51.0      -3        42       47    14   \n",
       "3        2 2007-05-02    60    43  52.0      -3        42       47    13   \n",
       "4        1 2007-05-03    66    46  56.0       2        40       48     9   \n",
       "\n",
       "   cool  ...  preciptotal  stnpressure sealevel  resultspeed  resultdir  \\\n",
       "0     2  ...          0.0        29.10    29.82          1.7         27   \n",
       "1     3  ...          0.0        29.18    29.82          2.7         25   \n",
       "2     0  ...          0.0        29.38    30.09         13.0          4   \n",
       "3     0  ...          0.0        29.44    30.08         13.3          2   \n",
       "4     0  ...          0.0        29.39    30.12         11.7          7   \n",
       "\n",
       "   avgspeed  year  month  day  trange  \n",
       "0       9.2  2007      5    1      33  \n",
       "1       9.6  2007      5    1      32  \n",
       "2      13.4  2007      5    2      17  \n",
       "3      13.4  2007      5    2      17  \n",
       "4      11.9  2007      5    3      20  \n",
       "\n",
       "[5 rows x 25 columns]"
      ]
     },
     "execution_count": 49,
     "metadata": {},
     "output_type": "execute_result"
    }
   ],
   "source": [
    "df_weather.head()"
   ]
  },
  {
   "cell_type": "code",
   "execution_count": 50,
   "metadata": {},
   "outputs": [
    {
     "name": "stdout",
     "output_type": "stream",
     "text": [
      "<class 'pandas.core.frame.DataFrame'>\n",
      "RangeIndex: 2944 entries, 0 to 2943\n",
      "Data columns (total 25 columns):\n",
      "station        2944 non-null int64\n",
      "date           2944 non-null datetime64[ns]\n",
      "tmax           2944 non-null int64\n",
      "tmin           2944 non-null int64\n",
      "tavg           2944 non-null float64\n",
      "depart         2944 non-null int32\n",
      "dewpoint       2944 non-null int64\n",
      "wetbulb        2944 non-null int32\n",
      "heat           2944 non-null int32\n",
      "cool           2944 non-null int32\n",
      "sunrise        2944 non-null int32\n",
      "sunset         2944 non-null int32\n",
      "codesum        2944 non-null object\n",
      "depth          2944 non-null int32\n",
      "snowfall       2944 non-null float64\n",
      "preciptotal    2944 non-null float64\n",
      "stnpressure    2944 non-null float64\n",
      "sealevel       2944 non-null float64\n",
      "resultspeed    2944 non-null float64\n",
      "resultdir      2944 non-null int64\n",
      "avgspeed       2944 non-null float64\n",
      "year           2944 non-null int64\n",
      "month          2944 non-null int64\n",
      "day            2944 non-null int64\n",
      "trange         2944 non-null int64\n",
      "dtypes: datetime64[ns](1), float64(7), int32(7), int64(9), object(1)\n",
      "memory usage: 494.6+ KB\n"
     ]
    }
   ],
   "source": [
    "df_weather.info()"
   ]
  },
  {
   "cell_type": "code",
   "execution_count": 51,
   "metadata": {},
   "outputs": [],
   "source": [
    "# Replace M, blank spaces and '-' with Nan values, while T was replace with 0.05\n",
    "# https://wgntv.com/weather/what-are-traces-of-precipitation/\n",
    "def update_cols(df_weather):\n",
    "    df_weather = df_weather.replace('M', np.nan)\n",
    "    df_weather = df_weather.replace('-', np.nan)\n",
    "    df_weather = df_weather.replace(' ', np.nan)\n",
    "    df_weather = df_weather.replace('  T', '0.05')\n",
    "\n",
    "    df_weather = update_cols(df_weather)"
   ]
  },
  {
   "cell_type": "code",
   "execution_count": 52,
   "metadata": {},
   "outputs": [
    {
     "data": {
      "text/plain": [
       "trange         0\n",
       "sunset         0\n",
       "date           0\n",
       "tmax           0\n",
       "tmin           0\n",
       "tavg           0\n",
       "depart         0\n",
       "dewpoint       0\n",
       "wetbulb        0\n",
       "heat           0\n",
       "cool           0\n",
       "sunrise        0\n",
       "codesum        0\n",
       "day            0\n",
       "depth          0\n",
       "snowfall       0\n",
       "preciptotal    0\n",
       "stnpressure    0\n",
       "sealevel       0\n",
       "resultspeed    0\n",
       "resultdir      0\n",
       "avgspeed       0\n",
       "year           0\n",
       "month          0\n",
       "station        0\n",
       "dtype: int64"
      ]
     },
     "execution_count": 52,
     "metadata": {},
     "output_type": "execute_result"
    }
   ],
   "source": [
    "# Check for null\n",
    "df_weather.isnull().sum().sort_values(ascending=False)"
   ]
  },
  {
   "cell_type": "code",
   "execution_count": 53,
   "metadata": {},
   "outputs": [
    {
     "ename": "KeyError",
     "evalue": "\"['water1'] not found in axis\"",
     "output_type": "error",
     "traceback": [
      "\u001b[1;31m---------------------------------------------------------------------------\u001b[0m",
      "\u001b[1;31mKeyError\u001b[0m                                  Traceback (most recent call last)",
      "\u001b[1;32m<ipython-input-53-ecabaa0b383f>\u001b[0m in \u001b[0;36m<module>\u001b[1;34m\u001b[0m\n\u001b[0;32m      1\u001b[0m \u001b[1;31m# Drop water1 column as its missing all the data\u001b[0m\u001b[1;33m\u001b[0m\u001b[1;33m\u001b[0m\u001b[1;33m\u001b[0m\u001b[0m\n\u001b[1;32m----> 2\u001b[1;33m \u001b[0mdf_weather\u001b[0m\u001b[1;33m.\u001b[0m\u001b[0mdrop\u001b[0m\u001b[1;33m(\u001b[0m\u001b[1;33m[\u001b[0m\u001b[1;34m'water1'\u001b[0m\u001b[1;33m]\u001b[0m\u001b[1;33m,\u001b[0m \u001b[0maxis\u001b[0m \u001b[1;33m=\u001b[0m \u001b[1;36m1\u001b[0m\u001b[1;33m,\u001b[0m \u001b[0minplace\u001b[0m\u001b[1;33m=\u001b[0m \u001b[1;32mTrue\u001b[0m\u001b[1;33m)\u001b[0m\u001b[1;33m\u001b[0m\u001b[1;33m\u001b[0m\u001b[0m\n\u001b[0m\u001b[0;32m      3\u001b[0m \u001b[1;33m\u001b[0m\u001b[0m\n\u001b[0;32m      4\u001b[0m \u001b[1;31m# Fiil up blank cells in codesum with 'MODERATE'\u001b[0m\u001b[1;33m\u001b[0m\u001b[1;33m\u001b[0m\u001b[1;33m\u001b[0m\u001b[0m\n\u001b[0;32m      5\u001b[0m \u001b[0mdf_weather\u001b[0m\u001b[1;33m[\u001b[0m\u001b[1;34m'codesum'\u001b[0m\u001b[1;33m]\u001b[0m \u001b[1;33m=\u001b[0m \u001b[0mdf_weather\u001b[0m\u001b[1;33m[\u001b[0m\u001b[1;34m'codesum'\u001b[0m\u001b[1;33m]\u001b[0m\u001b[1;33m.\u001b[0m\u001b[0mreplace\u001b[0m\u001b[1;33m(\u001b[0m\u001b[0mnp\u001b[0m\u001b[1;33m.\u001b[0m\u001b[0mnan\u001b[0m\u001b[1;33m,\u001b[0m \u001b[1;34m'MODERATE'\u001b[0m\u001b[1;33m)\u001b[0m\u001b[1;33m\u001b[0m\u001b[1;33m\u001b[0m\u001b[0m\n",
      "\u001b[1;32m~\\Anaconda3\\lib\\site-packages\\pandas\\core\\frame.py\u001b[0m in \u001b[0;36mdrop\u001b[1;34m(self, labels, axis, index, columns, level, inplace, errors)\u001b[0m\n\u001b[0;32m   4100\u001b[0m             \u001b[0mlevel\u001b[0m\u001b[1;33m=\u001b[0m\u001b[0mlevel\u001b[0m\u001b[1;33m,\u001b[0m\u001b[1;33m\u001b[0m\u001b[1;33m\u001b[0m\u001b[0m\n\u001b[0;32m   4101\u001b[0m             \u001b[0minplace\u001b[0m\u001b[1;33m=\u001b[0m\u001b[0minplace\u001b[0m\u001b[1;33m,\u001b[0m\u001b[1;33m\u001b[0m\u001b[1;33m\u001b[0m\u001b[0m\n\u001b[1;32m-> 4102\u001b[1;33m             \u001b[0merrors\u001b[0m\u001b[1;33m=\u001b[0m\u001b[0merrors\u001b[0m\u001b[1;33m,\u001b[0m\u001b[1;33m\u001b[0m\u001b[1;33m\u001b[0m\u001b[0m\n\u001b[0m\u001b[0;32m   4103\u001b[0m         )\n\u001b[0;32m   4104\u001b[0m \u001b[1;33m\u001b[0m\u001b[0m\n",
      "\u001b[1;32m~\\Anaconda3\\lib\\site-packages\\pandas\\core\\generic.py\u001b[0m in \u001b[0;36mdrop\u001b[1;34m(self, labels, axis, index, columns, level, inplace, errors)\u001b[0m\n\u001b[0;32m   3912\u001b[0m         \u001b[1;32mfor\u001b[0m \u001b[0maxis\u001b[0m\u001b[1;33m,\u001b[0m \u001b[0mlabels\u001b[0m \u001b[1;32min\u001b[0m \u001b[0maxes\u001b[0m\u001b[1;33m.\u001b[0m\u001b[0mitems\u001b[0m\u001b[1;33m(\u001b[0m\u001b[1;33m)\u001b[0m\u001b[1;33m:\u001b[0m\u001b[1;33m\u001b[0m\u001b[1;33m\u001b[0m\u001b[0m\n\u001b[0;32m   3913\u001b[0m             \u001b[1;32mif\u001b[0m \u001b[0mlabels\u001b[0m \u001b[1;32mis\u001b[0m \u001b[1;32mnot\u001b[0m \u001b[1;32mNone\u001b[0m\u001b[1;33m:\u001b[0m\u001b[1;33m\u001b[0m\u001b[1;33m\u001b[0m\u001b[0m\n\u001b[1;32m-> 3914\u001b[1;33m                 \u001b[0mobj\u001b[0m \u001b[1;33m=\u001b[0m \u001b[0mobj\u001b[0m\u001b[1;33m.\u001b[0m\u001b[0m_drop_axis\u001b[0m\u001b[1;33m(\u001b[0m\u001b[0mlabels\u001b[0m\u001b[1;33m,\u001b[0m \u001b[0maxis\u001b[0m\u001b[1;33m,\u001b[0m \u001b[0mlevel\u001b[0m\u001b[1;33m=\u001b[0m\u001b[0mlevel\u001b[0m\u001b[1;33m,\u001b[0m \u001b[0merrors\u001b[0m\u001b[1;33m=\u001b[0m\u001b[0merrors\u001b[0m\u001b[1;33m)\u001b[0m\u001b[1;33m\u001b[0m\u001b[1;33m\u001b[0m\u001b[0m\n\u001b[0m\u001b[0;32m   3915\u001b[0m \u001b[1;33m\u001b[0m\u001b[0m\n\u001b[0;32m   3916\u001b[0m         \u001b[1;32mif\u001b[0m \u001b[0minplace\u001b[0m\u001b[1;33m:\u001b[0m\u001b[1;33m\u001b[0m\u001b[1;33m\u001b[0m\u001b[0m\n",
      "\u001b[1;32m~\\Anaconda3\\lib\\site-packages\\pandas\\core\\generic.py\u001b[0m in \u001b[0;36m_drop_axis\u001b[1;34m(self, labels, axis, level, errors)\u001b[0m\n\u001b[0;32m   3944\u001b[0m                 \u001b[0mnew_axis\u001b[0m \u001b[1;33m=\u001b[0m \u001b[0maxis\u001b[0m\u001b[1;33m.\u001b[0m\u001b[0mdrop\u001b[0m\u001b[1;33m(\u001b[0m\u001b[0mlabels\u001b[0m\u001b[1;33m,\u001b[0m \u001b[0mlevel\u001b[0m\u001b[1;33m=\u001b[0m\u001b[0mlevel\u001b[0m\u001b[1;33m,\u001b[0m \u001b[0merrors\u001b[0m\u001b[1;33m=\u001b[0m\u001b[0merrors\u001b[0m\u001b[1;33m)\u001b[0m\u001b[1;33m\u001b[0m\u001b[1;33m\u001b[0m\u001b[0m\n\u001b[0;32m   3945\u001b[0m             \u001b[1;32melse\u001b[0m\u001b[1;33m:\u001b[0m\u001b[1;33m\u001b[0m\u001b[1;33m\u001b[0m\u001b[0m\n\u001b[1;32m-> 3946\u001b[1;33m                 \u001b[0mnew_axis\u001b[0m \u001b[1;33m=\u001b[0m \u001b[0maxis\u001b[0m\u001b[1;33m.\u001b[0m\u001b[0mdrop\u001b[0m\u001b[1;33m(\u001b[0m\u001b[0mlabels\u001b[0m\u001b[1;33m,\u001b[0m \u001b[0merrors\u001b[0m\u001b[1;33m=\u001b[0m\u001b[0merrors\u001b[0m\u001b[1;33m)\u001b[0m\u001b[1;33m\u001b[0m\u001b[1;33m\u001b[0m\u001b[0m\n\u001b[0m\u001b[0;32m   3947\u001b[0m             \u001b[0mresult\u001b[0m \u001b[1;33m=\u001b[0m \u001b[0mself\u001b[0m\u001b[1;33m.\u001b[0m\u001b[0mreindex\u001b[0m\u001b[1;33m(\u001b[0m\u001b[1;33m**\u001b[0m\u001b[1;33m{\u001b[0m\u001b[0maxis_name\u001b[0m\u001b[1;33m:\u001b[0m \u001b[0mnew_axis\u001b[0m\u001b[1;33m}\u001b[0m\u001b[1;33m)\u001b[0m\u001b[1;33m\u001b[0m\u001b[1;33m\u001b[0m\u001b[0m\n\u001b[0;32m   3948\u001b[0m \u001b[1;33m\u001b[0m\u001b[0m\n",
      "\u001b[1;32m~\\Anaconda3\\lib\\site-packages\\pandas\\core\\indexes\\base.py\u001b[0m in \u001b[0;36mdrop\u001b[1;34m(self, labels, errors)\u001b[0m\n\u001b[0;32m   5338\u001b[0m         \u001b[1;32mif\u001b[0m \u001b[0mmask\u001b[0m\u001b[1;33m.\u001b[0m\u001b[0many\u001b[0m\u001b[1;33m(\u001b[0m\u001b[1;33m)\u001b[0m\u001b[1;33m:\u001b[0m\u001b[1;33m\u001b[0m\u001b[1;33m\u001b[0m\u001b[0m\n\u001b[0;32m   5339\u001b[0m             \u001b[1;32mif\u001b[0m \u001b[0merrors\u001b[0m \u001b[1;33m!=\u001b[0m \u001b[1;34m\"ignore\"\u001b[0m\u001b[1;33m:\u001b[0m\u001b[1;33m\u001b[0m\u001b[1;33m\u001b[0m\u001b[0m\n\u001b[1;32m-> 5340\u001b[1;33m                 \u001b[1;32mraise\u001b[0m \u001b[0mKeyError\u001b[0m\u001b[1;33m(\u001b[0m\u001b[1;34m\"{} not found in axis\"\u001b[0m\u001b[1;33m.\u001b[0m\u001b[0mformat\u001b[0m\u001b[1;33m(\u001b[0m\u001b[0mlabels\u001b[0m\u001b[1;33m[\u001b[0m\u001b[0mmask\u001b[0m\u001b[1;33m]\u001b[0m\u001b[1;33m)\u001b[0m\u001b[1;33m)\u001b[0m\u001b[1;33m\u001b[0m\u001b[1;33m\u001b[0m\u001b[0m\n\u001b[0m\u001b[0;32m   5341\u001b[0m             \u001b[0mindexer\u001b[0m \u001b[1;33m=\u001b[0m \u001b[0mindexer\u001b[0m\u001b[1;33m[\u001b[0m\u001b[1;33m~\u001b[0m\u001b[0mmask\u001b[0m\u001b[1;33m]\u001b[0m\u001b[1;33m\u001b[0m\u001b[1;33m\u001b[0m\u001b[0m\n\u001b[0;32m   5342\u001b[0m         \u001b[1;32mreturn\u001b[0m \u001b[0mself\u001b[0m\u001b[1;33m.\u001b[0m\u001b[0mdelete\u001b[0m\u001b[1;33m(\u001b[0m\u001b[0mindexer\u001b[0m\u001b[1;33m)\u001b[0m\u001b[1;33m\u001b[0m\u001b[1;33m\u001b[0m\u001b[0m\n",
      "\u001b[1;31mKeyError\u001b[0m: \"['water1'] not found in axis\""
     ]
    }
   ],
   "source": [
    "# Drop water1 column as its missing all the data\n",
    "df_weather.drop(['water1'], axis = 1, inplace= True)\n",
    "\n",
    "# Fiil up blank cells in codesum with 'MODERATE'\n",
    "df_weather['codesum'] = df_weather['codesum'].replace(np.nan, 'MODERATE')\n",
    "\n",
    "# Fill null values with column median\n",
    "df_weather['preciptotal'] = df_weather['preciptotal'].fillna(df_weather['preciptotal'].median())\n",
    "df_weather['avgspeed'] = df_weather['avgspeed'].fillna(df_weather['avgspeed'].median())\n",
    "df_weather['wetbulb'] = df_weather['wetbulb'].fillna(df_weather['wetbulb'].median())\n",
    "df_weather['stnpressure'] = df_weather['stnpressure'].fillna(df_weather['stnpressure'].median())\n",
    "df_weather['sealevel'] = df_weather['sealevel'].fillna(df_weather['sealevel'].median())\n",
    "df_weather['heat'] = df_weather['heat'].fillna(df_weather['heat'].median())\n",
    "df_weather['cool'] = df_weather['cool'].fillna(df_weather['cool'].median())\n",
    "\n",
    "# Fill null values of Tavg column with the average of Tmax and Tmin columns (Tmax + Tmin)/2\n",
    "df_weather['tavg'] = df_weather.apply(lambda row: (row['tmax'] + row['tmin']) * 0.5\n",
    "                                      if pd.isnull(row['tavg']) else row['tavg'], axis=1)"
   ]
  },
  {
   "cell_type": "code",
   "execution_count": null,
   "metadata": {},
   "outputs": [],
   "source": [
    "def mirror_columns(columns):\n",
    "    df_weather[columns] = df_weather.apply(lambda x: df_weather.iloc[::2][columns].values.repeat(2))\n",
    "    \n",
    "# Fill in the missing data from station 2 by mirroring station 1\n",
    "mirror_columns('depart')\n",
    "mirror_columns('sunrise')\n",
    "mirror_columns('sunset')\n",
    "mirror_columns('depth')\n",
    "mirror_columns('snowfall')"
   ]
  },
  {
   "cell_type": "code",
   "execution_count": null,
   "metadata": {},
   "outputs": [],
   "source": [
    "# Convert object to datetime and create individual columns for year, month and day\n",
    "df_weather['date'] = pd.to_datetime(df_weather['date'])\n",
    "df_weather['year'] = df_weather['date'].dt.year\n",
    "df_weather['month'] = df_weather['date'].dt.month\n",
    "df_weather['day'] = df_weather['date'].dt.day"
   ]
  },
  {
   "cell_type": "code",
   "execution_count": null,
   "metadata": {},
   "outputs": [],
   "source": [
    "def change_dtype_flt(columns):\n",
    "    df_weather[columns] = df_weather[columns].astype(float)\n",
    "    \n",
    "# Amend the column data type to float\n",
    "change_dtype_flt('preciptotal')\n",
    "change_dtype_flt('stnpressure')\n",
    "change_dtype_flt('sealevel')\n",
    "change_dtype_flt('avgspeed')\n",
    "change_dtype_flt('preciptotal')\n",
    "change_dtype_flt('tavg')\n",
    "\n",
    "def change_dtype_int(columns):\n",
    "    df_weather[columns] = df_weather[columns].astype(int)\n",
    "\n",
    "# Amend the column data type to integer\n",
    "change_dtype_int('depart')\n",
    "change_dtype_int('wetbulb')\n",
    "change_dtype_int('heat')\n",
    "change_dtype_int('cool')"
   ]
  }
 ],
 "metadata": {
  "colab": {
   "collapsed_sections": [],
   "name": "Untitled0.ipynb",
   "provenance": [],
   "toc_visible": true
  },
  "kernelspec": {
   "display_name": "Python 3",
   "language": "python",
   "name": "python3"
  },
  "language_info": {
   "codemirror_mode": {
    "name": "ipython",
    "version": 3
   },
   "file_extension": ".py",
   "mimetype": "text/x-python",
   "name": "python",
   "nbconvert_exporter": "python",
   "pygments_lexer": "ipython3",
   "version": "3.7.4"
  }
 },
 "nbformat": 4,
 "nbformat_minor": 1
}
