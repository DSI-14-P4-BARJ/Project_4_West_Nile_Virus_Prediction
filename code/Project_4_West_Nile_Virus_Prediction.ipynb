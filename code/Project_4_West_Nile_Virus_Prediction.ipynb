{
 "cells": [
  {
   "cell_type": "markdown",
   "metadata": {
    "colab_type": "text",
    "id": "hGAJ6EZTN2yO"
   },
   "source": [
    "# Project 4 "
   ]
  },
  {
   "cell_type": "markdown",
   "metadata": {},
   "source": [
    "## Problem Statement"
   ]
  },
  {
   "cell_type": "markdown",
   "metadata": {},
   "source": [
    "## Executive Summary"
   ]
  },
  {
   "cell_type": "markdown",
   "metadata": {},
   "source": [
    "### Import libraries"
   ]
  },
  {
   "cell_type": "code",
   "execution_count": 29,
   "metadata": {
    "colab": {},
    "colab_type": "code",
    "id": "6jXqaTwHKQlp"
   },
   "outputs": [],
   "source": [
    "import pandas as pd\n",
    "import seaborn as sns\n",
    "import matplotlib.pyplot as plt\n",
    "import numpy as np\n",
    "import datetime as dt\n",
    "\n",
    "from sklearn.preprocessing import StandardScaler\n",
    "from sklearn.cluster import DBSCAN\n",
    "\n",
    "import pyreadr\n",
    "import myfunctions as f\n",
    "import io\n",
    "\n",
    "%matplotlib inline"
   ]
  },
  {
   "cell_type": "markdown",
   "metadata": {
    "colab_type": "text",
    "id": "Fp8NgMyLL57s"
   },
   "source": [
    "### Data Import"
   ]
  },
  {
   "cell_type": "code",
   "execution_count": 30,
   "metadata": {},
   "outputs": [],
   "source": [
    "df_train = pd.read_csv('../datasets/train.csv')\n",
    "df_test = pd.read_csv('../datasets/test.csv')\n",
    "df_spray = pd.read_csv('../datasets/spray.csv')\n",
    "df_weather = pd.read_csv('../datasets/weather.csv')"
   ]
  },
  {
   "cell_type": "markdown",
   "metadata": {},
   "source": [
    "## Data Cleaning"
   ]
  },
  {
   "cell_type": "markdown",
   "metadata": {},
   "source": [
    "### General Cleaning for all dataframes"
   ]
  },
  {
   "cell_type": "code",
   "execution_count": 31,
   "metadata": {},
   "outputs": [
    {
     "data": {
      "text/html": [
       "<div>\n",
       "<style scoped>\n",
       "    .dataframe tbody tr th:only-of-type {\n",
       "        vertical-align: middle;\n",
       "    }\n",
       "\n",
       "    .dataframe tbody tr th {\n",
       "        vertical-align: top;\n",
       "    }\n",
       "\n",
       "    .dataframe thead th {\n",
       "        text-align: right;\n",
       "    }\n",
       "</style>\n",
       "<table border=\"1\" class=\"dataframe\">\n",
       "  <thead>\n",
       "    <tr style=\"text-align: right;\">\n",
       "      <th></th>\n",
       "      <th>Date</th>\n",
       "      <th>Address</th>\n",
       "      <th>Species</th>\n",
       "      <th>Block</th>\n",
       "      <th>Street</th>\n",
       "      <th>Trap</th>\n",
       "      <th>AddressNumberAndStreet</th>\n",
       "      <th>Latitude</th>\n",
       "      <th>Longitude</th>\n",
       "      <th>AddressAccuracy</th>\n",
       "      <th>NumMosquitos</th>\n",
       "      <th>WnvPresent</th>\n",
       "    </tr>\n",
       "  </thead>\n",
       "  <tbody>\n",
       "    <tr>\n",
       "      <th>0</th>\n",
       "      <td>2007-05-29</td>\n",
       "      <td>4100 North Oak Park Avenue, Chicago, IL 60634,...</td>\n",
       "      <td>CULEX PIPIENS/RESTUANS</td>\n",
       "      <td>41</td>\n",
       "      <td>N OAK PARK AVE</td>\n",
       "      <td>T002</td>\n",
       "      <td>4100  N OAK PARK AVE, Chicago, IL</td>\n",
       "      <td>41.954690</td>\n",
       "      <td>-87.800991</td>\n",
       "      <td>9</td>\n",
       "      <td>1</td>\n",
       "      <td>0</td>\n",
       "    </tr>\n",
       "    <tr>\n",
       "      <th>1</th>\n",
       "      <td>2007-05-29</td>\n",
       "      <td>4100 North Oak Park Avenue, Chicago, IL 60634,...</td>\n",
       "      <td>CULEX RESTUANS</td>\n",
       "      <td>41</td>\n",
       "      <td>N OAK PARK AVE</td>\n",
       "      <td>T002</td>\n",
       "      <td>4100  N OAK PARK AVE, Chicago, IL</td>\n",
       "      <td>41.954690</td>\n",
       "      <td>-87.800991</td>\n",
       "      <td>9</td>\n",
       "      <td>1</td>\n",
       "      <td>0</td>\n",
       "    </tr>\n",
       "    <tr>\n",
       "      <th>2</th>\n",
       "      <td>2007-05-29</td>\n",
       "      <td>6200 North Mandell Avenue, Chicago, IL 60646, USA</td>\n",
       "      <td>CULEX RESTUANS</td>\n",
       "      <td>62</td>\n",
       "      <td>N MANDELL AVE</td>\n",
       "      <td>T007</td>\n",
       "      <td>6200  N MANDELL AVE, Chicago, IL</td>\n",
       "      <td>41.994991</td>\n",
       "      <td>-87.769279</td>\n",
       "      <td>9</td>\n",
       "      <td>1</td>\n",
       "      <td>0</td>\n",
       "    </tr>\n",
       "    <tr>\n",
       "      <th>3</th>\n",
       "      <td>2007-05-29</td>\n",
       "      <td>7900 West Foster Avenue, Chicago, IL 60656, USA</td>\n",
       "      <td>CULEX PIPIENS/RESTUANS</td>\n",
       "      <td>79</td>\n",
       "      <td>W FOSTER AVE</td>\n",
       "      <td>T015</td>\n",
       "      <td>7900  W FOSTER AVE, Chicago, IL</td>\n",
       "      <td>41.974089</td>\n",
       "      <td>-87.824812</td>\n",
       "      <td>8</td>\n",
       "      <td>1</td>\n",
       "      <td>0</td>\n",
       "    </tr>\n",
       "    <tr>\n",
       "      <th>4</th>\n",
       "      <td>2007-05-29</td>\n",
       "      <td>7900 West Foster Avenue, Chicago, IL 60656, USA</td>\n",
       "      <td>CULEX RESTUANS</td>\n",
       "      <td>79</td>\n",
       "      <td>W FOSTER AVE</td>\n",
       "      <td>T015</td>\n",
       "      <td>7900  W FOSTER AVE, Chicago, IL</td>\n",
       "      <td>41.974089</td>\n",
       "      <td>-87.824812</td>\n",
       "      <td>8</td>\n",
       "      <td>4</td>\n",
       "      <td>0</td>\n",
       "    </tr>\n",
       "  </tbody>\n",
       "</table>\n",
       "</div>"
      ],
      "text/plain": [
       "         Date                                            Address  \\\n",
       "0  2007-05-29  4100 North Oak Park Avenue, Chicago, IL 60634,...   \n",
       "1  2007-05-29  4100 North Oak Park Avenue, Chicago, IL 60634,...   \n",
       "2  2007-05-29  6200 North Mandell Avenue, Chicago, IL 60646, USA   \n",
       "3  2007-05-29    7900 West Foster Avenue, Chicago, IL 60656, USA   \n",
       "4  2007-05-29    7900 West Foster Avenue, Chicago, IL 60656, USA   \n",
       "\n",
       "                  Species  Block           Street  Trap  \\\n",
       "0  CULEX PIPIENS/RESTUANS     41   N OAK PARK AVE  T002   \n",
       "1          CULEX RESTUANS     41   N OAK PARK AVE  T002   \n",
       "2          CULEX RESTUANS     62    N MANDELL AVE  T007   \n",
       "3  CULEX PIPIENS/RESTUANS     79     W FOSTER AVE  T015   \n",
       "4          CULEX RESTUANS     79     W FOSTER AVE  T015   \n",
       "\n",
       "              AddressNumberAndStreet   Latitude  Longitude  AddressAccuracy  \\\n",
       "0  4100  N OAK PARK AVE, Chicago, IL  41.954690 -87.800991                9   \n",
       "1  4100  N OAK PARK AVE, Chicago, IL  41.954690 -87.800991                9   \n",
       "2   6200  N MANDELL AVE, Chicago, IL  41.994991 -87.769279                9   \n",
       "3    7900  W FOSTER AVE, Chicago, IL  41.974089 -87.824812                8   \n",
       "4    7900  W FOSTER AVE, Chicago, IL  41.974089 -87.824812                8   \n",
       "\n",
       "   NumMosquitos  WnvPresent  \n",
       "0             1           0  \n",
       "1             1           0  \n",
       "2             1           0  \n",
       "3             1           0  \n",
       "4             4           0  "
      ]
     },
     "execution_count": 31,
     "metadata": {},
     "output_type": "execute_result"
    }
   ],
   "source": [
    "df_train.head()"
   ]
  },
  {
   "cell_type": "code",
   "execution_count": 32,
   "metadata": {},
   "outputs": [
    {
     "data": {
      "text/html": [
       "<div>\n",
       "<style scoped>\n",
       "    .dataframe tbody tr th:only-of-type {\n",
       "        vertical-align: middle;\n",
       "    }\n",
       "\n",
       "    .dataframe tbody tr th {\n",
       "        vertical-align: top;\n",
       "    }\n",
       "\n",
       "    .dataframe thead th {\n",
       "        text-align: right;\n",
       "    }\n",
       "</style>\n",
       "<table border=\"1\" class=\"dataframe\">\n",
       "  <thead>\n",
       "    <tr style=\"text-align: right;\">\n",
       "      <th></th>\n",
       "      <th>Station</th>\n",
       "      <th>Date</th>\n",
       "      <th>Tmax</th>\n",
       "      <th>Tmin</th>\n",
       "      <th>Tavg</th>\n",
       "      <th>Depart</th>\n",
       "      <th>DewPoint</th>\n",
       "      <th>WetBulb</th>\n",
       "      <th>Heat</th>\n",
       "      <th>Cool</th>\n",
       "      <th>...</th>\n",
       "      <th>CodeSum</th>\n",
       "      <th>Depth</th>\n",
       "      <th>Water1</th>\n",
       "      <th>SnowFall</th>\n",
       "      <th>PrecipTotal</th>\n",
       "      <th>StnPressure</th>\n",
       "      <th>SeaLevel</th>\n",
       "      <th>ResultSpeed</th>\n",
       "      <th>ResultDir</th>\n",
       "      <th>AvgSpeed</th>\n",
       "    </tr>\n",
       "  </thead>\n",
       "  <tbody>\n",
       "    <tr>\n",
       "      <th>0</th>\n",
       "      <td>1</td>\n",
       "      <td>2007-05-01</td>\n",
       "      <td>83</td>\n",
       "      <td>50</td>\n",
       "      <td>67</td>\n",
       "      <td>14</td>\n",
       "      <td>51</td>\n",
       "      <td>56</td>\n",
       "      <td>0</td>\n",
       "      <td>2</td>\n",
       "      <td>...</td>\n",
       "      <td></td>\n",
       "      <td>0</td>\n",
       "      <td>M</td>\n",
       "      <td>0.0</td>\n",
       "      <td>0.00</td>\n",
       "      <td>29.10</td>\n",
       "      <td>29.82</td>\n",
       "      <td>1.7</td>\n",
       "      <td>27</td>\n",
       "      <td>9.2</td>\n",
       "    </tr>\n",
       "    <tr>\n",
       "      <th>1</th>\n",
       "      <td>2</td>\n",
       "      <td>2007-05-01</td>\n",
       "      <td>84</td>\n",
       "      <td>52</td>\n",
       "      <td>68</td>\n",
       "      <td>M</td>\n",
       "      <td>51</td>\n",
       "      <td>57</td>\n",
       "      <td>0</td>\n",
       "      <td>3</td>\n",
       "      <td>...</td>\n",
       "      <td></td>\n",
       "      <td>M</td>\n",
       "      <td>M</td>\n",
       "      <td>M</td>\n",
       "      <td>0.00</td>\n",
       "      <td>29.18</td>\n",
       "      <td>29.82</td>\n",
       "      <td>2.7</td>\n",
       "      <td>25</td>\n",
       "      <td>9.6</td>\n",
       "    </tr>\n",
       "    <tr>\n",
       "      <th>2</th>\n",
       "      <td>1</td>\n",
       "      <td>2007-05-02</td>\n",
       "      <td>59</td>\n",
       "      <td>42</td>\n",
       "      <td>51</td>\n",
       "      <td>-3</td>\n",
       "      <td>42</td>\n",
       "      <td>47</td>\n",
       "      <td>14</td>\n",
       "      <td>0</td>\n",
       "      <td>...</td>\n",
       "      <td>BR</td>\n",
       "      <td>0</td>\n",
       "      <td>M</td>\n",
       "      <td>0.0</td>\n",
       "      <td>0.00</td>\n",
       "      <td>29.38</td>\n",
       "      <td>30.09</td>\n",
       "      <td>13.0</td>\n",
       "      <td>4</td>\n",
       "      <td>13.4</td>\n",
       "    </tr>\n",
       "    <tr>\n",
       "      <th>3</th>\n",
       "      <td>2</td>\n",
       "      <td>2007-05-02</td>\n",
       "      <td>60</td>\n",
       "      <td>43</td>\n",
       "      <td>52</td>\n",
       "      <td>M</td>\n",
       "      <td>42</td>\n",
       "      <td>47</td>\n",
       "      <td>13</td>\n",
       "      <td>0</td>\n",
       "      <td>...</td>\n",
       "      <td>BR HZ</td>\n",
       "      <td>M</td>\n",
       "      <td>M</td>\n",
       "      <td>M</td>\n",
       "      <td>0.00</td>\n",
       "      <td>29.44</td>\n",
       "      <td>30.08</td>\n",
       "      <td>13.3</td>\n",
       "      <td>2</td>\n",
       "      <td>13.4</td>\n",
       "    </tr>\n",
       "    <tr>\n",
       "      <th>4</th>\n",
       "      <td>1</td>\n",
       "      <td>2007-05-03</td>\n",
       "      <td>66</td>\n",
       "      <td>46</td>\n",
       "      <td>56</td>\n",
       "      <td>2</td>\n",
       "      <td>40</td>\n",
       "      <td>48</td>\n",
       "      <td>9</td>\n",
       "      <td>0</td>\n",
       "      <td>...</td>\n",
       "      <td></td>\n",
       "      <td>0</td>\n",
       "      <td>M</td>\n",
       "      <td>0.0</td>\n",
       "      <td>0.00</td>\n",
       "      <td>29.39</td>\n",
       "      <td>30.12</td>\n",
       "      <td>11.7</td>\n",
       "      <td>7</td>\n",
       "      <td>11.9</td>\n",
       "    </tr>\n",
       "  </tbody>\n",
       "</table>\n",
       "<p>5 rows × 22 columns</p>\n",
       "</div>"
      ],
      "text/plain": [
       "   Station        Date  Tmax  Tmin Tavg Depart  DewPoint WetBulb Heat Cool  \\\n",
       "0        1  2007-05-01    83    50   67     14        51      56    0    2   \n",
       "1        2  2007-05-01    84    52   68      M        51      57    0    3   \n",
       "2        1  2007-05-02    59    42   51     -3        42      47   14    0   \n",
       "3        2  2007-05-02    60    43   52      M        42      47   13    0   \n",
       "4        1  2007-05-03    66    46   56      2        40      48    9    0   \n",
       "\n",
       "   ... CodeSum Depth Water1 SnowFall PrecipTotal StnPressure SeaLevel  \\\n",
       "0  ...             0      M      0.0        0.00       29.10    29.82   \n",
       "1  ...             M      M        M        0.00       29.18    29.82   \n",
       "2  ...      BR     0      M      0.0        0.00       29.38    30.09   \n",
       "3  ...   BR HZ     M      M        M        0.00       29.44    30.08   \n",
       "4  ...             0      M      0.0        0.00       29.39    30.12   \n",
       "\n",
       "  ResultSpeed ResultDir  AvgSpeed  \n",
       "0         1.7        27       9.2  \n",
       "1         2.7        25       9.6  \n",
       "2        13.0         4      13.4  \n",
       "3        13.3         2      13.4  \n",
       "4        11.7         7      11.9  \n",
       "\n",
       "[5 rows x 22 columns]"
      ]
     },
     "execution_count": 32,
     "metadata": {},
     "output_type": "execute_result"
    }
   ],
   "source": [
    "df_weather.head()"
   ]
  },
  {
   "cell_type": "code",
   "execution_count": 33,
   "metadata": {},
   "outputs": [
    {
     "data": {
      "text/html": [
       "<div>\n",
       "<style scoped>\n",
       "    .dataframe tbody tr th:only-of-type {\n",
       "        vertical-align: middle;\n",
       "    }\n",
       "\n",
       "    .dataframe tbody tr th {\n",
       "        vertical-align: top;\n",
       "    }\n",
       "\n",
       "    .dataframe thead th {\n",
       "        text-align: right;\n",
       "    }\n",
       "</style>\n",
       "<table border=\"1\" class=\"dataframe\">\n",
       "  <thead>\n",
       "    <tr style=\"text-align: right;\">\n",
       "      <th></th>\n",
       "      <th>Date</th>\n",
       "      <th>Time</th>\n",
       "      <th>Latitude</th>\n",
       "      <th>Longitude</th>\n",
       "    </tr>\n",
       "  </thead>\n",
       "  <tbody>\n",
       "    <tr>\n",
       "      <th>0</th>\n",
       "      <td>2011-08-29</td>\n",
       "      <td>6:56:58 PM</td>\n",
       "      <td>42.391623</td>\n",
       "      <td>-88.089163</td>\n",
       "    </tr>\n",
       "    <tr>\n",
       "      <th>1</th>\n",
       "      <td>2011-08-29</td>\n",
       "      <td>6:57:08 PM</td>\n",
       "      <td>42.391348</td>\n",
       "      <td>-88.089163</td>\n",
       "    </tr>\n",
       "    <tr>\n",
       "      <th>2</th>\n",
       "      <td>2011-08-29</td>\n",
       "      <td>6:57:18 PM</td>\n",
       "      <td>42.391022</td>\n",
       "      <td>-88.089157</td>\n",
       "    </tr>\n",
       "    <tr>\n",
       "      <th>3</th>\n",
       "      <td>2011-08-29</td>\n",
       "      <td>6:57:28 PM</td>\n",
       "      <td>42.390637</td>\n",
       "      <td>-88.089158</td>\n",
       "    </tr>\n",
       "    <tr>\n",
       "      <th>4</th>\n",
       "      <td>2011-08-29</td>\n",
       "      <td>6:57:38 PM</td>\n",
       "      <td>42.390410</td>\n",
       "      <td>-88.088858</td>\n",
       "    </tr>\n",
       "  </tbody>\n",
       "</table>\n",
       "</div>"
      ],
      "text/plain": [
       "         Date        Time   Latitude  Longitude\n",
       "0  2011-08-29  6:56:58 PM  42.391623 -88.089163\n",
       "1  2011-08-29  6:57:08 PM  42.391348 -88.089163\n",
       "2  2011-08-29  6:57:18 PM  42.391022 -88.089157\n",
       "3  2011-08-29  6:57:28 PM  42.390637 -88.089158\n",
       "4  2011-08-29  6:57:38 PM  42.390410 -88.088858"
      ]
     },
     "execution_count": 33,
     "metadata": {},
     "output_type": "execute_result"
    }
   ],
   "source": [
    "df_spray.head()"
   ]
  },
  {
   "cell_type": "code",
   "execution_count": 34,
   "metadata": {},
   "outputs": [],
   "source": [
    "# Apply lower() to column names for all 3 dataframes\n",
    "df_weather.columns = df_weather.columns.str.lower()\n",
    "df_train.columns = df_train.columns.str.lower()\n",
    "df_spray.columns = df_spray.columns.str.lower()"
   ]
  },
  {
   "cell_type": "code",
   "execution_count": 35,
   "metadata": {},
   "outputs": [
    {
     "name": "stdout",
     "output_type": "stream",
     "text": [
      "Train dataset\n",
      "date                       object\n",
      "address                    object\n",
      "species                    object\n",
      "block                       int64\n",
      "street                     object\n",
      "trap                       object\n",
      "addressnumberandstreet     object\n",
      "latitude                  float64\n",
      "longitude                 float64\n",
      "addressaccuracy             int64\n",
      "nummosquitos                int64\n",
      "wnvpresent                  int64\n",
      "dtype: object\n",
      "\n",
      "Weather dataset\n",
      "station          int64\n",
      "date            object\n",
      "tmax             int64\n",
      "tmin             int64\n",
      "tavg            object\n",
      "depart          object\n",
      "dewpoint         int64\n",
      "wetbulb         object\n",
      "heat            object\n",
      "cool            object\n",
      "sunrise         object\n",
      "sunset          object\n",
      "codesum         object\n",
      "depth           object\n",
      "water1          object\n",
      "snowfall        object\n",
      "preciptotal     object\n",
      "stnpressure     object\n",
      "sealevel        object\n",
      "resultspeed    float64\n",
      "resultdir        int64\n",
      "avgspeed        object\n",
      "dtype: object\n",
      "\n",
      "Spray dataset\n",
      "date          object\n",
      "time          object\n",
      "latitude     float64\n",
      "longitude    float64\n",
      "dtype: object\n",
      "\n"
     ]
    }
   ],
   "source": [
    "# Check datatypes\n",
    "print('Train dataset')\n",
    "print(df_train.dtypes)\n",
    "print()\n",
    "print('Weather dataset')\n",
    "print(df_weather.dtypes)\n",
    "print()\n",
    "print('Spray dataset')\n",
    "print(df_spray.dtypes)\n",
    "print()"
   ]
  },
  {
   "cell_type": "code",
   "execution_count": 36,
   "metadata": {},
   "outputs": [],
   "source": [
    "# Change Date datatype to datetime\n",
    "df_train['date'] = pd.to_datetime(df_train['date'])\n",
    "df_weather['date'] = pd.to_datetime(df_weather['date'])\n",
    "df_spray['date'] = pd.to_datetime(df_spray['date'])"
   ]
  },
  {
   "cell_type": "code",
   "execution_count": 37,
   "metadata": {},
   "outputs": [
    {
     "name": "stdout",
     "output_type": "stream",
     "text": [
      "Train dataset\n",
      "date                      datetime64[ns]\n",
      "address                           object\n",
      "species                           object\n",
      "block                              int64\n",
      "street                            object\n",
      "trap                              object\n",
      "addressnumberandstreet            object\n",
      "latitude                         float64\n",
      "longitude                        float64\n",
      "addressaccuracy                    int64\n",
      "nummosquitos                       int64\n",
      "wnvpresent                         int64\n",
      "dtype: object\n",
      "\n",
      "Weather dataset\n",
      "station                 int64\n",
      "date           datetime64[ns]\n",
      "tmax                    int64\n",
      "tmin                    int64\n",
      "tavg                   object\n",
      "depart                 object\n",
      "dewpoint                int64\n",
      "wetbulb                object\n",
      "heat                   object\n",
      "cool                   object\n",
      "sunrise                object\n",
      "sunset                 object\n",
      "codesum                object\n",
      "depth                  object\n",
      "water1                 object\n",
      "snowfall               object\n",
      "preciptotal            object\n",
      "stnpressure            object\n",
      "sealevel               object\n",
      "resultspeed           float64\n",
      "resultdir               int64\n",
      "avgspeed               object\n",
      "dtype: object\n",
      "\n",
      "Spray dataset\n",
      "date         datetime64[ns]\n",
      "time                 object\n",
      "latitude            float64\n",
      "longitude           float64\n",
      "dtype: object\n",
      "\n"
     ]
    }
   ],
   "source": [
    "# Check datatypes\n",
    "print('Train dataset')\n",
    "print(df_train.dtypes)\n",
    "print()\n",
    "print('Weather dataset')\n",
    "print(df_weather.dtypes)\n",
    "print()\n",
    "print('Spray dataset')\n",
    "print(df_spray.dtypes)\n",
    "print()"
   ]
  },
  {
   "cell_type": "code",
   "execution_count": 38,
   "metadata": {},
   "outputs": [],
   "source": [
    "# Create `day`, `month` and `year` columns for all 3 dataframes\n",
    "df_spray['day'] = df_spray['date'].map(lambda x: x.day)\n",
    "df_spray['month'] = df_spray['date'].map(lambda x: x.month)\n",
    "df_spray['year'] = df_spray['date'].map(lambda x: x.year)\n",
    "\n",
    "df_weather['day'] = df_weather['date'].map(lambda x: x.day)\n",
    "df_weather['month'] = df_weather['date'].map(lambda x: x.month)\n",
    "df_weather['year'] = df_weather['date'].map(lambda x: x.year)\n",
    "\n",
    "df_train['day'] = df_train['date'].map(lambda x: x.day)\n",
    "df_train['month'] = df_train['date'].map(lambda x: x.month)\n",
    "df_train['year'] = df_train['date'].map(lambda x: x.year)"
   ]
  },
  {
   "cell_type": "code",
   "execution_count": 39,
   "metadata": {},
   "outputs": [
    {
     "name": "stdout",
     "output_type": "stream",
     "text": [
      "Train dataset: (10506, 15)\n",
      "Weather dataset: (2944, 25)\n",
      "Spray dataset: (14835, 7)\n"
     ]
    }
   ],
   "source": [
    "# View data shapes\n",
    "print(f'Train dataset: {df_train.shape}')\n",
    "print(f'Weather dataset: {df_weather.shape}')\n",
    "print(f'Spray dataset: {df_spray.shape}')"
   ]
  },
  {
   "cell_type": "code",
   "execution_count": 40,
   "metadata": {},
   "outputs": [
    {
     "name": "stdout",
     "output_type": "stream",
     "text": [
      "Train dataset: 0\n",
      "Weather dataset: 0\n",
      "Spray dataset: 584\n"
     ]
    }
   ],
   "source": [
    "# Check for NA values\n",
    "print(f'Train dataset: {df_train.isnull().sum().sum()}')\n",
    "print(f'Weather dataset: {df_weather.isnull().sum().sum()}')\n",
    "print(f'Spray dataset: {df_spray.isnull().sum().sum()}')"
   ]
  },
  {
   "cell_type": "markdown",
   "metadata": {},
   "source": [
    "### Data cleaning for df_spray"
   ]
  },
  {
   "cell_type": "code",
   "execution_count": 41,
   "metadata": {},
   "outputs": [
    {
     "name": "stdout",
     "output_type": "stream",
     "text": [
      "date           0\n",
      "time         584\n",
      "latitude       0\n",
      "longitude      0\n",
      "day            0\n",
      "month          0\n",
      "year           0\n",
      "dtype: int64\n"
     ]
    }
   ],
   "source": [
    "# Closer look at Spray dataset\n",
    "print(df_spray.isnull().sum())"
   ]
  },
  {
   "cell_type": "markdown",
   "metadata": {},
   "source": [
    "**Comment**\n",
    "\n",
    "Column 'Time' has 584 empty cells but it is not important for our analysis.\n",
    "The null values does not appear at random. Therefore, we will drop the column"
   ]
  },
  {
   "cell_type": "code",
   "execution_count": 42,
   "metadata": {},
   "outputs": [],
   "source": [
    "df_spray.drop(columns='time',inplace=True)"
   ]
  },
  {
   "cell_type": "code",
   "execution_count": 43,
   "metadata": {},
   "outputs": [
    {
     "data": {
      "text/html": [
       "<div>\n",
       "<style scoped>\n",
       "    .dataframe tbody tr th:only-of-type {\n",
       "        vertical-align: middle;\n",
       "    }\n",
       "\n",
       "    .dataframe tbody tr th {\n",
       "        vertical-align: top;\n",
       "    }\n",
       "\n",
       "    .dataframe thead th {\n",
       "        text-align: right;\n",
       "    }\n",
       "</style>\n",
       "<table border=\"1\" class=\"dataframe\">\n",
       "  <thead>\n",
       "    <tr style=\"text-align: right;\">\n",
       "      <th></th>\n",
       "      <th>date</th>\n",
       "      <th>latitude</th>\n",
       "      <th>longitude</th>\n",
       "      <th>day</th>\n",
       "      <th>month</th>\n",
       "      <th>year</th>\n",
       "    </tr>\n",
       "  </thead>\n",
       "  <tbody>\n",
       "    <tr>\n",
       "      <th>0</th>\n",
       "      <td>2011-08-29</td>\n",
       "      <td>42.391623</td>\n",
       "      <td>-88.089163</td>\n",
       "      <td>29</td>\n",
       "      <td>8</td>\n",
       "      <td>2011</td>\n",
       "    </tr>\n",
       "    <tr>\n",
       "      <th>1</th>\n",
       "      <td>2011-08-29</td>\n",
       "      <td>42.391348</td>\n",
       "      <td>-88.089163</td>\n",
       "      <td>29</td>\n",
       "      <td>8</td>\n",
       "      <td>2011</td>\n",
       "    </tr>\n",
       "    <tr>\n",
       "      <th>2</th>\n",
       "      <td>2011-08-29</td>\n",
       "      <td>42.391022</td>\n",
       "      <td>-88.089157</td>\n",
       "      <td>29</td>\n",
       "      <td>8</td>\n",
       "      <td>2011</td>\n",
       "    </tr>\n",
       "    <tr>\n",
       "      <th>3</th>\n",
       "      <td>2011-08-29</td>\n",
       "      <td>42.390637</td>\n",
       "      <td>-88.089158</td>\n",
       "      <td>29</td>\n",
       "      <td>8</td>\n",
       "      <td>2011</td>\n",
       "    </tr>\n",
       "    <tr>\n",
       "      <th>4</th>\n",
       "      <td>2011-08-29</td>\n",
       "      <td>42.390410</td>\n",
       "      <td>-88.088858</td>\n",
       "      <td>29</td>\n",
       "      <td>8</td>\n",
       "      <td>2011</td>\n",
       "    </tr>\n",
       "  </tbody>\n",
       "</table>\n",
       "</div>"
      ],
      "text/plain": [
       "        date   latitude  longitude  day  month  year\n",
       "0 2011-08-29  42.391623 -88.089163   29      8  2011\n",
       "1 2011-08-29  42.391348 -88.089163   29      8  2011\n",
       "2 2011-08-29  42.391022 -88.089157   29      8  2011\n",
       "3 2011-08-29  42.390637 -88.089158   29      8  2011\n",
       "4 2011-08-29  42.390410 -88.088858   29      8  2011"
      ]
     },
     "execution_count": 43,
     "metadata": {},
     "output_type": "execute_result"
    }
   ],
   "source": [
    "df_spray.head()"
   ]
  },
  {
   "cell_type": "markdown",
   "metadata": {},
   "source": [
    "### Data cleaning for df_weather"
   ]
  },
  {
   "cell_type": "code",
   "execution_count": 44,
   "metadata": {},
   "outputs": [],
   "source": [
    "# Define function to replace entires with M, blank spaces and '-' with Nan values, while T was replace with 0.05\n",
    "# https://wgntv.com/weather/what-are-traces-of-precipitation/\n",
    "def update_cols(df):\n",
    "    df.replace(['M','-',' ', '  T'],\n",
    "               [np.nan, np.nan, np.nan, 0.05],\n",
    "               inplace = True)\n",
    "    \n",
    "update_cols(df_weather)"
   ]
  },
  {
   "cell_type": "code",
   "execution_count": 45,
   "metadata": {},
   "outputs": [
    {
     "data": {
      "text/html": [
       "<div>\n",
       "<style scoped>\n",
       "    .dataframe tbody tr th:only-of-type {\n",
       "        vertical-align: middle;\n",
       "    }\n",
       "\n",
       "    .dataframe tbody tr th {\n",
       "        vertical-align: top;\n",
       "    }\n",
       "\n",
       "    .dataframe thead th {\n",
       "        text-align: right;\n",
       "    }\n",
       "</style>\n",
       "<table border=\"1\" class=\"dataframe\">\n",
       "  <thead>\n",
       "    <tr style=\"text-align: right;\">\n",
       "      <th></th>\n",
       "      <th>station</th>\n",
       "      <th>date</th>\n",
       "      <th>tmax</th>\n",
       "      <th>tmin</th>\n",
       "      <th>tavg</th>\n",
       "      <th>depart</th>\n",
       "      <th>dewpoint</th>\n",
       "      <th>wetbulb</th>\n",
       "      <th>heat</th>\n",
       "      <th>cool</th>\n",
       "      <th>...</th>\n",
       "      <th>snowfall</th>\n",
       "      <th>preciptotal</th>\n",
       "      <th>stnpressure</th>\n",
       "      <th>sealevel</th>\n",
       "      <th>resultspeed</th>\n",
       "      <th>resultdir</th>\n",
       "      <th>avgspeed</th>\n",
       "      <th>day</th>\n",
       "      <th>month</th>\n",
       "      <th>year</th>\n",
       "    </tr>\n",
       "  </thead>\n",
       "  <tbody>\n",
       "    <tr>\n",
       "      <th>0</th>\n",
       "      <td>1</td>\n",
       "      <td>2007-05-01</td>\n",
       "      <td>83</td>\n",
       "      <td>50</td>\n",
       "      <td>67</td>\n",
       "      <td>14</td>\n",
       "      <td>51</td>\n",
       "      <td>56</td>\n",
       "      <td>0</td>\n",
       "      <td>2</td>\n",
       "      <td>...</td>\n",
       "      <td>0.0</td>\n",
       "      <td>0.00</td>\n",
       "      <td>29.10</td>\n",
       "      <td>29.82</td>\n",
       "      <td>1.7</td>\n",
       "      <td>27</td>\n",
       "      <td>9.2</td>\n",
       "      <td>1</td>\n",
       "      <td>5</td>\n",
       "      <td>2007</td>\n",
       "    </tr>\n",
       "    <tr>\n",
       "      <th>1</th>\n",
       "      <td>2</td>\n",
       "      <td>2007-05-01</td>\n",
       "      <td>84</td>\n",
       "      <td>52</td>\n",
       "      <td>68</td>\n",
       "      <td>NaN</td>\n",
       "      <td>51</td>\n",
       "      <td>57</td>\n",
       "      <td>0</td>\n",
       "      <td>3</td>\n",
       "      <td>...</td>\n",
       "      <td>NaN</td>\n",
       "      <td>0.00</td>\n",
       "      <td>29.18</td>\n",
       "      <td>29.82</td>\n",
       "      <td>2.7</td>\n",
       "      <td>25</td>\n",
       "      <td>9.6</td>\n",
       "      <td>1</td>\n",
       "      <td>5</td>\n",
       "      <td>2007</td>\n",
       "    </tr>\n",
       "    <tr>\n",
       "      <th>2</th>\n",
       "      <td>1</td>\n",
       "      <td>2007-05-02</td>\n",
       "      <td>59</td>\n",
       "      <td>42</td>\n",
       "      <td>51</td>\n",
       "      <td>-3</td>\n",
       "      <td>42</td>\n",
       "      <td>47</td>\n",
       "      <td>14</td>\n",
       "      <td>0</td>\n",
       "      <td>...</td>\n",
       "      <td>0.0</td>\n",
       "      <td>0.00</td>\n",
       "      <td>29.38</td>\n",
       "      <td>30.09</td>\n",
       "      <td>13.0</td>\n",
       "      <td>4</td>\n",
       "      <td>13.4</td>\n",
       "      <td>2</td>\n",
       "      <td>5</td>\n",
       "      <td>2007</td>\n",
       "    </tr>\n",
       "    <tr>\n",
       "      <th>3</th>\n",
       "      <td>2</td>\n",
       "      <td>2007-05-02</td>\n",
       "      <td>60</td>\n",
       "      <td>43</td>\n",
       "      <td>52</td>\n",
       "      <td>NaN</td>\n",
       "      <td>42</td>\n",
       "      <td>47</td>\n",
       "      <td>13</td>\n",
       "      <td>0</td>\n",
       "      <td>...</td>\n",
       "      <td>NaN</td>\n",
       "      <td>0.00</td>\n",
       "      <td>29.44</td>\n",
       "      <td>30.08</td>\n",
       "      <td>13.3</td>\n",
       "      <td>2</td>\n",
       "      <td>13.4</td>\n",
       "      <td>2</td>\n",
       "      <td>5</td>\n",
       "      <td>2007</td>\n",
       "    </tr>\n",
       "    <tr>\n",
       "      <th>4</th>\n",
       "      <td>1</td>\n",
       "      <td>2007-05-03</td>\n",
       "      <td>66</td>\n",
       "      <td>46</td>\n",
       "      <td>56</td>\n",
       "      <td>2</td>\n",
       "      <td>40</td>\n",
       "      <td>48</td>\n",
       "      <td>9</td>\n",
       "      <td>0</td>\n",
       "      <td>...</td>\n",
       "      <td>0.0</td>\n",
       "      <td>0.00</td>\n",
       "      <td>29.39</td>\n",
       "      <td>30.12</td>\n",
       "      <td>11.7</td>\n",
       "      <td>7</td>\n",
       "      <td>11.9</td>\n",
       "      <td>3</td>\n",
       "      <td>5</td>\n",
       "      <td>2007</td>\n",
       "    </tr>\n",
       "  </tbody>\n",
       "</table>\n",
       "<p>5 rows × 25 columns</p>\n",
       "</div>"
      ],
      "text/plain": [
       "   station       date  tmax  tmin tavg depart  dewpoint wetbulb heat cool  \\\n",
       "0        1 2007-05-01    83    50   67     14        51      56    0    2   \n",
       "1        2 2007-05-01    84    52   68    NaN        51      57    0    3   \n",
       "2        1 2007-05-02    59    42   51     -3        42      47   14    0   \n",
       "3        2 2007-05-02    60    43   52    NaN        42      47   13    0   \n",
       "4        1 2007-05-03    66    46   56      2        40      48    9    0   \n",
       "\n",
       "   ... snowfall preciptotal stnpressure sealevel  resultspeed resultdir  \\\n",
       "0  ...      0.0        0.00       29.10    29.82          1.7        27   \n",
       "1  ...      NaN        0.00       29.18    29.82          2.7        25   \n",
       "2  ...      0.0        0.00       29.38    30.09         13.0         4   \n",
       "3  ...      NaN        0.00       29.44    30.08         13.3         2   \n",
       "4  ...      0.0        0.00       29.39    30.12         11.7         7   \n",
       "\n",
       "  avgspeed day month  year  \n",
       "0      9.2   1     5  2007  \n",
       "1      9.6   1     5  2007  \n",
       "2     13.4   2     5  2007  \n",
       "3     13.4   2     5  2007  \n",
       "4     11.9   3     5  2007  \n",
       "\n",
       "[5 rows x 25 columns]"
      ]
     },
     "execution_count": 45,
     "metadata": {},
     "output_type": "execute_result"
    }
   ],
   "source": [
    "df_weather.head()\n",
    "# Depart\n",
    "# Departure from normal. The difference between column 4 and the 30 year normal temperature \n",
    "# for this date. A minus (-) is number of degrees below normal.\n",
    "# A zero (0) indicates that the average for that day was the Normal.\n",
    "\n",
    "# DewPoint\n",
    "# The dew point is the temperature the air needs to be cooled to (at constant pressure) \n",
    "# in order to achieve a relative humidity (RH) of 100%.\n",
    "\n",
    "# WetBulb\n",
    "# At 100% relative humidity, the wet-bulb temperature is equal to the air temperature \n",
    "# (dry-bulb temperature) and it is lower at lower humidity."
   ]
  },
  {
   "cell_type": "code",
   "execution_count": 46,
   "metadata": {},
   "outputs": [
    {
     "data": {
      "text/plain": [
       "water1         2944\n",
       "codesum        1609\n",
       "depart         1472\n",
       "sunrise        1472\n",
       "sunset         1472\n",
       "depth          1472\n",
       "snowfall       1472\n",
       "tavg             11\n",
       "cool             11\n",
       "heat             11\n",
       "sealevel          9\n",
       "stnpressure       4\n",
       "wetbulb           4\n",
       "avgspeed          3\n",
       "preciptotal       2\n",
       "tmin              0\n",
       "tmax              0\n",
       "date              0\n",
       "year              0\n",
       "dewpoint          0\n",
       "month             0\n",
       "resultspeed       0\n",
       "resultdir         0\n",
       "day               0\n",
       "station           0\n",
       "dtype: int64"
      ]
     },
     "execution_count": 46,
     "metadata": {},
     "output_type": "execute_result"
    }
   ],
   "source": [
    "# Check for null\n",
    "df_weather.isnull().sum().sort_values(ascending=False)"
   ]
  },
  {
   "cell_type": "code",
   "execution_count": 47,
   "metadata": {},
   "outputs": [],
   "source": [
    "# Drop water1 column as it is missing all the data\n",
    "df_weather.drop(['water1'], axis = 1, inplace= True)\n",
    "\n",
    "# Replace Nan values in codesum column with 'MODERATE'\n",
    "df_weather['codesum'] = df_weather['codesum'].replace(np.nan, 'MODERATE')"
   ]
  },
  {
   "cell_type": "code",
   "execution_count": 48,
   "metadata": {},
   "outputs": [
    {
     "data": {
      "text/plain": [
       "station                 int64\n",
       "date           datetime64[ns]\n",
       "tmax                    int64\n",
       "tmin                    int64\n",
       "tavg                   object\n",
       "depart                 object\n",
       "dewpoint                int64\n",
       "wetbulb                object\n",
       "heat                   object\n",
       "cool                   object\n",
       "sunrise                object\n",
       "sunset                 object\n",
       "codesum                object\n",
       "depth                  object\n",
       "snowfall               object\n",
       "preciptotal            object\n",
       "stnpressure            object\n",
       "sealevel               object\n",
       "resultspeed           float64\n",
       "resultdir               int64\n",
       "avgspeed               object\n",
       "day                     int64\n",
       "month                   int64\n",
       "year                    int64\n",
       "dtype: object"
      ]
     },
     "execution_count": 48,
     "metadata": {},
     "output_type": "execute_result"
    }
   ],
   "source": [
    "df_weather.dtypes"
   ]
  },
  {
   "cell_type": "code",
   "execution_count": 49,
   "metadata": {},
   "outputs": [],
   "source": [
    "col_toflt = ['preciptotal', 'stnpressure', 'sealevel',\n",
    "             'avgspeed', 'preciptotal', 'tavg',\n",
    "             'depart', 'wetbulb', 'heat', 'cool',\n",
    "             'sunrise', 'sunset']\n",
    "\n",
    "for col in col_toflt:\n",
    "    df_weather[col] = df_weather[col].astype(float)"
   ]
  },
  {
   "cell_type": "code",
   "execution_count": 50,
   "metadata": {},
   "outputs": [
    {
     "data": {
      "text/plain": [
       "station                 int64\n",
       "date           datetime64[ns]\n",
       "tmax                    int64\n",
       "tmin                    int64\n",
       "tavg                  float64\n",
       "depart                float64\n",
       "dewpoint                int64\n",
       "wetbulb               float64\n",
       "heat                  float64\n",
       "cool                  float64\n",
       "sunrise               float64\n",
       "sunset                float64\n",
       "codesum                object\n",
       "depth                  object\n",
       "snowfall               object\n",
       "preciptotal           float64\n",
       "stnpressure           float64\n",
       "sealevel              float64\n",
       "resultspeed           float64\n",
       "resultdir               int64\n",
       "avgspeed              float64\n",
       "day                     int64\n",
       "month                   int64\n",
       "year                    int64\n",
       "dtype: object"
      ]
     },
     "execution_count": 50,
     "metadata": {},
     "output_type": "execute_result"
    }
   ],
   "source": [
    "df_weather.dtypes"
   ]
  },
  {
   "cell_type": "code",
   "execution_count": 51,
   "metadata": {},
   "outputs": [
    {
     "data": {
      "text/html": [
       "<div>\n",
       "<style scoped>\n",
       "    .dataframe tbody tr th:only-of-type {\n",
       "        vertical-align: middle;\n",
       "    }\n",
       "\n",
       "    .dataframe tbody tr th {\n",
       "        vertical-align: top;\n",
       "    }\n",
       "\n",
       "    .dataframe thead th {\n",
       "        text-align: right;\n",
       "    }\n",
       "</style>\n",
       "<table border=\"1\" class=\"dataframe\">\n",
       "  <thead>\n",
       "    <tr style=\"text-align: right;\">\n",
       "      <th></th>\n",
       "      <th>station</th>\n",
       "      <th>date</th>\n",
       "      <th>tmax</th>\n",
       "      <th>tmin</th>\n",
       "      <th>tavg</th>\n",
       "      <th>depart</th>\n",
       "      <th>dewpoint</th>\n",
       "      <th>wetbulb</th>\n",
       "      <th>heat</th>\n",
       "      <th>cool</th>\n",
       "      <th>...</th>\n",
       "      <th>snowfall</th>\n",
       "      <th>preciptotal</th>\n",
       "      <th>stnpressure</th>\n",
       "      <th>sealevel</th>\n",
       "      <th>resultspeed</th>\n",
       "      <th>resultdir</th>\n",
       "      <th>avgspeed</th>\n",
       "      <th>day</th>\n",
       "      <th>month</th>\n",
       "      <th>year</th>\n",
       "    </tr>\n",
       "  </thead>\n",
       "  <tbody>\n",
       "    <tr>\n",
       "      <th>0</th>\n",
       "      <td>1</td>\n",
       "      <td>2007-05-01</td>\n",
       "      <td>28.33</td>\n",
       "      <td>10.00</td>\n",
       "      <td>19.44</td>\n",
       "      <td>-10.00</td>\n",
       "      <td>10.56</td>\n",
       "      <td>13.33</td>\n",
       "      <td>0.0</td>\n",
       "      <td>2.0</td>\n",
       "      <td>...</td>\n",
       "      <td>0.0</td>\n",
       "      <td>0.00</td>\n",
       "      <td>29.10</td>\n",
       "      <td>29.82</td>\n",
       "      <td>1.7</td>\n",
       "      <td>27</td>\n",
       "      <td>9.2</td>\n",
       "      <td>1</td>\n",
       "      <td>5</td>\n",
       "      <td>2007</td>\n",
       "    </tr>\n",
       "    <tr>\n",
       "      <th>1</th>\n",
       "      <td>2</td>\n",
       "      <td>2007-05-01</td>\n",
       "      <td>28.89</td>\n",
       "      <td>11.11</td>\n",
       "      <td>20.00</td>\n",
       "      <td>NaN</td>\n",
       "      <td>10.56</td>\n",
       "      <td>13.89</td>\n",
       "      <td>0.0</td>\n",
       "      <td>3.0</td>\n",
       "      <td>...</td>\n",
       "      <td>NaN</td>\n",
       "      <td>0.00</td>\n",
       "      <td>29.18</td>\n",
       "      <td>29.82</td>\n",
       "      <td>2.7</td>\n",
       "      <td>25</td>\n",
       "      <td>9.6</td>\n",
       "      <td>1</td>\n",
       "      <td>5</td>\n",
       "      <td>2007</td>\n",
       "    </tr>\n",
       "    <tr>\n",
       "      <th>2</th>\n",
       "      <td>1</td>\n",
       "      <td>2007-05-02</td>\n",
       "      <td>15.00</td>\n",
       "      <td>5.56</td>\n",
       "      <td>10.56</td>\n",
       "      <td>-19.44</td>\n",
       "      <td>5.56</td>\n",
       "      <td>8.33</td>\n",
       "      <td>14.0</td>\n",
       "      <td>0.0</td>\n",
       "      <td>...</td>\n",
       "      <td>0.0</td>\n",
       "      <td>0.00</td>\n",
       "      <td>29.38</td>\n",
       "      <td>30.09</td>\n",
       "      <td>13.0</td>\n",
       "      <td>4</td>\n",
       "      <td>13.4</td>\n",
       "      <td>2</td>\n",
       "      <td>5</td>\n",
       "      <td>2007</td>\n",
       "    </tr>\n",
       "    <tr>\n",
       "      <th>3</th>\n",
       "      <td>2</td>\n",
       "      <td>2007-05-02</td>\n",
       "      <td>15.56</td>\n",
       "      <td>6.11</td>\n",
       "      <td>11.11</td>\n",
       "      <td>NaN</td>\n",
       "      <td>5.56</td>\n",
       "      <td>8.33</td>\n",
       "      <td>13.0</td>\n",
       "      <td>0.0</td>\n",
       "      <td>...</td>\n",
       "      <td>NaN</td>\n",
       "      <td>0.00</td>\n",
       "      <td>29.44</td>\n",
       "      <td>30.08</td>\n",
       "      <td>13.3</td>\n",
       "      <td>2</td>\n",
       "      <td>13.4</td>\n",
       "      <td>2</td>\n",
       "      <td>5</td>\n",
       "      <td>2007</td>\n",
       "    </tr>\n",
       "    <tr>\n",
       "      <th>4</th>\n",
       "      <td>1</td>\n",
       "      <td>2007-05-03</td>\n",
       "      <td>18.89</td>\n",
       "      <td>7.78</td>\n",
       "      <td>13.33</td>\n",
       "      <td>-16.67</td>\n",
       "      <td>4.44</td>\n",
       "      <td>8.89</td>\n",
       "      <td>9.0</td>\n",
       "      <td>0.0</td>\n",
       "      <td>...</td>\n",
       "      <td>0.0</td>\n",
       "      <td>0.00</td>\n",
       "      <td>29.39</td>\n",
       "      <td>30.12</td>\n",
       "      <td>11.7</td>\n",
       "      <td>7</td>\n",
       "      <td>11.9</td>\n",
       "      <td>3</td>\n",
       "      <td>5</td>\n",
       "      <td>2007</td>\n",
       "    </tr>\n",
       "    <tr>\n",
       "      <th>...</th>\n",
       "      <td>...</td>\n",
       "      <td>...</td>\n",
       "      <td>...</td>\n",
       "      <td>...</td>\n",
       "      <td>...</td>\n",
       "      <td>...</td>\n",
       "      <td>...</td>\n",
       "      <td>...</td>\n",
       "      <td>...</td>\n",
       "      <td>...</td>\n",
       "      <td>...</td>\n",
       "      <td>...</td>\n",
       "      <td>...</td>\n",
       "      <td>...</td>\n",
       "      <td>...</td>\n",
       "      <td>...</td>\n",
       "      <td>...</td>\n",
       "      <td>...</td>\n",
       "      <td>...</td>\n",
       "      <td>...</td>\n",
       "      <td>...</td>\n",
       "    </tr>\n",
       "    <tr>\n",
       "      <th>2939</th>\n",
       "      <td>2</td>\n",
       "      <td>2014-10-29</td>\n",
       "      <td>9.44</td>\n",
       "      <td>4.44</td>\n",
       "      <td>7.22</td>\n",
       "      <td>NaN</td>\n",
       "      <td>1.11</td>\n",
       "      <td>5.56</td>\n",
       "      <td>20.0</td>\n",
       "      <td>0.0</td>\n",
       "      <td>...</td>\n",
       "      <td>NaN</td>\n",
       "      <td>0.00</td>\n",
       "      <td>29.42</td>\n",
       "      <td>30.07</td>\n",
       "      <td>8.5</td>\n",
       "      <td>29</td>\n",
       "      <td>9.0</td>\n",
       "      <td>29</td>\n",
       "      <td>10</td>\n",
       "      <td>2014</td>\n",
       "    </tr>\n",
       "    <tr>\n",
       "      <th>2940</th>\n",
       "      <td>1</td>\n",
       "      <td>2014-10-30</td>\n",
       "      <td>10.56</td>\n",
       "      <td>0.00</td>\n",
       "      <td>5.56</td>\n",
       "      <td>-20.00</td>\n",
       "      <td>1.11</td>\n",
       "      <td>4.44</td>\n",
       "      <td>23.0</td>\n",
       "      <td>0.0</td>\n",
       "      <td>...</td>\n",
       "      <td>0.0</td>\n",
       "      <td>0.00</td>\n",
       "      <td>29.34</td>\n",
       "      <td>30.09</td>\n",
       "      <td>5.1</td>\n",
       "      <td>24</td>\n",
       "      <td>5.5</td>\n",
       "      <td>30</td>\n",
       "      <td>10</td>\n",
       "      <td>2014</td>\n",
       "    </tr>\n",
       "    <tr>\n",
       "      <th>2941</th>\n",
       "      <td>2</td>\n",
       "      <td>2014-10-30</td>\n",
       "      <td>11.67</td>\n",
       "      <td>2.78</td>\n",
       "      <td>7.22</td>\n",
       "      <td>NaN</td>\n",
       "      <td>1.67</td>\n",
       "      <td>5.56</td>\n",
       "      <td>20.0</td>\n",
       "      <td>0.0</td>\n",
       "      <td>...</td>\n",
       "      <td>NaN</td>\n",
       "      <td>0.05</td>\n",
       "      <td>29.41</td>\n",
       "      <td>30.10</td>\n",
       "      <td>5.9</td>\n",
       "      <td>23</td>\n",
       "      <td>6.5</td>\n",
       "      <td>30</td>\n",
       "      <td>10</td>\n",
       "      <td>2014</td>\n",
       "    </tr>\n",
       "    <tr>\n",
       "      <th>2942</th>\n",
       "      <td>1</td>\n",
       "      <td>2014-10-31</td>\n",
       "      <td>8.33</td>\n",
       "      <td>0.56</td>\n",
       "      <td>4.44</td>\n",
       "      <td>-21.11</td>\n",
       "      <td>-3.89</td>\n",
       "      <td>0.56</td>\n",
       "      <td>25.0</td>\n",
       "      <td>0.0</td>\n",
       "      <td>...</td>\n",
       "      <td>0.1</td>\n",
       "      <td>0.03</td>\n",
       "      <td>29.49</td>\n",
       "      <td>30.20</td>\n",
       "      <td>22.6</td>\n",
       "      <td>34</td>\n",
       "      <td>22.9</td>\n",
       "      <td>31</td>\n",
       "      <td>10</td>\n",
       "      <td>2014</td>\n",
       "    </tr>\n",
       "    <tr>\n",
       "      <th>2943</th>\n",
       "      <td>2</td>\n",
       "      <td>2014-10-31</td>\n",
       "      <td>9.44</td>\n",
       "      <td>1.11</td>\n",
       "      <td>5.56</td>\n",
       "      <td>NaN</td>\n",
       "      <td>-1.67</td>\n",
       "      <td>2.22</td>\n",
       "      <td>23.0</td>\n",
       "      <td>0.0</td>\n",
       "      <td>...</td>\n",
       "      <td>NaN</td>\n",
       "      <td>0.04</td>\n",
       "      <td>29.54</td>\n",
       "      <td>30.20</td>\n",
       "      <td>21.7</td>\n",
       "      <td>34</td>\n",
       "      <td>22.6</td>\n",
       "      <td>31</td>\n",
       "      <td>10</td>\n",
       "      <td>2014</td>\n",
       "    </tr>\n",
       "  </tbody>\n",
       "</table>\n",
       "<p>2944 rows × 24 columns</p>\n",
       "</div>"
      ],
      "text/plain": [
       "      station       date   tmax   tmin   tavg  depart  dewpoint  wetbulb  \\\n",
       "0           1 2007-05-01  28.33  10.00  19.44  -10.00     10.56    13.33   \n",
       "1           2 2007-05-01  28.89  11.11  20.00     NaN     10.56    13.89   \n",
       "2           1 2007-05-02  15.00   5.56  10.56  -19.44      5.56     8.33   \n",
       "3           2 2007-05-02  15.56   6.11  11.11     NaN      5.56     8.33   \n",
       "4           1 2007-05-03  18.89   7.78  13.33  -16.67      4.44     8.89   \n",
       "...       ...        ...    ...    ...    ...     ...       ...      ...   \n",
       "2939        2 2014-10-29   9.44   4.44   7.22     NaN      1.11     5.56   \n",
       "2940        1 2014-10-30  10.56   0.00   5.56  -20.00      1.11     4.44   \n",
       "2941        2 2014-10-30  11.67   2.78   7.22     NaN      1.67     5.56   \n",
       "2942        1 2014-10-31   8.33   0.56   4.44  -21.11     -3.89     0.56   \n",
       "2943        2 2014-10-31   9.44   1.11   5.56     NaN     -1.67     2.22   \n",
       "\n",
       "      heat  cool  ...  snowfall  preciptotal stnpressure sealevel resultspeed  \\\n",
       "0      0.0   2.0  ...       0.0         0.00       29.10    29.82         1.7   \n",
       "1      0.0   3.0  ...       NaN         0.00       29.18    29.82         2.7   \n",
       "2     14.0   0.0  ...       0.0         0.00       29.38    30.09        13.0   \n",
       "3     13.0   0.0  ...       NaN         0.00       29.44    30.08        13.3   \n",
       "4      9.0   0.0  ...       0.0         0.00       29.39    30.12        11.7   \n",
       "...    ...   ...  ...       ...          ...         ...      ...         ...   \n",
       "2939  20.0   0.0  ...       NaN         0.00       29.42    30.07         8.5   \n",
       "2940  23.0   0.0  ...       0.0         0.00       29.34    30.09         5.1   \n",
       "2941  20.0   0.0  ...       NaN         0.05       29.41    30.10         5.9   \n",
       "2942  25.0   0.0  ...       0.1         0.03       29.49    30.20        22.6   \n",
       "2943  23.0   0.0  ...       NaN         0.04       29.54    30.20        21.7   \n",
       "\n",
       "      resultdir  avgspeed  day  month  year  \n",
       "0            27       9.2    1      5  2007  \n",
       "1            25       9.6    1      5  2007  \n",
       "2             4      13.4    2      5  2007  \n",
       "3             2      13.4    2      5  2007  \n",
       "4             7      11.9    3      5  2007  \n",
       "...         ...       ...  ...    ...   ...  \n",
       "2939         29       9.0   29     10  2014  \n",
       "2940         24       5.5   30     10  2014  \n",
       "2941         23       6.5   30     10  2014  \n",
       "2942         34      22.9   31     10  2014  \n",
       "2943         34      22.6   31     10  2014  \n",
       "\n",
       "[2944 rows x 24 columns]"
      ]
     },
     "execution_count": 51,
     "metadata": {},
     "output_type": "execute_result"
    }
   ],
   "source": [
    "# Define function to convert temperature to Celsius\n",
    "def fahrenheit_to_celsius(df,column_names):\n",
    "    '''\n",
    "    Convert temperature from Fahrenheit to Celsius\n",
    "    \n",
    "    Takes:\n",
    "    df - DataFrame\n",
    "    column_names - (list of str) - names of columns for conversion\n",
    "    \n",
    "    Returns:\n",
    "    df\n",
    "    '''\n",
    "    for name in column_names:\n",
    "        try:\n",
    "            df[name] = round((df[name]-32)*5/9,2)\n",
    "        except TypeError:\n",
    "            continue\n",
    "    return df\n",
    "\n",
    "fahrenheit_to_celsius(df_weather,\n",
    "                      ['tmax','tmin','tavg','depart','dewpoint','wetbulb'])"
   ]
  },
  {
   "cell_type": "code",
   "execution_count": 52,
   "metadata": {},
   "outputs": [],
   "source": [
    "# Fill null values with -100\n",
    "# col_tofill = ['heat', 'cool', 'sunrise',\n",
    "#              'sunset', 'preciptotal', 'sealevel',\n",
    "#              'avgspeed', 'stnpressure', 'avgspeed',\n",
    "#              'depart','snowfall','depth', 'tavg']\n",
    "\n",
    "# for col in col_tofill:\n",
    "#     df_weather[col] = df_weather[col].replace(np.nan,-100)"
   ]
  },
  {
   "cell_type": "code",
   "execution_count": 53,
   "metadata": {},
   "outputs": [
    {
     "data": {
      "text/plain": [
       "station           0\n",
       "date              0\n",
       "tmax              0\n",
       "tmin              0\n",
       "tavg             11\n",
       "depart         1472\n",
       "dewpoint          0\n",
       "wetbulb           4\n",
       "heat             11\n",
       "cool             11\n",
       "sunrise        1472\n",
       "sunset         1472\n",
       "codesum           0\n",
       "depth          1472\n",
       "snowfall       1472\n",
       "preciptotal       2\n",
       "stnpressure       4\n",
       "sealevel          9\n",
       "resultspeed       0\n",
       "resultdir         0\n",
       "avgspeed          3\n",
       "day               0\n",
       "month             0\n",
       "year              0\n",
       "dtype: int64"
      ]
     },
     "execution_count": 53,
     "metadata": {},
     "output_type": "execute_result"
    }
   ],
   "source": [
    "df_weather.isnull().sum()"
   ]
  },
  {
   "cell_type": "code",
   "execution_count": 54,
   "metadata": {},
   "outputs": [
    {
     "data": {
      "text/html": [
       "<div>\n",
       "<style scoped>\n",
       "    .dataframe tbody tr th:only-of-type {\n",
       "        vertical-align: middle;\n",
       "    }\n",
       "\n",
       "    .dataframe tbody tr th {\n",
       "        vertical-align: top;\n",
       "    }\n",
       "\n",
       "    .dataframe thead th {\n",
       "        text-align: right;\n",
       "    }\n",
       "</style>\n",
       "<table border=\"1\" class=\"dataframe\">\n",
       "  <thead>\n",
       "    <tr style=\"text-align: right;\">\n",
       "      <th></th>\n",
       "      <th>station</th>\n",
       "      <th>date</th>\n",
       "      <th>tmax</th>\n",
       "      <th>tmin</th>\n",
       "      <th>tavg</th>\n",
       "      <th>depart</th>\n",
       "      <th>dewpoint</th>\n",
       "      <th>wetbulb</th>\n",
       "      <th>heat</th>\n",
       "      <th>cool</th>\n",
       "      <th>...</th>\n",
       "      <th>snowfall</th>\n",
       "      <th>preciptotal</th>\n",
       "      <th>stnpressure</th>\n",
       "      <th>sealevel</th>\n",
       "      <th>resultspeed</th>\n",
       "      <th>resultdir</th>\n",
       "      <th>avgspeed</th>\n",
       "      <th>day</th>\n",
       "      <th>month</th>\n",
       "      <th>year</th>\n",
       "    </tr>\n",
       "  </thead>\n",
       "  <tbody>\n",
       "    <tr>\n",
       "      <th>0</th>\n",
       "      <td>1</td>\n",
       "      <td>2007-05-01</td>\n",
       "      <td>28.33</td>\n",
       "      <td>10.00</td>\n",
       "      <td>19.44</td>\n",
       "      <td>-10.00</td>\n",
       "      <td>10.56</td>\n",
       "      <td>13.33</td>\n",
       "      <td>0.0</td>\n",
       "      <td>2.0</td>\n",
       "      <td>...</td>\n",
       "      <td>0.0</td>\n",
       "      <td>0.0</td>\n",
       "      <td>29.10</td>\n",
       "      <td>29.82</td>\n",
       "      <td>1.7</td>\n",
       "      <td>27</td>\n",
       "      <td>9.2</td>\n",
       "      <td>1</td>\n",
       "      <td>5</td>\n",
       "      <td>2007</td>\n",
       "    </tr>\n",
       "    <tr>\n",
       "      <th>1</th>\n",
       "      <td>2</td>\n",
       "      <td>2007-05-01</td>\n",
       "      <td>28.89</td>\n",
       "      <td>11.11</td>\n",
       "      <td>20.00</td>\n",
       "      <td>NaN</td>\n",
       "      <td>10.56</td>\n",
       "      <td>13.89</td>\n",
       "      <td>0.0</td>\n",
       "      <td>3.0</td>\n",
       "      <td>...</td>\n",
       "      <td>NaN</td>\n",
       "      <td>0.0</td>\n",
       "      <td>29.18</td>\n",
       "      <td>29.82</td>\n",
       "      <td>2.7</td>\n",
       "      <td>25</td>\n",
       "      <td>9.6</td>\n",
       "      <td>1</td>\n",
       "      <td>5</td>\n",
       "      <td>2007</td>\n",
       "    </tr>\n",
       "    <tr>\n",
       "      <th>2</th>\n",
       "      <td>1</td>\n",
       "      <td>2007-05-02</td>\n",
       "      <td>15.00</td>\n",
       "      <td>5.56</td>\n",
       "      <td>10.56</td>\n",
       "      <td>-19.44</td>\n",
       "      <td>5.56</td>\n",
       "      <td>8.33</td>\n",
       "      <td>14.0</td>\n",
       "      <td>0.0</td>\n",
       "      <td>...</td>\n",
       "      <td>0.0</td>\n",
       "      <td>0.0</td>\n",
       "      <td>29.38</td>\n",
       "      <td>30.09</td>\n",
       "      <td>13.0</td>\n",
       "      <td>4</td>\n",
       "      <td>13.4</td>\n",
       "      <td>2</td>\n",
       "      <td>5</td>\n",
       "      <td>2007</td>\n",
       "    </tr>\n",
       "    <tr>\n",
       "      <th>3</th>\n",
       "      <td>2</td>\n",
       "      <td>2007-05-02</td>\n",
       "      <td>15.56</td>\n",
       "      <td>6.11</td>\n",
       "      <td>11.11</td>\n",
       "      <td>NaN</td>\n",
       "      <td>5.56</td>\n",
       "      <td>8.33</td>\n",
       "      <td>13.0</td>\n",
       "      <td>0.0</td>\n",
       "      <td>...</td>\n",
       "      <td>NaN</td>\n",
       "      <td>0.0</td>\n",
       "      <td>29.44</td>\n",
       "      <td>30.08</td>\n",
       "      <td>13.3</td>\n",
       "      <td>2</td>\n",
       "      <td>13.4</td>\n",
       "      <td>2</td>\n",
       "      <td>5</td>\n",
       "      <td>2007</td>\n",
       "    </tr>\n",
       "    <tr>\n",
       "      <th>4</th>\n",
       "      <td>1</td>\n",
       "      <td>2007-05-03</td>\n",
       "      <td>18.89</td>\n",
       "      <td>7.78</td>\n",
       "      <td>13.33</td>\n",
       "      <td>-16.67</td>\n",
       "      <td>4.44</td>\n",
       "      <td>8.89</td>\n",
       "      <td>9.0</td>\n",
       "      <td>0.0</td>\n",
       "      <td>...</td>\n",
       "      <td>0.0</td>\n",
       "      <td>0.0</td>\n",
       "      <td>29.39</td>\n",
       "      <td>30.12</td>\n",
       "      <td>11.7</td>\n",
       "      <td>7</td>\n",
       "      <td>11.9</td>\n",
       "      <td>3</td>\n",
       "      <td>5</td>\n",
       "      <td>2007</td>\n",
       "    </tr>\n",
       "  </tbody>\n",
       "</table>\n",
       "<p>5 rows × 24 columns</p>\n",
       "</div>"
      ],
      "text/plain": [
       "   station       date   tmax   tmin   tavg  depart  dewpoint  wetbulb  heat  \\\n",
       "0        1 2007-05-01  28.33  10.00  19.44  -10.00     10.56    13.33   0.0   \n",
       "1        2 2007-05-01  28.89  11.11  20.00     NaN     10.56    13.89   0.0   \n",
       "2        1 2007-05-02  15.00   5.56  10.56  -19.44      5.56     8.33  14.0   \n",
       "3        2 2007-05-02  15.56   6.11  11.11     NaN      5.56     8.33  13.0   \n",
       "4        1 2007-05-03  18.89   7.78  13.33  -16.67      4.44     8.89   9.0   \n",
       "\n",
       "   cool  ...  snowfall  preciptotal stnpressure sealevel resultspeed  \\\n",
       "0   2.0  ...       0.0          0.0       29.10    29.82         1.7   \n",
       "1   3.0  ...       NaN          0.0       29.18    29.82         2.7   \n",
       "2   0.0  ...       0.0          0.0       29.38    30.09        13.0   \n",
       "3   0.0  ...       NaN          0.0       29.44    30.08        13.3   \n",
       "4   0.0  ...       0.0          0.0       29.39    30.12        11.7   \n",
       "\n",
       "   resultdir  avgspeed  day  month  year  \n",
       "0         27       9.2    1      5  2007  \n",
       "1         25       9.6    1      5  2007  \n",
       "2          4      13.4    2      5  2007  \n",
       "3          2      13.4    2      5  2007  \n",
       "4          7      11.9    3      5  2007  \n",
       "\n",
       "[5 rows x 24 columns]"
      ]
     },
     "execution_count": 54,
     "metadata": {},
     "output_type": "execute_result"
    }
   ],
   "source": [
    "df_weather.head()"
   ]
  },
  {
   "cell_type": "markdown",
   "metadata": {},
   "source": [
    "## Exploratory Data Analysis"
   ]
  },
  {
   "cell_type": "markdown",
   "metadata": {},
   "source": [
    "### EDA - Weather dataset"
   ]
  },
  {
   "cell_type": "code",
   "execution_count": 55,
   "metadata": {},
   "outputs": [],
   "source": [
    "# Masking weather data by station\n",
    "df_weather_st1 = df_weather[df_weather['station']==1]\n",
    "df_weather_st2 = df_weather[df_weather['station']==2]"
   ]
  },
  {
   "cell_type": "code",
   "execution_count": 56,
   "metadata": {},
   "outputs": [
    {
     "ename": "NameError",
     "evalue": "name 'main_df' is not defined",
     "output_type": "error",
     "traceback": [
      "\u001b[1;31m---------------------------------------------------------------------------\u001b[0m",
      "\u001b[1;31mNameError\u001b[0m                                 Traceback (most recent call last)",
      "\u001b[1;32m<ipython-input-56-ddb575f773d7>\u001b[0m in \u001b[0;36m<module>\u001b[1;34m\u001b[0m\n\u001b[1;32m----> 1\u001b[1;33m \u001b[1;32mdef\u001b[0m \u001b[0mscatter\u001b[0m\u001b[1;33m(\u001b[0m\u001b[0mcolumn_list\u001b[0m\u001b[1;33m,\u001b[0m\u001b[0mdf\u001b[0m\u001b[1;33m=\u001b[0m\u001b[0mmain_df\u001b[0m\u001b[1;33m)\u001b[0m\u001b[1;33m:\u001b[0m\u001b[1;33m\u001b[0m\u001b[1;33m\u001b[0m\u001b[0m\n\u001b[0m\u001b[0;32m      2\u001b[0m     '''\n\u001b[0;32m      3\u001b[0m     \u001b[0mPlot\u001b[0m \u001b[0mstation\u001b[0m \u001b[1;36m1\u001b[0m \u001b[0magainst\u001b[0m \u001b[0mstation\u001b[0m \u001b[1;36m2\u001b[0m\u001b[1;33m\u001b[0m\u001b[1;33m\u001b[0m\u001b[0m\n\u001b[0;32m      4\u001b[0m     '''\n\u001b[0;32m      5\u001b[0m     \u001b[0mnrows\u001b[0m \u001b[1;33m=\u001b[0m \u001b[0mint\u001b[0m\u001b[1;33m(\u001b[0m\u001b[0mnp\u001b[0m\u001b[1;33m.\u001b[0m\u001b[0mceil\u001b[0m\u001b[1;33m(\u001b[0m\u001b[0mlen\u001b[0m\u001b[1;33m(\u001b[0m\u001b[0mcolumn_list\u001b[0m\u001b[1;33m)\u001b[0m\u001b[1;33m/\u001b[0m\u001b[1;36m2\u001b[0m\u001b[1;33m)\u001b[0m\u001b[1;33m)\u001b[0m\u001b[1;33m\u001b[0m\u001b[1;33m\u001b[0m\u001b[0m\n",
      "\u001b[1;31mNameError\u001b[0m: name 'main_df' is not defined"
     ]
    }
   ],
   "source": [
    "def scatter(column_list,df=main_df):\n",
    "    '''\n",
    "    Plot station 1 against station 2\n",
    "    '''\n",
    "    nrows = int(np.ceil(len(column_list)/2))\n",
    "    fig,ax=plt.subplots(nrows=nrows,ncols=2,figsize=(20,50))\n",
    "    for i,name in enumerate(column_list):\n",
    "        x = df[name + '_x']\n",
    "        y = df[name +'_y']\n",
    "        if i <=nrows-1:\n",
    "            c=0\n",
    "            a = i\n",
    "        else:\n",
    "            c=1\n",
    "            a = i - nrows\n",
    "\n",
    "        ax[a,c].scatter(x,y)\n",
    "        ax[a,c].set_title(name,fontsize=15)\n",
    "        plt.tight_layout(pad=0.4, w_pad=2, h_pad=2)\n",
    "        \n",
    "def boxplots(column_list,df=main_df):\n",
    "    '''\n",
    "    Plot boxplot of all columns of station 1,station 2\n",
    "    '''\n",
    "    nrows = int(np.ceil(len(column_list)/4))\n",
    "    fig,ax=plt.subplots(nrows=nrows,ncols=4,figsize=(20,50))\n",
    "    for i,name in enumerate(column_list):\n",
    "        x = df[name]\n",
    "        if i <=nrows-1:\n",
    "            c=0\n",
    "            a=i\n",
    "        elif i <=nrows*2-1:\n",
    "            c=1\n",
    "            a=i - nrows\n",
    "        elif i <=nrows*3-1:\n",
    "            c=2\n",
    "            a=i - nrows*2\n",
    "        else:\n",
    "            c=3\n",
    "            a=i - nrows*3\n",
    "\n",
    "        ax[a,c].boxplot(x=x)\n",
    "        ax[a,c].set_title(name,fontsize=15)\n",
    "        plt.tight_layout(pad=0.4, w_pad=2, h_pad=2)"
   ]
  },
  {
   "cell_type": "code",
   "execution_count": 58,
   "metadata": {},
   "outputs": [],
   "source": [
    "# Merging df_weather_st1 and df_weather_st2 in one rows\n",
    "weather_df = pd.merge(df_weather_st1,df_weather_st2,on='date')"
   ]
  },
  {
   "cell_type": "code",
   "execution_count": 59,
   "metadata": {},
   "outputs": [],
   "source": [
    "column_names = [name.split('_')[0] for name in ['station_x', 'tmax_x',\n",
    "       'tmin_x', 'tavg_x', 'depart_x', 'dewpoint_x', 'wetbulb_x', 'heat_x',\n",
    "       'cool_x', 'sunrise_x', 'sunset_x', 'codesum_x', 'depth_x',\n",
    "       'snowfall_x', 'preciptotal_x', 'stnpressure_x', 'sealevel_x',\n",
    "       'resultspeed_x', 'resultdir_x', 'avgspeed_x', 'station_y', 'tmax_y',\n",
    "       'tmin_y', 'tavg_y', 'depart_y', 'dewpoint_y', 'wetbulb_y', 'heat_y',\n",
    "       'cool_y', 'sunrise_y', 'sunset_y', 'codesum_y', 'depth_y',\n",
    "       'snowfall_y', 'preciptotal_y', 'stnpressure_y', 'sealevel_y',\n",
    "       'resultspeed_y', 'resultdir_y', 'avgspeed_y']]"
   ]
  },
  {
   "cell_type": "code",
   "execution_count": 62,
   "metadata": {
    "scrolled": false
   },
   "outputs": [
    {
     "ename": "TypeError",
     "evalue": "'data' must be pandas DataFrame object, not: <class 'list'>",
     "output_type": "error",
     "traceback": [
      "\u001b[1;31m---------------------------------------------------------------------------\u001b[0m",
      "\u001b[1;31mTypeError\u001b[0m                                 Traceback (most recent call last)",
      "\u001b[1;32m<ipython-input-62-4a94170fa6db>\u001b[0m in \u001b[0;36m<module>\u001b[1;34m\u001b[0m\n\u001b[1;32m----> 1\u001b[1;33m \u001b[0msns\u001b[0m\u001b[1;33m.\u001b[0m\u001b[0mpairplot\u001b[0m\u001b[1;33m(\u001b[0m\u001b[0mcolumn_names\u001b[0m\u001b[1;33m)\u001b[0m\u001b[1;33m\u001b[0m\u001b[1;33m\u001b[0m\u001b[0m\n\u001b[0m",
      "\u001b[1;32m~\\anaconda3\\lib\\site-packages\\seaborn\\axisgrid.py\u001b[0m in \u001b[0;36mpairplot\u001b[1;34m(data, hue, hue_order, palette, vars, x_vars, y_vars, kind, diag_kind, markers, height, aspect, corner, dropna, plot_kws, diag_kws, grid_kws, size)\u001b[0m\n\u001b[0;32m   2082\u001b[0m         raise TypeError(\n\u001b[0;32m   2083\u001b[0m             \"'data' must be pandas DataFrame object, not: {typefound}\".format(\n\u001b[1;32m-> 2084\u001b[1;33m                 typefound=type(data)))\n\u001b[0m\u001b[0;32m   2085\u001b[0m \u001b[1;33m\u001b[0m\u001b[0m\n\u001b[0;32m   2086\u001b[0m     \u001b[0mplot_kws\u001b[0m \u001b[1;33m=\u001b[0m \u001b[1;33m{\u001b[0m\u001b[1;33m}\u001b[0m \u001b[1;32mif\u001b[0m \u001b[0mplot_kws\u001b[0m \u001b[1;32mis\u001b[0m \u001b[1;32mNone\u001b[0m \u001b[1;32melse\u001b[0m \u001b[0mplot_kws\u001b[0m\u001b[1;33m.\u001b[0m\u001b[0mcopy\u001b[0m\u001b[1;33m(\u001b[0m\u001b[1;33m)\u001b[0m\u001b[1;33m\u001b[0m\u001b[1;33m\u001b[0m\u001b[0m\n",
      "\u001b[1;31mTypeError\u001b[0m: 'data' must be pandas DataFrame object, not: <class 'list'>"
     ]
    }
   ],
   "source": [
    "sns.pairplot(column_names)"
   ]
  },
  {
   "cell_type": "markdown",
   "metadata": {},
   "source": [
    "### EDA - Spray dataset"
   ]
  },
  {
   "cell_type": "code",
   "execution_count": 65,
   "metadata": {},
   "outputs": [],
   "source": [
    "# Choosing columns for clustering\n",
    "X = df_spray[['day', 'month','year','latitude', 'longitude']]"
   ]
  },
  {
   "cell_type": "code",
   "execution_count": 66,
   "metadata": {},
   "outputs": [
    {
     "data": {
      "text/plain": [
       "DBSCAN(algorithm='auto', eps=0.1, leaf_size=30, metric='euclidean',\n",
       "       metric_params=None, min_samples=5, n_jobs=None, p=None)"
      ]
     },
     "execution_count": 66,
     "metadata": {},
     "output_type": "execute_result"
    }
   ],
   "source": [
    "# Standartizing data\n",
    "ss = StandardScaler()\n",
    "X_scaled = ss.fit_transform(X)\n",
    "# Training DBSCAN for predicting \n",
    "dbs = DBSCAN(eps=0.1)\n",
    "dbs.fit(X)"
   ]
  },
  {
   "cell_type": "code",
   "execution_count": 67,
   "metadata": {},
   "outputs": [
    {
     "data": {
      "text/plain": [
       "array([ 0,  1,  2,  3,  4,  5,  6,  7,  8,  9, 10, 11, 12], dtype=int64)"
      ]
     },
     "execution_count": 67,
     "metadata": {},
     "output_type": "execute_result"
    }
   ],
   "source": [
    "# Verifying labels (there should be 13)\n",
    "np.unique(dbs.labels_)"
   ]
  },
  {
   "cell_type": "code",
   "execution_count": 68,
   "metadata": {},
   "outputs": [],
   "source": [
    "# Adding labels to spray df\n",
    "df_spray['labels'] = dbs.labels_"
   ]
  },
  {
   "cell_type": "code",
   "execution_count": 69,
   "metadata": {},
   "outputs": [
    {
     "data": {
      "text/html": [
       "<div>\n",
       "<style scoped>\n",
       "    .dataframe tbody tr th:only-of-type {\n",
       "        vertical-align: middle;\n",
       "    }\n",
       "\n",
       "    .dataframe tbody tr th {\n",
       "        vertical-align: top;\n",
       "    }\n",
       "\n",
       "    .dataframe thead th {\n",
       "        text-align: right;\n",
       "    }\n",
       "</style>\n",
       "<table border=\"1\" class=\"dataframe\">\n",
       "  <thead>\n",
       "    <tr style=\"text-align: right;\">\n",
       "      <th></th>\n",
       "      <th>date</th>\n",
       "      <th>latitude</th>\n",
       "      <th>longitude</th>\n",
       "      <th>day</th>\n",
       "      <th>month</th>\n",
       "      <th>year</th>\n",
       "      <th>labels</th>\n",
       "    </tr>\n",
       "  </thead>\n",
       "  <tbody>\n",
       "    <tr>\n",
       "      <th>0</th>\n",
       "      <td>2011-08-29</td>\n",
       "      <td>42.391623</td>\n",
       "      <td>-88.089163</td>\n",
       "      <td>29</td>\n",
       "      <td>8</td>\n",
       "      <td>2011</td>\n",
       "      <td>0</td>\n",
       "    </tr>\n",
       "    <tr>\n",
       "      <th>1</th>\n",
       "      <td>2011-08-29</td>\n",
       "      <td>42.391348</td>\n",
       "      <td>-88.089163</td>\n",
       "      <td>29</td>\n",
       "      <td>8</td>\n",
       "      <td>2011</td>\n",
       "      <td>0</td>\n",
       "    </tr>\n",
       "    <tr>\n",
       "      <th>2</th>\n",
       "      <td>2011-08-29</td>\n",
       "      <td>42.391022</td>\n",
       "      <td>-88.089157</td>\n",
       "      <td>29</td>\n",
       "      <td>8</td>\n",
       "      <td>2011</td>\n",
       "      <td>0</td>\n",
       "    </tr>\n",
       "    <tr>\n",
       "      <th>3</th>\n",
       "      <td>2011-08-29</td>\n",
       "      <td>42.390637</td>\n",
       "      <td>-88.089158</td>\n",
       "      <td>29</td>\n",
       "      <td>8</td>\n",
       "      <td>2011</td>\n",
       "      <td>0</td>\n",
       "    </tr>\n",
       "    <tr>\n",
       "      <th>4</th>\n",
       "      <td>2011-08-29</td>\n",
       "      <td>42.390410</td>\n",
       "      <td>-88.088858</td>\n",
       "      <td>29</td>\n",
       "      <td>8</td>\n",
       "      <td>2011</td>\n",
       "      <td>0</td>\n",
       "    </tr>\n",
       "  </tbody>\n",
       "</table>\n",
       "</div>"
      ],
      "text/plain": [
       "        date   latitude  longitude  day  month  year  labels\n",
       "0 2011-08-29  42.391623 -88.089163   29      8  2011       0\n",
       "1 2011-08-29  42.391348 -88.089163   29      8  2011       0\n",
       "2 2011-08-29  42.391022 -88.089157   29      8  2011       0\n",
       "3 2011-08-29  42.390637 -88.089158   29      8  2011       0\n",
       "4 2011-08-29  42.390410 -88.088858   29      8  2011       0"
      ]
     },
     "execution_count": 69,
     "metadata": {},
     "output_type": "execute_result"
    }
   ],
   "source": [
    "df_spray.head()"
   ]
  },
  {
   "cell_type": "code",
   "execution_count": 70,
   "metadata": {},
   "outputs": [],
   "source": [
    "df_spray = df_spray.loc[df_spray['longitude'] > -88]"
   ]
  },
  {
   "cell_type": "code",
   "execution_count": 71,
   "metadata": {},
   "outputs": [
    {
     "data": {
      "text/html": [
       "<div>\n",
       "<style scoped>\n",
       "    .dataframe tbody tr th:only-of-type {\n",
       "        vertical-align: middle;\n",
       "    }\n",
       "\n",
       "    .dataframe tbody tr th {\n",
       "        vertical-align: top;\n",
       "    }\n",
       "\n",
       "    .dataframe thead th {\n",
       "        text-align: right;\n",
       "    }\n",
       "</style>\n",
       "<table border=\"1\" class=\"dataframe\">\n",
       "  <thead>\n",
       "    <tr style=\"text-align: right;\">\n",
       "      <th></th>\n",
       "      <th></th>\n",
       "      <th>latitude</th>\n",
       "      <th>longitude</th>\n",
       "      <th>day</th>\n",
       "      <th>month</th>\n",
       "      <th>year</th>\n",
       "    </tr>\n",
       "    <tr>\n",
       "      <th>labels</th>\n",
       "      <th>date</th>\n",
       "      <th></th>\n",
       "      <th></th>\n",
       "      <th></th>\n",
       "      <th></th>\n",
       "      <th></th>\n",
       "    </tr>\n",
       "  </thead>\n",
       "  <tbody>\n",
       "    <tr>\n",
       "      <th>1</th>\n",
       "      <th>2011-09-07</th>\n",
       "      <td>2114</td>\n",
       "      <td>2114</td>\n",
       "      <td>2114</td>\n",
       "      <td>2114</td>\n",
       "      <td>2114</td>\n",
       "    </tr>\n",
       "    <tr>\n",
       "      <th>2</th>\n",
       "      <th>2013-07-17</th>\n",
       "      <td>556</td>\n",
       "      <td>556</td>\n",
       "      <td>556</td>\n",
       "      <td>556</td>\n",
       "      <td>556</td>\n",
       "    </tr>\n",
       "    <tr>\n",
       "      <th>3</th>\n",
       "      <th>2013-07-17</th>\n",
       "      <td>1646</td>\n",
       "      <td>1646</td>\n",
       "      <td>1646</td>\n",
       "      <td>1646</td>\n",
       "      <td>1646</td>\n",
       "    </tr>\n",
       "    <tr>\n",
       "      <th>4</th>\n",
       "      <th>2013-07-25</th>\n",
       "      <td>1607</td>\n",
       "      <td>1607</td>\n",
       "      <td>1607</td>\n",
       "      <td>1607</td>\n",
       "      <td>1607</td>\n",
       "    </tr>\n",
       "    <tr>\n",
       "      <th>5</th>\n",
       "      <th>2013-08-08</th>\n",
       "      <td>1195</td>\n",
       "      <td>1195</td>\n",
       "      <td>1195</td>\n",
       "      <td>1195</td>\n",
       "      <td>1195</td>\n",
       "    </tr>\n",
       "    <tr>\n",
       "      <th>6</th>\n",
       "      <th>2013-08-15</th>\n",
       "      <td>2668</td>\n",
       "      <td>2668</td>\n",
       "      <td>2668</td>\n",
       "      <td>2668</td>\n",
       "      <td>2668</td>\n",
       "    </tr>\n",
       "    <tr>\n",
       "      <th>7</th>\n",
       "      <th>2013-08-16</th>\n",
       "      <td>141</td>\n",
       "      <td>141</td>\n",
       "      <td>141</td>\n",
       "      <td>141</td>\n",
       "      <td>141</td>\n",
       "    </tr>\n",
       "    <tr>\n",
       "      <th>8</th>\n",
       "      <th>2013-08-22</th>\n",
       "      <td>845</td>\n",
       "      <td>845</td>\n",
       "      <td>845</td>\n",
       "      <td>845</td>\n",
       "      <td>845</td>\n",
       "    </tr>\n",
       "    <tr>\n",
       "      <th>9</th>\n",
       "      <th>2013-08-22</th>\n",
       "      <td>742</td>\n",
       "      <td>742</td>\n",
       "      <td>742</td>\n",
       "      <td>742</td>\n",
       "      <td>742</td>\n",
       "    </tr>\n",
       "    <tr>\n",
       "      <th>10</th>\n",
       "      <th>2013-08-29</th>\n",
       "      <td>1371</td>\n",
       "      <td>1371</td>\n",
       "      <td>1371</td>\n",
       "      <td>1371</td>\n",
       "      <td>1371</td>\n",
       "    </tr>\n",
       "    <tr>\n",
       "      <th>11</th>\n",
       "      <th>2013-08-29</th>\n",
       "      <td>931</td>\n",
       "      <td>931</td>\n",
       "      <td>931</td>\n",
       "      <td>931</td>\n",
       "      <td>931</td>\n",
       "    </tr>\n",
       "    <tr>\n",
       "      <th>12</th>\n",
       "      <th>2013-09-05</th>\n",
       "      <td>924</td>\n",
       "      <td>924</td>\n",
       "      <td>924</td>\n",
       "      <td>924</td>\n",
       "      <td>924</td>\n",
       "    </tr>\n",
       "  </tbody>\n",
       "</table>\n",
       "</div>"
      ],
      "text/plain": [
       "                   latitude  longitude   day  month  year\n",
       "labels date                                              \n",
       "1      2011-09-07      2114       2114  2114   2114  2114\n",
       "2      2013-07-17       556        556   556    556   556\n",
       "3      2013-07-17      1646       1646  1646   1646  1646\n",
       "4      2013-07-25      1607       1607  1607   1607  1607\n",
       "5      2013-08-08      1195       1195  1195   1195  1195\n",
       "6      2013-08-15      2668       2668  2668   2668  2668\n",
       "7      2013-08-16       141        141   141    141   141\n",
       "8      2013-08-22       845        845   845    845   845\n",
       "9      2013-08-22       742        742   742    742   742\n",
       "10     2013-08-29      1371       1371  1371   1371  1371\n",
       "11     2013-08-29       931        931   931    931   931\n",
       "12     2013-09-05       924        924   924    924   924"
      ]
     },
     "execution_count": 71,
     "metadata": {},
     "output_type": "execute_result"
    }
   ],
   "source": [
    "# Looking at result\n",
    "clusteres_df = df_spray.groupby(['labels','date']).count()\n",
    "clusteres_df.sort_values('date')"
   ]
  },
  {
   "cell_type": "code",
   "execution_count": 72,
   "metadata": {},
   "outputs": [],
   "source": [
    "# Defining min and max latitudes and longitudes for each cluster\n",
    "min_spray = max_spray = df_spray.groupby('labels')[['date','latitude','longitude']].min()\n",
    "max_spray = max_spray = df_spray.groupby('labels')[['latitude','longitude']].max()"
   ]
  },
  {
   "cell_type": "code",
   "execution_count": 73,
   "metadata": {},
   "outputs": [],
   "source": [
    "# Merging min and max df in one\n",
    "min_max_spray = pd.merge(min_spray,max_spray,on='labels')\n",
    "# Renaming columns to make them more understandable\n",
    "min_max_spray.columns = ['date', 'latitude_min', 'longitude_min', 'latitude_max', 'longitude_max'] "
   ]
  },
  {
   "cell_type": "code",
   "execution_count": 74,
   "metadata": {},
   "outputs": [
    {
     "data": {
      "text/html": [
       "<div>\n",
       "<style scoped>\n",
       "    .dataframe tbody tr th:only-of-type {\n",
       "        vertical-align: middle;\n",
       "    }\n",
       "\n",
       "    .dataframe tbody tr th {\n",
       "        vertical-align: top;\n",
       "    }\n",
       "\n",
       "    .dataframe thead th {\n",
       "        text-align: right;\n",
       "    }\n",
       "</style>\n",
       "<table border=\"1\" class=\"dataframe\">\n",
       "  <thead>\n",
       "    <tr style=\"text-align: right;\">\n",
       "      <th></th>\n",
       "      <th>date</th>\n",
       "      <th>latitude_min</th>\n",
       "      <th>longitude_min</th>\n",
       "      <th>latitude_max</th>\n",
       "      <th>longitude_max</th>\n",
       "    </tr>\n",
       "    <tr>\n",
       "      <th>labels</th>\n",
       "      <th></th>\n",
       "      <th></th>\n",
       "      <th></th>\n",
       "      <th></th>\n",
       "      <th></th>\n",
       "    </tr>\n",
       "  </thead>\n",
       "  <tbody>\n",
       "    <tr>\n",
       "      <th>1</th>\n",
       "      <td>2011-09-07</td>\n",
       "      <td>41.968435</td>\n",
       "      <td>-87.836560</td>\n",
       "      <td>41.997028</td>\n",
       "      <td>-87.787710</td>\n",
       "    </tr>\n",
       "    <tr>\n",
       "      <th>2</th>\n",
       "      <td>2013-07-17</td>\n",
       "      <td>41.972617</td>\n",
       "      <td>-87.871023</td>\n",
       "      <td>42.015098</td>\n",
       "      <td>-87.762165</td>\n",
       "    </tr>\n",
       "    <tr>\n",
       "      <th>3</th>\n",
       "      <td>2013-07-17</td>\n",
       "      <td>41.714098</td>\n",
       "      <td>-87.672362</td>\n",
       "      <td>41.743287</td>\n",
       "      <td>-87.629355</td>\n",
       "    </tr>\n",
       "    <tr>\n",
       "      <th>4</th>\n",
       "      <td>2013-07-25</td>\n",
       "      <td>41.939308</td>\n",
       "      <td>-87.739840</td>\n",
       "      <td>41.968097</td>\n",
       "      <td>-87.707987</td>\n",
       "    </tr>\n",
       "    <tr>\n",
       "      <th>5</th>\n",
       "      <td>2013-08-08</td>\n",
       "      <td>41.917227</td>\n",
       "      <td>-87.716847</td>\n",
       "      <td>41.946703</td>\n",
       "      <td>-87.678060</td>\n",
       "    </tr>\n",
       "    <tr>\n",
       "      <th>6</th>\n",
       "      <td>2013-08-15</td>\n",
       "      <td>41.887825</td>\n",
       "      <td>-87.818408</td>\n",
       "      <td>41.966532</td>\n",
       "      <td>-87.745625</td>\n",
       "    </tr>\n",
       "    <tr>\n",
       "      <th>7</th>\n",
       "      <td>2013-08-16</td>\n",
       "      <td>41.911375</td>\n",
       "      <td>-87.785792</td>\n",
       "      <td>41.964712</td>\n",
       "      <td>-87.746675</td>\n",
       "    </tr>\n",
       "    <tr>\n",
       "      <th>8</th>\n",
       "      <td>2013-08-22</td>\n",
       "      <td>41.873487</td>\n",
       "      <td>-87.730655</td>\n",
       "      <td>41.895475</td>\n",
       "      <td>-87.701623</td>\n",
       "    </tr>\n",
       "    <tr>\n",
       "      <th>9</th>\n",
       "      <td>2013-08-22</td>\n",
       "      <td>41.713925</td>\n",
       "      <td>-87.623142</td>\n",
       "      <td>41.765277</td>\n",
       "      <td>-87.586727</td>\n",
       "    </tr>\n",
       "    <tr>\n",
       "      <th>10</th>\n",
       "      <td>2013-08-29</td>\n",
       "      <td>41.758812</td>\n",
       "      <td>-87.741315</td>\n",
       "      <td>41.786010</td>\n",
       "      <td>-87.694118</td>\n",
       "    </tr>\n",
       "    <tr>\n",
       "      <th>11</th>\n",
       "      <td>2013-08-29</td>\n",
       "      <td>41.976280</td>\n",
       "      <td>-87.698858</td>\n",
       "      <td>41.997808</td>\n",
       "      <td>-87.660885</td>\n",
       "    </tr>\n",
       "    <tr>\n",
       "      <th>12</th>\n",
       "      <td>2013-09-05</td>\n",
       "      <td>41.976773</td>\n",
       "      <td>-87.846338</td>\n",
       "      <td>42.018907</td>\n",
       "      <td>-87.789812</td>\n",
       "    </tr>\n",
       "  </tbody>\n",
       "</table>\n",
       "</div>"
      ],
      "text/plain": [
       "             date  latitude_min  longitude_min  latitude_max  longitude_max\n",
       "labels                                                                     \n",
       "1      2011-09-07     41.968435     -87.836560     41.997028     -87.787710\n",
       "2      2013-07-17     41.972617     -87.871023     42.015098     -87.762165\n",
       "3      2013-07-17     41.714098     -87.672362     41.743287     -87.629355\n",
       "4      2013-07-25     41.939308     -87.739840     41.968097     -87.707987\n",
       "5      2013-08-08     41.917227     -87.716847     41.946703     -87.678060\n",
       "6      2013-08-15     41.887825     -87.818408     41.966532     -87.745625\n",
       "7      2013-08-16     41.911375     -87.785792     41.964712     -87.746675\n",
       "8      2013-08-22     41.873487     -87.730655     41.895475     -87.701623\n",
       "9      2013-08-22     41.713925     -87.623142     41.765277     -87.586727\n",
       "10     2013-08-29     41.758812     -87.741315     41.786010     -87.694118\n",
       "11     2013-08-29     41.976280     -87.698858     41.997808     -87.660885\n",
       "12     2013-09-05     41.976773     -87.846338     42.018907     -87.789812"
      ]
     },
     "execution_count": 74,
     "metadata": {},
     "output_type": "execute_result"
    }
   ],
   "source": [
    "min_max_spray"
   ]
  },
  {
   "cell_type": "markdown",
   "metadata": {},
   "source": [
    "### EDA - Train dataset"
   ]
  },
  {
   "cell_type": "code",
   "execution_count": 75,
   "metadata": {},
   "outputs": [
    {
     "data": {
      "text/html": [
       "<div>\n",
       "<style scoped>\n",
       "    .dataframe tbody tr th:only-of-type {\n",
       "        vertical-align: middle;\n",
       "    }\n",
       "\n",
       "    .dataframe tbody tr th {\n",
       "        vertical-align: top;\n",
       "    }\n",
       "\n",
       "    .dataframe thead th {\n",
       "        text-align: right;\n",
       "    }\n",
       "</style>\n",
       "<table border=\"1\" class=\"dataframe\">\n",
       "  <thead>\n",
       "    <tr style=\"text-align: right;\">\n",
       "      <th></th>\n",
       "      <th>date</th>\n",
       "      <th>address</th>\n",
       "      <th>species</th>\n",
       "      <th>block</th>\n",
       "      <th>street</th>\n",
       "      <th>trap</th>\n",
       "      <th>addressnumberandstreet</th>\n",
       "      <th>latitude</th>\n",
       "      <th>longitude</th>\n",
       "      <th>addressaccuracy</th>\n",
       "      <th>nummosquitos</th>\n",
       "      <th>wnvpresent</th>\n",
       "      <th>day</th>\n",
       "      <th>month</th>\n",
       "      <th>year</th>\n",
       "    </tr>\n",
       "  </thead>\n",
       "  <tbody>\n",
       "    <tr>\n",
       "      <th>0</th>\n",
       "      <td>2007-05-29</td>\n",
       "      <td>4100 North Oak Park Avenue, Chicago, IL 60634,...</td>\n",
       "      <td>CULEX PIPIENS/RESTUANS</td>\n",
       "      <td>41</td>\n",
       "      <td>N OAK PARK AVE</td>\n",
       "      <td>T002</td>\n",
       "      <td>4100  N OAK PARK AVE, Chicago, IL</td>\n",
       "      <td>41.954690</td>\n",
       "      <td>-87.800991</td>\n",
       "      <td>9</td>\n",
       "      <td>1</td>\n",
       "      <td>0</td>\n",
       "      <td>29</td>\n",
       "      <td>5</td>\n",
       "      <td>2007</td>\n",
       "    </tr>\n",
       "    <tr>\n",
       "      <th>1</th>\n",
       "      <td>2007-05-29</td>\n",
       "      <td>4100 North Oak Park Avenue, Chicago, IL 60634,...</td>\n",
       "      <td>CULEX RESTUANS</td>\n",
       "      <td>41</td>\n",
       "      <td>N OAK PARK AVE</td>\n",
       "      <td>T002</td>\n",
       "      <td>4100  N OAK PARK AVE, Chicago, IL</td>\n",
       "      <td>41.954690</td>\n",
       "      <td>-87.800991</td>\n",
       "      <td>9</td>\n",
       "      <td>1</td>\n",
       "      <td>0</td>\n",
       "      <td>29</td>\n",
       "      <td>5</td>\n",
       "      <td>2007</td>\n",
       "    </tr>\n",
       "    <tr>\n",
       "      <th>2</th>\n",
       "      <td>2007-05-29</td>\n",
       "      <td>6200 North Mandell Avenue, Chicago, IL 60646, USA</td>\n",
       "      <td>CULEX RESTUANS</td>\n",
       "      <td>62</td>\n",
       "      <td>N MANDELL AVE</td>\n",
       "      <td>T007</td>\n",
       "      <td>6200  N MANDELL AVE, Chicago, IL</td>\n",
       "      <td>41.994991</td>\n",
       "      <td>-87.769279</td>\n",
       "      <td>9</td>\n",
       "      <td>1</td>\n",
       "      <td>0</td>\n",
       "      <td>29</td>\n",
       "      <td>5</td>\n",
       "      <td>2007</td>\n",
       "    </tr>\n",
       "    <tr>\n",
       "      <th>3</th>\n",
       "      <td>2007-05-29</td>\n",
       "      <td>7900 West Foster Avenue, Chicago, IL 60656, USA</td>\n",
       "      <td>CULEX PIPIENS/RESTUANS</td>\n",
       "      <td>79</td>\n",
       "      <td>W FOSTER AVE</td>\n",
       "      <td>T015</td>\n",
       "      <td>7900  W FOSTER AVE, Chicago, IL</td>\n",
       "      <td>41.974089</td>\n",
       "      <td>-87.824812</td>\n",
       "      <td>8</td>\n",
       "      <td>1</td>\n",
       "      <td>0</td>\n",
       "      <td>29</td>\n",
       "      <td>5</td>\n",
       "      <td>2007</td>\n",
       "    </tr>\n",
       "    <tr>\n",
       "      <th>4</th>\n",
       "      <td>2007-05-29</td>\n",
       "      <td>7900 West Foster Avenue, Chicago, IL 60656, USA</td>\n",
       "      <td>CULEX RESTUANS</td>\n",
       "      <td>79</td>\n",
       "      <td>W FOSTER AVE</td>\n",
       "      <td>T015</td>\n",
       "      <td>7900  W FOSTER AVE, Chicago, IL</td>\n",
       "      <td>41.974089</td>\n",
       "      <td>-87.824812</td>\n",
       "      <td>8</td>\n",
       "      <td>4</td>\n",
       "      <td>0</td>\n",
       "      <td>29</td>\n",
       "      <td>5</td>\n",
       "      <td>2007</td>\n",
       "    </tr>\n",
       "  </tbody>\n",
       "</table>\n",
       "</div>"
      ],
      "text/plain": [
       "        date                                            address  \\\n",
       "0 2007-05-29  4100 North Oak Park Avenue, Chicago, IL 60634,...   \n",
       "1 2007-05-29  4100 North Oak Park Avenue, Chicago, IL 60634,...   \n",
       "2 2007-05-29  6200 North Mandell Avenue, Chicago, IL 60646, USA   \n",
       "3 2007-05-29    7900 West Foster Avenue, Chicago, IL 60656, USA   \n",
       "4 2007-05-29    7900 West Foster Avenue, Chicago, IL 60656, USA   \n",
       "\n",
       "                  species  block           street  trap  \\\n",
       "0  CULEX PIPIENS/RESTUANS     41   N OAK PARK AVE  T002   \n",
       "1          CULEX RESTUANS     41   N OAK PARK AVE  T002   \n",
       "2          CULEX RESTUANS     62    N MANDELL AVE  T007   \n",
       "3  CULEX PIPIENS/RESTUANS     79     W FOSTER AVE  T015   \n",
       "4          CULEX RESTUANS     79     W FOSTER AVE  T015   \n",
       "\n",
       "              addressnumberandstreet   latitude  longitude  addressaccuracy  \\\n",
       "0  4100  N OAK PARK AVE, Chicago, IL  41.954690 -87.800991                9   \n",
       "1  4100  N OAK PARK AVE, Chicago, IL  41.954690 -87.800991                9   \n",
       "2   6200  N MANDELL AVE, Chicago, IL  41.994991 -87.769279                9   \n",
       "3    7900  W FOSTER AVE, Chicago, IL  41.974089 -87.824812                8   \n",
       "4    7900  W FOSTER AVE, Chicago, IL  41.974089 -87.824812                8   \n",
       "\n",
       "   nummosquitos  wnvpresent  day  month  year  \n",
       "0             1           0   29      5  2007  \n",
       "1             1           0   29      5  2007  \n",
       "2             1           0   29      5  2007  \n",
       "3             1           0   29      5  2007  \n",
       "4             4           0   29      5  2007  "
      ]
     },
     "execution_count": 75,
     "metadata": {},
     "output_type": "execute_result"
    }
   ],
   "source": [
    "df_train.head()"
   ]
  },
  {
   "cell_type": "markdown",
   "metadata": {},
   "source": [
    "#### Merge df_train by date, followed by by trap"
   ]
  },
  {
   "cell_type": "code",
   "execution_count": 76,
   "metadata": {},
   "outputs": [],
   "source": [
    "df_train_groupbydate_trap = df_train.groupby(['date','trap'])"
   ]
  },
  {
   "cell_type": "code",
   "execution_count": 77,
   "metadata": {},
   "outputs": [],
   "source": [
    "def chkWNV(series):\n",
    "    return 1 if series.sum() > 0 else 0"
   ]
  },
  {
   "cell_type": "code",
   "execution_count": 78,
   "metadata": {},
   "outputs": [],
   "source": [
    "# Merge by Date, followed by Trap\n",
    "# df_train_bydate_trap = pd.DataFrame(columns=['date', 'address', 'species',\n",
    "#                                              'block', 'street', 'trap',\n",
    "#                                              'addressnumberandstreet',\n",
    "#                                              'latitude', 'longitude',\n",
    "#                                              'addressaccuracy',\n",
    "#                                              'nummosquitos', 'wnvpresent'])\n",
    "\n",
    "# for date_trap, df in df_train_groupbydate_trap:\n",
    "#     df_train_bydate_trap.loc[len(df_train_bydate_trap)] = [date_trap[0],\n",
    "#                                                            np.unique(df['address'])[0],\n",
    "#                                                            np.unique(df['species']),\n",
    "#                                                            np.unique(df['block'])[0],\n",
    "#                                                            np.unique(df['street'])[0],\n",
    "#                                                            date_trap[1], \n",
    "#                                                            np.unique(df['addressnumberandstreet'])[0], \n",
    "#                                                            np.unique(df['latitude'])[0],\n",
    "#                                                            np.unique(df['longitude'])[0],\n",
    "#                                                            np.unique(df['addressaccuracy'])[0],\n",
    "#                                                            sum(df['nummosquitos']),\n",
    "#                                                            chkWNV(df['wnvpresent'])]"
   ]
  },
  {
   "cell_type": "code",
   "execution_count": 79,
   "metadata": {},
   "outputs": [
    {
     "ename": "NameError",
     "evalue": "name 'df_train_bydate_trap' is not defined",
     "output_type": "error",
     "traceback": [
      "\u001b[1;31m---------------------------------------------------------------------------\u001b[0m",
      "\u001b[1;31mNameError\u001b[0m                                 Traceback (most recent call last)",
      "\u001b[1;32m<ipython-input-79-702bffa96f1f>\u001b[0m in \u001b[0;36m<module>\u001b[1;34m\u001b[0m\n\u001b[1;32m----> 1\u001b[1;33m \u001b[0mdf_train_bydate_trap\u001b[0m\u001b[1;33m.\u001b[0m\u001b[0mhead\u001b[0m\u001b[1;33m(\u001b[0m\u001b[1;33m)\u001b[0m\u001b[1;33m\u001b[0m\u001b[1;33m\u001b[0m\u001b[0m\n\u001b[0m",
      "\u001b[1;31mNameError\u001b[0m: name 'df_train_bydate_trap' is not defined"
     ]
    }
   ],
   "source": [
    "df_train_bydate_trap.head()"
   ]
  },
  {
   "cell_type": "code",
   "execution_count": null,
   "metadata": {},
   "outputs": [],
   "source": [
    "df_train_bydate_trap['species'] = df_train_bydate_trap['species'].apply(','.join)"
   ]
  },
  {
   "cell_type": "code",
   "execution_count": null,
   "metadata": {},
   "outputs": [],
   "source": [
    "df_train_bydate_trap['iswnvspecies'] = df_train_bydate_trap['species'].str.contains('PIPIENS|RESTUANS').astype(int)"
   ]
  },
  {
   "cell_type": "code",
   "execution_count": null,
   "metadata": {},
   "outputs": [],
   "source": [
    "df_train_bydate_trap.head()"
   ]
  },
  {
   "cell_type": "markdown",
   "metadata": {},
   "source": [
    "---"
   ]
  },
  {
   "cell_type": "code",
   "execution_count": null,
   "metadata": {},
   "outputs": [],
   "source": [
    "# Number of caught mosquitos by presence of virus\n",
    "df_train.boxplot(by='wnvpresent',column='nummosquitos',figsize=(16,9));\n",
    "# Virus is present if number of mosquitos is high\n",
    "\n",
    "# These test results are organized in such a way that when the number of mosquitos exceed 50, \n",
    "# they are split into another record (another row in the dataset), \n",
    "# such that the number of mosquitos are capped at 50."
   ]
  },
  {
   "cell_type": "code",
   "execution_count": null,
   "metadata": {},
   "outputs": [],
   "source": [
    "# Number of mosquitos by species of mosquitos\n",
    "df_train.boxplot(by='species',column='nummosquitos',rot=25, figsize=(16,9));\n",
    "# 2 species of mosquitos caught much frequently than others - Culex Pipiens and Culex Restuans\n",
    "\n",
    "# Records exist only when a particular species of mosquitos is found at a certain trap \n",
    "# at a certain time. Date: date that the WNV test is performed"
   ]
  },
  {
   "cell_type": "code",
   "execution_count": null,
   "metadata": {},
   "outputs": [],
   "source": [
    "# NumMosquitos and WnvPresent by species\n",
    "df_train.groupby('species')[['nummosquitos','wnvpresent']].sum()\n",
    "# 2 species cought much frequantly and they contain virus - Also, Culex Pipiens and Culex Restuans\n",
    "# ? does other species are rare in the area\n",
    "# ? does it mean that other species can have the virus but due to their rareness we don't see it"
   ]
  },
  {
   "cell_type": "code",
   "execution_count": null,
   "metadata": {
    "scrolled": false
   },
   "outputs": [],
   "source": [
    "df_train['trap'].value_counts()"
   ]
  },
  {
   "cell_type": "code",
   "execution_count": null,
   "metadata": {},
   "outputs": [],
   "source": [
    "df_train['species'].value_counts()"
   ]
  },
  {
   "cell_type": "code",
   "execution_count": null,
   "metadata": {},
   "outputs": [],
   "source": [
    "pd.pivot_table(df_train, index='species', values='wnvpresent')"
   ]
  },
  {
   "cell_type": "code",
   "execution_count": null,
   "metadata": {},
   "outputs": [],
   "source": [
    "df_train.groupby('species')['wnvpresent'].mean().sort_values(ascending=False).plot.bar(figsize=(16,9));"
   ]
  },
  {
   "cell_type": "code",
   "execution_count": null,
   "metadata": {},
   "outputs": [],
   "source": [
    "# Get top 10 traps with highest occurance of West Nile Virus\n",
    "top10 = df_train.groupby('trap')['wnvpresent','nummosquitos'].mean().sort_values(by='wnvpresent',ascending=False)\n",
    "top10.head(10)"
   ]
  },
  {
   "cell_type": "code",
   "execution_count": null,
   "metadata": {},
   "outputs": [],
   "source": [
    "plt.figure(figsize=(16,9))\n",
    "plt.hist(data=df_train,x='nummosquitos');"
   ]
  },
  {
   "cell_type": "markdown",
   "metadata": {},
   "source": [
    "### EDA - Combined dataset"
   ]
  },
  {
   "cell_type": "code",
   "execution_count": 81,
   "metadata": {},
   "outputs": [
    {
     "ename": "NameError",
     "evalue": "name 'df_train_spray' is not defined",
     "output_type": "error",
     "traceback": [
      "\u001b[1;31m---------------------------------------------------------------------------\u001b[0m",
      "\u001b[1;31mNameError\u001b[0m                                 Traceback (most recent call last)",
      "\u001b[1;32m<ipython-input-81-05f313f8b86b>\u001b[0m in \u001b[0;36m<module>\u001b[1;34m\u001b[0m\n\u001b[0;32m      1\u001b[0m \u001b[1;31m# Merging weather and train df\u001b[0m\u001b[1;33m\u001b[0m\u001b[1;33m\u001b[0m\u001b[1;33m\u001b[0m\u001b[0m\n\u001b[1;32m----> 2\u001b[1;33m \u001b[0mmain_df\u001b[0m \u001b[1;33m=\u001b[0m \u001b[0mpd\u001b[0m\u001b[1;33m.\u001b[0m\u001b[0mmerge\u001b[0m\u001b[1;33m(\u001b[0m\u001b[0mdf_train_spray\u001b[0m\u001b[1;33m,\u001b[0m\u001b[0mweather_df\u001b[0m\u001b[1;33m,\u001b[0m\u001b[0mon\u001b[0m\u001b[1;33m=\u001b[0m\u001b[1;34m'date'\u001b[0m\u001b[1;33m)\u001b[0m\u001b[1;33m\u001b[0m\u001b[1;33m\u001b[0m\u001b[0m\n\u001b[0m\u001b[0;32m      3\u001b[0m \u001b[0mmain_df\u001b[0m\u001b[1;33m.\u001b[0m\u001b[0mhead\u001b[0m\u001b[1;33m(\u001b[0m\u001b[1;33m)\u001b[0m\u001b[1;33m\u001b[0m\u001b[1;33m\u001b[0m\u001b[0m\n",
      "\u001b[1;31mNameError\u001b[0m: name 'df_train_spray' is not defined"
     ]
    }
   ],
   "source": [
    "# Merging weather and train df\n",
    "main_df = pd.merge(df_train_spray,weather_df,on='date')\n",
    "main_df.head()"
   ]
  },
  {
   "cell_type": "code",
   "execution_count": null,
   "metadata": {},
   "outputs": [],
   "source": [
    "# Creating new column with years\n",
    "main_df['year'] = main_df.date.map(lambda x: x.year)"
   ]
  },
  {
   "cell_type": "code",
   "execution_count": null,
   "metadata": {},
   "outputs": [],
   "source": [
    "main_df['nummosquitos'] = main_df.loc[:,'nummosquitos'].astype('int')\n",
    "main_df['wnvpresent'] = main_df['wnvpresent'].astype('int')"
   ]
  },
  {
   "cell_type": "code",
   "execution_count": null,
   "metadata": {},
   "outputs": [],
   "source": [
    "main_df['is_spray'] = main_df['is_spray'].map({True:1,False:0})"
   ]
  },
  {
   "cell_type": "code",
   "execution_count": null,
   "metadata": {},
   "outputs": [],
   "source": [
    "main_df['wnvpresent'].value_counts(normalize=True)"
   ]
  },
  {
   "cell_type": "code",
   "execution_count": null,
   "metadata": {},
   "outputs": [],
   "source": [
    "year_numb = main_df.groupby('year')['nummosquitos'].sum()\n",
    "plt.bar(year_numb.index,year_numb.values)\n",
    "plt.title('Number of mosquitos caught by year');"
   ]
  },
  {
   "cell_type": "markdown",
   "metadata": {},
   "source": [
    "## Feature Engineering"
   ]
  },
  {
   "cell_type": "code",
   "execution_count": null,
   "metadata": {},
   "outputs": [],
   "source": [
    "# Creating a new column is_spray and setting all cells as False\n",
    "df_train['is_spray'] = False"
   ]
  },
  {
   "cell_type": "code",
   "execution_count": null,
   "metadata": {},
   "outputs": [],
   "source": [
    "# Setting time delta as 30 days. The spray lasts\n",
    "# A typical mosquito treatment lasts about 30 days. \n",
    "# https://www.callnorthwest.com/2019/05/how-long-does-a-mosquito-treatment-last/\n",
    "tdelta_min = dt.timedelta(days=0)\n",
    "tdelta_max = dt.timedelta(days=30)\n",
    "# Creating a new DataFrame\n",
    "is_spray_df = pd.DataFrame(columns=df_train.columns)\n",
    "# Looping through df with min,max latitudes and longitudes \n",
    "for i,spray in min_max_spray.iterrows():\n",
    "    long_min = spray['longitude_min']\n",
    "    long_max = spray['longitude_max']\n",
    "    lat_min = spray['latitude_min']\n",
    "    lat_max = spray['latitude_max']\n",
    "# Looping through train df, checking is latitudes and longitudes lay between min and max\n",
    "# and date is the same date or date +30 days of spraying \n",
    "    for j,row in df_train.iterrows():\n",
    "        if ((lat_min <= row['latitude'] <= lat_max) &\n",
    "            (long_min <= row['longitude'] <= long_max) &\n",
    "            (tdelta_min < (row['date']-spray['date']) <=tdelta_max)):\n",
    "            row['is_spray'] = True\n",
    "            is_spray_df = is_spray_df.append(row)"
   ]
  },
  {
   "cell_type": "code",
   "execution_count": 82,
   "metadata": {},
   "outputs": [
    {
     "ename": "NameError",
     "evalue": "name 'is_spray_df' is not defined",
     "output_type": "error",
     "traceback": [
      "\u001b[1;31m---------------------------------------------------------------------------\u001b[0m",
      "\u001b[1;31mNameError\u001b[0m                                 Traceback (most recent call last)",
      "\u001b[1;32m<ipython-input-82-702f18ffe178>\u001b[0m in \u001b[0;36m<module>\u001b[1;34m\u001b[0m\n\u001b[0;32m      1\u001b[0m \u001b[1;31m# Joining new df with spray info with train data\u001b[0m\u001b[1;33m\u001b[0m\u001b[1;33m\u001b[0m\u001b[1;33m\u001b[0m\u001b[0m\n\u001b[1;32m----> 2\u001b[1;33m \u001b[0mdf_train_spray\u001b[0m \u001b[1;33m=\u001b[0m \u001b[0mpd\u001b[0m\u001b[1;33m.\u001b[0m\u001b[0mconcat\u001b[0m\u001b[1;33m(\u001b[0m\u001b[1;33m[\u001b[0m\u001b[0mdf_train\u001b[0m\u001b[1;33m,\u001b[0m\u001b[0mis_spray_df\u001b[0m\u001b[1;33m]\u001b[0m\u001b[1;33m)\u001b[0m\u001b[1;33m\u001b[0m\u001b[1;33m\u001b[0m\u001b[0m\n\u001b[0m",
      "\u001b[1;31mNameError\u001b[0m: name 'is_spray_df' is not defined"
     ]
    }
   ],
   "source": [
    "# Joining new df with spray info with train data\n",
    "df_train_spray = pd.concat([df_train,is_spray_df])"
   ]
  },
  {
   "cell_type": "code",
   "execution_count": null,
   "metadata": {},
   "outputs": [],
   "source": [
    "# Dropping rows which were change in is_spray to True\n",
    "df_train_spray = df_train_spray.drop_duplicates(subset=['date', 'address', 'species', \n",
    "        'block', 'street', 'trap','addressnumberandstreet', 'latitude', 'longitude', \n",
    "        'addressaccuracy','nummosquitos', 'wnvpresent'],keep='last')"
   ]
  },
  {
   "cell_type": "code",
   "execution_count": null,
   "metadata": {},
   "outputs": [],
   "source": [
    "# Checking number of rows in train which were sprayed\n",
    "df_train_spray['is_spray'].value_counts()"
   ]
  },
  {
   "cell_type": "code",
   "execution_count": null,
   "metadata": {},
   "outputs": [],
   "source": [
    "spray_traps = main_df[main_df['is_spray']==True]\n",
    "spray_no_traps = main_df[main_df['is_spray']==False]\n",
    "\n",
    "lats_spray = spray_traps['latitude']\n",
    "longs_spray = spray_traps['longitude']\n",
    "lats_no_spray = spray_no_traps['latitude']\n",
    "longs_no_spray = spray_no_traps['longitude']\n",
    "\n",
    "f.gen_map()\n",
    "\n",
    "plt.scatter(x=longs_no_spray, y=lats_no_spray, c='b', s=20, marker='x',label='No spray affected')\n",
    "plt.scatter(x=longs_spray, y=lats_spray, c='r', s=25,label='Spray affected')\n",
    "plt.title('Traps which were and were not affected by spray\\n',fontsize=18)\n",
    "plt.legend()\n",
    "plt.show();"
   ]
  },
  {
   "cell_type": "code",
   "execution_count": null,
   "metadata": {},
   "outputs": [],
   "source": [
    "spray_traps = main_df[main_df['is_spray']==True]\n",
    "spray_no_traps = main_df[main_df['is_spray']==False]\n",
    "\n",
    "lats_spray = spray_traps['latitude']\n",
    "longs_spray = spray_traps['longitude']\n",
    "lats_no_spray = spray_no_traps['latitude']\n",
    "longs_no_spray = spray_no_traps['longitude']\n",
    "size_num_mosq_spray = spray_traps['nummosquitos']\n",
    "size_num_mosq_no_spray = spray_no_traps['nummosquitos']\n",
    "# generate plot\n",
    "f.gen_map()\n",
    "\n",
    "plt.scatter(x=longs_no_spray, y=lats_no_spray, c='b', s=size_num_mosq_spray, label='No spray affected',alpha=0.3)\n",
    "plt.scatter(x=longs_spray, y=lats_spray, c='r', s=size_num_mosq_no_spray,label='Spray affected',alpha=0.3)\n",
    "plt.title('Traps which were and were not affected by spray\\n',fontsize=18)\n",
    "plt.legend()\n",
    "plt.show()"
   ]
  },
  {
   "cell_type": "code",
   "execution_count": null,
   "metadata": {},
   "outputs": [],
   "source": [
    "spray_traps = main_df[main_df['is_spray']==True]\n",
    "spray_no_traps = main_df[main_df['is_spray']==False]"
   ]
  },
  {
   "cell_type": "code",
   "execution_count": null,
   "metadata": {},
   "outputs": [],
   "source": [
    "# Number of mosq caught with spray applied\n",
    "spray_traps[['wnvpresent','nummosquitos']].describe().T"
   ]
  },
  {
   "cell_type": "code",
   "execution_count": null,
   "metadata": {},
   "outputs": [],
   "source": [
    "# Number of mosq caught without spray applied\n",
    "spray_no_traps[['wnvpresent','nummosquitos']].describe().T\n",
    "# We see that number of mosquitos large whrn spray was applied, the resion can be \n",
    "# the seasonal spraying - only those days when number of mosquitos is high\n",
    "# let's investigate it"
   ]
  },
  {
   "cell_type": "code",
   "execution_count": null,
   "metadata": {},
   "outputs": [],
   "source": [
    "# Let's compare number of mosq in places where spray was present \n",
    "# and was not present in the same dates.\n",
    "\n",
    "# For this no spray df should be filtered by days\n",
    "# getting unique dates of spray\n",
    "days = np.unique(spray_traps['date'].values)\n",
    "# creating a new df\n",
    "spray_other_location = pd.DataFrame()\n",
    "# iter though days and no spray df\n",
    "for day in days:\n",
    "    for i,row in spray_no_traps.iterrows():\n",
    "#         checking if date is the same\n",
    "        if row['date'] == day:\n",
    "#         if True - adding to new df\n",
    "            spray_other_location = spray_other_location.append(row)"
   ]
  },
  {
   "cell_type": "code",
   "execution_count": null,
   "metadata": {},
   "outputs": [],
   "source": [
    "# cheking new df\n",
    "spray_other_location.head(2)"
   ]
  },
  {
   "cell_type": "code",
   "execution_count": null,
   "metadata": {},
   "outputs": [],
   "source": [
    "# let's visualize number of mosq in dates when spray were applied in spray and no spray locations\n",
    "plt.figure(figsize=(15,6))\n",
    "date_n_mosq_spr = spray_traps.groupby(['date'])['nummosquitos'].sum()\n",
    "date_n_mosq_no_spr = spray_other_location.groupby(['date'])['nummosquitos'].sum()\n",
    "plt.plot(date_n_mosq_spr.index,date_n_mosq_spr.values,label='Spray location')\n",
    "plt.plot(date_n_mosq_no_spr.index,date_n_mosq_no_spr.values,label='Not spray location')\n",
    "plt.legend(prop={'size': 15});"
   ]
  },
  {
   "cell_type": "code",
   "execution_count": null,
   "metadata": {},
   "outputs": [],
   "source": [
    "# Visualisation of temporal trand of number of mosquitoes \n",
    "main_df['month'] = main_df['date'].map(lambda x: x.month)\n",
    "num_mosq_month = main_df.groupby(['year','month'])['nummosquitos'].sum().reset_index(level=[0,1])\n",
    "plt.figure(figsize=(12,6))\n",
    "plt.plot(num_mosq_month['nummosquitos'])\n",
    "plt.xticks(range(len(num_mosq_month)),\n",
    "labels=list(num_mosq_month['month'].astype('str')+' '+num_mosq_month['year'].astype('str')),\n",
    "          rotation='vertical')\n",
    "plt.title('Temporal changes in the number of mosquitoes');"
   ]
  },
  {
   "cell_type": "markdown",
   "metadata": {},
   "source": [
    "From the linegraph it can be seen that the train dataset contain information only about 5th,6th,7th,8th,9th and 10th months of 2007,2009,2011 and 2013 years.\n",
    "\n",
    "The biggest numbers of mosquitoes are in 7th and 8th each year."
   ]
  },
  {
   "cell_type": "code",
   "execution_count": null,
   "metadata": {},
   "outputs": [],
   "source": [
    "num_mosq_month = main_df.groupby(['year','month'])['wnvpresent'].sum().reset_index(level=[0,1])\n",
    "plt.figure(figsize=(12,6))\n",
    "plt.plot(num_mosq_month['wnvpresent'])\n",
    "plt.xticks(range(len(num_mosq_month)),\n",
    "labels=list(num_mosq_month['month'].astype('str')+' '+num_mosq_month['year'].astype('str')),\n",
    "          rotation='vertical')\n",
    "plt.title('Temporal changes in the number of detected virus by month and year');"
   ]
  },
  {
   "cell_type": "markdown",
   "metadata": {},
   "source": [
    "The linegraph illustrate that high number of virus was datacted in month 8."
   ]
  },
  {
   "cell_type": "code",
   "execution_count": null,
   "metadata": {},
   "outputs": [],
   "source": [
    "# distribution number of mosquitos with\\without spray applied\n",
    "sns.distplot(spray_traps['nummosquitos'])\n",
    "sns.distplot(spray_no_traps['nummosquitos'])"
   ]
  },
  {
   "cell_type": "code",
   "execution_count": null,
   "metadata": {},
   "outputs": [],
   "source": [
    "plt.figure(figsize=(17,6))\n",
    "plt.bar(range(len(main_df['block'].unique())), main_df.groupby('block')['wnvpresent'].sum())\n",
    "plt.xlabel('Block number')\n",
    "plt.ylabel('Number of virus detected')\n",
    "plt.title('Number of virus detected by blocks')\n",
    "plt.xticks(range(len(main_df['block'].unique())),labels=sorted(main_df['block'].unique()));"
   ]
  },
  {
   "cell_type": "code",
   "execution_count": null,
   "metadata": {},
   "outputs": [],
   "source": [
    "plt.figure(figsize=(17,6))\n",
    "plt.bar(range(len(main_df['block'].unique())), main_df.groupby('block')['nummosquitos'].sum())\n",
    "plt.xlabel('Block number')\n",
    "plt.ylabel('Number of mosquitoes detected')\n",
    "plt.title('Number of mosquitoes detected by blocks')\n",
    "plt.xticks(range(len(main_df['block'].unique())),labels=sorted(main_df['block'].unique()));"
   ]
  },
  {
   "cell_type": "markdown",
   "metadata": {},
   "source": [
    "It can be seen that 10th block have the anomaly high number of virus detected and number of mosquitoes."
   ]
  },
  {
   "cell_type": "code",
   "execution_count": null,
   "metadata": {},
   "outputs": [],
   "source": [
    "plt.figure(figsize=(25,17))\n",
    "sns.heatmap(main_df.corr(),annot=True,center=0);"
   ]
  },
  {
   "cell_type": "code",
   "execution_count": null,
   "metadata": {},
   "outputs": [],
   "source": [
    "fig=plt.figure(figsize=(8,6))\n",
    "plt.scatter(main_df['nummosquitos'],main_df['tavg_x'])\n",
    "plt.title('Number of mosquitos caught with regards \\nof avrage temperature',fontsize=16)\n",
    "plt.xlabel('Number of mosquitos')\n",
    "plt.ylabel('Temperature (C)');"
   ]
  },
  {
   "cell_type": "code",
   "execution_count": null,
   "metadata": {},
   "outputs": [],
   "source": [
    "# Now let's compare number of mosq there spray and no spray with same dates\n",
    "# Number of mosq caught with spray applied\n",
    "grouped_spray = spray_traps.groupby(['date','trap'])[['wnvpresent','nummosquitos']].sum()\n",
    "grouped_spray[['wnvpresent','nummosquitos']].describe().T"
   ]
  },
  {
   "cell_type": "code",
   "execution_count": null,
   "metadata": {},
   "outputs": [],
   "source": [
    "# Number of mosq caught with spray not applied\n",
    "grouped_no_spray = spray_other_location.groupby(['date','trap'])[['wnvpresent','nummosquitos']].sum()\n",
    "grouped_no_spray[['wnvpresent','nummosquitos']].describe().T"
   ]
  },
  {
   "cell_type": "code",
   "execution_count": null,
   "metadata": {},
   "outputs": [],
   "source": [
    "# Plotting distribution the number of mosquitoes with regards to wet bulb from station 1\n",
    "fig=plt.figure(figsize=(8,6))\n",
    "plt.scatter(main_df['nummosquitos'],main_df['wetbulb_x'])\n",
    "plt.title('Number of mosquitos caught with regards \\nof wet-bulb temperature',fontsize=16)\n",
    "plt.xlabel('Number of mosquitos')\n",
    "plt.ylabel('wet-bulb temperature (C)');"
   ]
  },
  {
   "cell_type": "code",
   "execution_count": null,
   "metadata": {},
   "outputs": [],
   "source": [
    "# Plotting the same graph but taken information of wet bulb from station 2\n",
    "fig=plt.figure(figsize=(8,6))\n",
    "plt.scatter(main_df['nummosquitos'],main_df['wetbulb_y'])\n",
    "plt.title('Number of mosquitos caught with regards \\nof wet-bulb temperature',fontsize=16)\n",
    "plt.xlabel('Number of mosquitos')\n",
    "plt.ylabel('wet-bulb temperature (C)');\n",
    "# The scatterplots showen that the information from station 1 is incomplete,\n",
    "# let's explore the information from station 1 and station 2"
   ]
  },
  {
   "cell_type": "code",
   "execution_count": null,
   "metadata": {
    "scrolled": false
   },
   "outputs": [],
   "source": [
    "not_str_df = main_df.select_dtypes(exclude=['object','datetime'])\n",
    "boxplots(not_str_df.columns)"
   ]
  },
  {
   "cell_type": "markdown",
   "metadata": {},
   "source": [
    "As two bunch of graphs above have shown, weather data from station 1 and station 2 is very similar.\n",
    "\n",
    "The scatterplots showed that despite linear relationships between the weather information, there are some outliers or anomalies. \n",
    "The boxplots illustrated that those anomalies and outliers were recorded on station 1. The decision is to fill all NA of station 2 with info from station 1 and drow all columns from station 1."
   ]
  },
  {
   "cell_type": "markdown",
   "metadata": {},
   "source": [
    "### Weather EDA"
   ]
  },
  {
   "cell_type": "code",
   "execution_count": 2,
   "metadata": {},
   "outputs": [
    {
     "ename": "NameError",
     "evalue": "name 'weather_df' is not defined",
     "output_type": "error",
     "traceback": [
      "\u001b[1;31m---------------------------------------------------------------------------\u001b[0m",
      "\u001b[1;31mNameError\u001b[0m                                 Traceback (most recent call last)",
      "\u001b[1;32m<ipython-input-2-c81911d30958>\u001b[0m in \u001b[0;36m<module>\u001b[1;34m\u001b[0m\n\u001b[1;32m----> 1\u001b[1;33m \u001b[0mnumeric_df\u001b[0m \u001b[1;33m=\u001b[0m \u001b[0mweather_df\u001b[0m\u001b[1;33m.\u001b[0m\u001b[0m_get_numeric_data\u001b[0m\u001b[1;33m(\u001b[0m\u001b[1;33m)\u001b[0m\u001b[1;33m\u001b[0m\u001b[1;33m\u001b[0m\u001b[0m\n\u001b[0m\u001b[0;32m      2\u001b[0m \u001b[0mwnv_matrix\u001b[0m \u001b[1;33m=\u001b[0m \u001b[0mnp\u001b[0m\u001b[1;33m.\u001b[0m\u001b[0mabs\u001b[0m\u001b[1;33m(\u001b[0m\u001b[0mnumeric_df\u001b[0m\u001b[1;33m.\u001b[0m\u001b[0mcorr\u001b[0m\u001b[1;33m(\u001b[0m\u001b[1;33m)\u001b[0m\u001b[1;33m)\u001b[0m\u001b[1;33m\u001b[0m\u001b[1;33m\u001b[0m\u001b[0m\n\u001b[0;32m      3\u001b[0m \u001b[0mprint\u001b[0m\u001b[1;33m(\u001b[0m\u001b[0mwnv_matrix\u001b[0m\u001b[1;33m[\u001b[0m\u001b[1;34m'tavg_x'\u001b[0m\u001b[1;33m]\u001b[0m\u001b[1;33m.\u001b[0m\u001b[0msort_values\u001b[0m\u001b[1;33m(\u001b[0m\u001b[0mascending\u001b[0m\u001b[1;33m=\u001b[0m\u001b[1;32mFalse\u001b[0m\u001b[1;33m)\u001b[0m\u001b[1;33m)\u001b[0m\u001b[1;33m\u001b[0m\u001b[1;33m\u001b[0m\u001b[0m\n",
      "\u001b[1;31mNameError\u001b[0m: name 'weather_df' is not defined"
     ]
    }
   ],
   "source": [
    "numeric_df = weather_df._get_numeric_data()\n",
    "wnv_matrix = np.abs(numeric_df.corr())\n",
    "print(wnv_matrix['tavg_x'].sort_values(ascending=False))"
   ]
  },
  {
   "cell_type": "code",
   "execution_count": 1,
   "metadata": {},
   "outputs": [
    {
     "ename": "NameError",
     "evalue": "name 'numeric_df' is not defined",
     "output_type": "error",
     "traceback": [
      "\u001b[1;31m---------------------------------------------------------------------------\u001b[0m",
      "\u001b[1;31mNameError\u001b[0m                                 Traceback (most recent call last)",
      "\u001b[1;32m<ipython-input-1-e06c3d0e09e3>\u001b[0m in \u001b[0;36m<module>\u001b[1;34m\u001b[0m\n\u001b[1;32m----> 1\u001b[1;33m \u001b[0mcorr_mat\u001b[0m \u001b[1;33m=\u001b[0m \u001b[0mnumeric_df\u001b[0m\u001b[1;33m.\u001b[0m\u001b[0mcorr\u001b[0m\u001b[1;33m(\u001b[0m\u001b[1;33m)\u001b[0m\u001b[1;33m.\u001b[0m\u001b[0mabs\u001b[0m\u001b[1;33m(\u001b[0m\u001b[1;33m)\u001b[0m\u001b[1;33m\u001b[0m\u001b[1;33m\u001b[0m\u001b[0m\n\u001b[0m\u001b[0;32m      2\u001b[0m \u001b[0mweather_mat\u001b[0m \u001b[1;33m=\u001b[0m \u001b[0mround\u001b[0m\u001b[1;33m(\u001b[0m\u001b[0mcorr_mat\u001b[0m\u001b[1;33m.\u001b[0m\u001b[0munstack\u001b[0m\u001b[1;33m(\u001b[0m\u001b[1;33m)\u001b[0m\u001b[1;33m,\u001b[0m \u001b[1;36m4\u001b[0m\u001b[1;33m)\u001b[0m\u001b[1;33m\u001b[0m\u001b[1;33m\u001b[0m\u001b[0m\n\u001b[0;32m      3\u001b[0m \u001b[0mweather_mat\u001b[0m\u001b[1;33m.\u001b[0m\u001b[0msort_values\u001b[0m\u001b[1;33m(\u001b[0m\u001b[0mascending\u001b[0m \u001b[1;33m=\u001b[0m \u001b[1;32mFalse\u001b[0m\u001b[1;33m)\u001b[0m\u001b[1;33m.\u001b[0m\u001b[0mdrop_duplicates\u001b[0m\u001b[1;33m(\u001b[0m\u001b[1;33m)\u001b[0m\u001b[1;33m\u001b[0m\u001b[1;33m\u001b[0m\u001b[0m\n",
      "\u001b[1;31mNameError\u001b[0m: name 'numeric_df' is not defined"
     ]
    }
   ],
   "source": [
    "corr_mat = numeric_df.corr().abs()\n",
    "weather_mat = round(corr_mat.unstack(), 4)\n",
    "weather_mat.sort_values(ascending = False).drop_duplicates()"
   ]
  },
  {
   "cell_type": "code",
   "execution_count": 84,
   "metadata": {},
   "outputs": [
    {
     "data": {
      "text/plain": [
       "<seaborn.axisgrid.PairGrid at 0x11b6deb9f48>"
      ]
     },
     "execution_count": 84,
     "metadata": {},
     "output_type": "execute_result"
    },
    {
     "data": {
      "image/png": "[encoded data removed]",
      "text/plain": [
       "<Figure size 180x720 with 4 Axes>"
      ]
     },
     "metadata": {
      "needs_background": "light"
     },
     "output_type": "display_data"
    }
   ],
   "source": [
    "sns.pairplot(weather_df, y_vars= ['resultspeed_x', 'avgspeed_x', 'preciptotal_x', 'sealevel_x'],\n",
    "             x_vars=['tavg_x'])"
   ]
  },
  {
   "cell_type": "code",
   "execution_count": 90,
   "metadata": {},
   "outputs": [
    {
     "data": {
      "image/png": "[encoded data removed]",
      "text/plain": [
       "<Figure size 1080x1080 with 42 Axes>"
      ]
     },
     "metadata": {
      "needs_background": "light"
     },
     "output_type": "display_data"
    }
   ],
   "source": [
    "numeric_df.hist(figsize=(15,15));"
   ]
  },
  {
   "cell_type": "code",
   "execution_count": null,
   "metadata": {},
   "outputs": [],
   "source": [
    "# Setting up the size of the figure\n",
    "plt.figure(figsize=(15,15))\n",
    "# Insert the title \n",
    "plt.title(\"Weather Correlation Matrix\", fontsize=22) \n",
    "corr = numeric_df.corr()\n",
    "# Set up mask to be True to hide upper triangle\n",
    "mask = np.zeros_like(corr, dtype=np.bool)\n",
    "mask[np.triu_indices_from(mask)] = True\n",
    "heat_map = sns.heatmap(corr,mask=mask,annot=True,vmin=-1,vmax=1,cmap=\"Reds\")"
   ]
  }
 ],
 "metadata": {
  "colab": {
   "collapsed_sections": [],
   "name": "Untitled0.ipynb",
   "provenance": [],
   "toc_visible": true
  },
  "kernelspec": {
   "display_name": "Python 3",
   "language": "python",
   "name": "python3"
  },
  "language_info": {
   "codemirror_mode": {
    "name": "ipython",
    "version": 3
   },
   "file_extension": ".py",
   "mimetype": "text/x-python",
   "name": "python",
   "nbconvert_exporter": "python",
   "pygments_lexer": "ipython3",
   "version": "3.7.6"
  }
 },
 "nbformat": 4,
 "nbformat_minor": 1
}
